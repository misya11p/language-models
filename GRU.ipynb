{
 "cells": [
  {
   "cell_type": "markdown",
   "metadata": {},
   "source": [
    "# GRU\n",
    "\n",
    "*Gated Recurent Unit*\n",
    "\n",
    "ゲート付き回帰型ユニット, ゲート付きRNN\n",
    "\n",
    "RNN層にゲートと呼ばれる機構を追加して長期的な文脈が保持できるようになったもの。  \n",
    "通常のRNNは長期的な文脈の保持が苦手とされている。"
   ]
  },
  {
   "cell_type": "code",
   "execution_count": 1,
   "metadata": {},
   "outputs": [],
   "source": [
    "import os; os.environ['TF_CPP_MIN_LOG_LEVEL'] = '2'\n",
    "import random\n",
    "from typing import List\n",
    "\n",
    "import tensorflow as tf\n",
    "import tensorflow_datasets as tfds\n",
    "import sentencepiece as spm\n",
    "import torch\n",
    "from torch import nn, optim\n",
    "import torch.nn.functional as F\n",
    "from torch.utils.data import Dataset, DataLoader\n",
    "from torch.nn.utils.rnn import pad_sequence\n",
    "from torchtext import transforms\n",
    "from torchtext.vocab import build_vocab_from_iterator\n",
    "from torchvision.transforms import Compose\n",
    "from dlprog import train_progress"
   ]
  },
  {
   "cell_type": "markdown",
   "metadata": {},
   "source": [
    "\n",
    "---\n",
    "\n",
    "## ゲート\n",
    "\n",
    "あるデータをどれくらい通すかを決める機構。0-1の値を出力する。  \n",
    "NNで実装してみる。"
   ]
  },
  {
   "cell_type": "code",
   "execution_count": 2,
   "metadata": {},
   "outputs": [],
   "source": [
    "class Gate(nn.Module):\n",
    "    def __init__(self, input_size):\n",
    "        super().__init__()\n",
    "        self.net = nn.Sequential(\n",
    "            nn.Linear(input_size, input_size),\n",
    "            nn.Sigmoid()\n",
    "        )\n",
    "\n",
    "    def forward(self, x):\n",
    "        return self.net(x)"
   ]
  },
  {
   "cell_type": "markdown",
   "metadata": {},
   "source": [
    "入力されたデータを線形変化し、sigmoid関数に入力するだけ。  \n",
    "これを元のデータに掛けることで、元のデータの一部を**通した**ということになる。"
   ]
  },
  {
   "cell_type": "code",
   "execution_count": 3,
   "metadata": {},
   "outputs": [
    {
     "name": "stdout",
     "output_type": "stream",
     "text": [
      "input: tensor([0.3494, 0.8851, 1.5004])\n",
      "gate: tensor([0.3011, 0.5463, 0.2664], grad_fn=<SigmoidBackward0>)\n",
      "output: tensor([0.1052, 0.4835, 0.3997], grad_fn=<MulBackward0>)\n"
     ]
    }
   ],
   "source": [
    "input_size = 3\n",
    "gate = Gate(input_size)\n",
    "\n",
    "x = torch.randn(input_size)\n",
    "y = x * gate(x)\n",
    "print('input:', x)\n",
    "print('gate:', gate(x))\n",
    "print('output:', y)"
   ]
  },
  {
   "cell_type": "markdown",
   "metadata": {},
   "source": [
    "\n",
    "---\n",
    "\n",
    "## GRUの構造\n",
    "\n",
    "GRUの構造とその利点を見ていこう。"
   ]
  },
  {
   "cell_type": "markdown",
   "metadata": {},
   "source": [
    "一旦RNNの復習をしよう。\n",
    "\n",
    "\n",
    "RNNはある時間$t$の入力$x_t$に対して以下のような演算で出力値$h_t$を決定する。\n",
    "\n",
    "$$\n",
    "h_t = \\mathrm{tanh}(W_x x_t + b_x + W_h h_{t-1} + b_h)\n",
    "$$\n",
    "\n",
    "この$x_t$と$h_{t-1}$の全結合の部分は$\\mathrm{fc}(x,h)$で表そう。\n",
    "\n",
    "$$\n",
    "\\begin{align}\n",
    "h_t &= \\mathrm{tanh}(\\mathrm{fc}(x_t,h_{t-1})) \\\\\n",
    "\\mathrm{fc}(x,h) &= W_x x + b_x + W_h h + b_h\n",
    "\\end{align}\n",
    "$$\n",
    "\n",
    "$\\mathrm{fc}(x,h)$の実装もしておこう。"
   ]
  },
  {
   "cell_type": "code",
   "execution_count": 4,
   "metadata": {},
   "outputs": [],
   "source": [
    "class FullyConnected(nn.Module):\n",
    "    def __init__(self, input_size, output_size):\n",
    "        super().__init__()\n",
    "        self.fc_input = nn.Linear(input_size, output_size)\n",
    "        self.fc_hidden = nn.Linear(output_size, output_size)\n",
    "\n",
    "    def forward(self, x, h):\n",
    "        return self.fc_input(x) + self.fc_hidden(h)"
   ]
  },
  {
   "cell_type": "markdown",
   "metadata": {},
   "source": [
    "では、GRUの構造を見ていこう。  \n",
    "GRUは以下のような演算で出力値$h_t$を決定する。\n",
    "\n",
    "$$\n",
    "\\begin{align}\n",
    "h_t &= (1 - z_t) \\odot \\tilde{h}_t + z_t \\odot h_{t-1} \\\\\n",
    "\\tilde{h}_t &= \\mathrm{tanh}(\\mathrm{fc}_{\\tilde h}(x_t,h_{t-1})) \\\\\n",
    "z_t &= \\sigma(\\mathrm{fc}_{z}(x_t,h_{t-1})) \\\\\n",
    "\\end{align}\n",
    "$$\n",
    "\n",
    "$\\sigma(x)$はsigmoid関数。"
   ]
  },
  {
   "cell_type": "markdown",
   "metadata": {},
   "source": [
    "RNNでは新たなデータ$\\tilde h_t$がそのまま出力されていた。  \n",
    "GRUでは、新たなデータ$\\tilde h_t$を古いデータ$h_{t-1}$に足して出力する。そして、その際の比率をゲート$z_t$で決める。この$z_t$は$h_{t-1}$をどれだけ通すかを表す。"
   ]
  },
  {
   "cell_type": "code",
   "execution_count": 5,
   "metadata": {},
   "outputs": [],
   "source": [
    "class SimpleGRU(nn.Module):\n",
    "    def __init__(self, input_size, output_size):\n",
    "        super().__init__()\n",
    "        self.fc = FullyConnected(input_size, output_size)\n",
    "        self.gate = nn.Sequential(\n",
    "            FullyConnected(input_size, output_size),\n",
    "            nn.Sigmoid()\n",
    "        )\n",
    "\n",
    "    def forward(self, x, h):\n",
    "        h_new = F.tanh(self.fc(x, h))\n",
    "        z = self.gate(x)\n",
    "        h = (1 - z) * h_new + z * h\n",
    "        return h"
   ]
  },
  {
   "cell_type": "markdown",
   "metadata": {},
   "source": [
    "このように、GRUではゲートを用いて新たなデータをどれだけ取り入れるべきか、そして古いデータをどれだけ捨てるか考えることが出来る。  \n",
    "この枠組みの下で学習を行うことで、長期的に保持すべきデータをしっかりと保持できるようになることが期待される。"
   ]
  },
  {
   "cell_type": "markdown",
   "metadata": {},
   "source": [
    "ちなみに、上記のモデルは一般的なGRUよりも簡略化されている。  \n",
    "一般的なGRUは、上記のモデルにゲートを一つ追加した以下の様なモデルである。\n",
    "\n",
    "\n",
    "$$\n",
    "\\begin{align}\n",
    "h_t &= (1 - z_t) \\odot \\tilde{h}_t + z_t \\odot h_{t-1} \\\\\n",
    "\\tilde{h}_t &= \\mathrm{tanh}(\\mathrm{fc}_{\\tilde h}(x_t,r_t \\odot h_{t-1})) \\\\\n",
    "z_t &= \\sigma(\\mathrm{fc}_{z}(x_t,h_{t-1})) \\\\\n",
    "r_t &= \\sigma(\\mathrm{fc}_{r}(x_t,h_{t-1})) \\\\\n",
    "\\end{align}\n",
    "$$\n",
    "\n",
    "新はデータ$\\tilde h_t$を生成する際に、古いデータ$h_{t-1}$をどれだけ考慮するかを決めるゲート$r_t$が追加されている。"
   ]
  },
  {
   "cell_type": "code",
   "execution_count": 6,
   "metadata": {},
   "outputs": [],
   "source": [
    "class GRU(nn.Module):\n",
    "    def __init__(self, input_size, output_size):\n",
    "        super().__init__()\n",
    "        self.fc_input = FullyConnected(input_size, output_size)\n",
    "        self.gate_update = nn.Sequential(\n",
    "            FullyConnected(input_size, output_size),\n",
    "            nn.Sigmoid()\n",
    "        )\n",
    "        self.gate_reset = nn.Sequential(\n",
    "            FullyConnected(input_size, output_size),\n",
    "            nn.Sigmoid()\n",
    "        )\n",
    "\n",
    "    def forward(self, x, h):\n",
    "        r = self.gate_reset(x, h)\n",
    "        h_new = F.tanh(self.fc_input(x, r * h))\n",
    "        z = self.gate_update(x)\n",
    "        h = (1 - z) * h_new + z * h\n",
    "        return h"
   ]
  },
  {
   "cell_type": "markdown",
   "metadata": {},
   "source": [
    "また、RNN同様、PyTorchにクラスとして`torch.nn.GRU`が用意されている:  \n",
    "[GRU — PyTorch 2.0 documentation](https://pytorch.org/docs/stable/generated/torch.nn.GRU.html)"
   ]
  },
  {
   "cell_type": "code",
   "execution_count": 7,
   "metadata": {},
   "outputs": [],
   "source": [
    "gru = nn.GRU(input_size, input_size)"
   ]
  }
 ],
 "metadata": {
  "kernelspec": {
   "display_name": "nlp",
   "language": "python",
   "name": "python3"
  },
  "language_info": {
   "codemirror_mode": {
    "name": "ipython",
    "version": 3
   },
   "file_extension": ".py",
   "mimetype": "text/x-python",
   "name": "python",
   "nbconvert_exporter": "python",
   "pygments_lexer": "ipython3",
   "version": "3.11.3"
  },
  "orig_nbformat": 4
 },
 "nbformat": 4,
 "nbformat_minor": 2
}
