{
 "cells": [
  {
   "attachments": {},
   "cell_type": "markdown",
   "metadata": {},
   "source": [
    "# RNN\n",
    "\n",
    "*Recurent Neural Network*\n",
    "\n",
    "再帰型ニューラルネットワーク。  \n",
    "再帰的な構造を持つニューラルネットワークで、可変長の時系列データを扱うことが得意。\n",
    "\n",
    "<u>2章: 深層学習を用いた言語モデル</u>では、深層学習を活用して、ある単語から次の単語を予測するモデルを作成した。しかし、これでは文脈を考慮できない。具体的には、2つ以上前の単語を考慮した予測が出来ない。  \n",
    "RNNを用いることで、文脈を考慮した予測が可能になる。"
   ]
  },
  {
   "cell_type": "code",
   "execution_count": 1,
   "metadata": {},
   "outputs": [],
   "source": [
    "import torch\n",
    "from torch import nn, optim\n",
    "import torch.nn.functional as F\n",
    "from torch.utils.data import Dataset, DataLoader\n",
    "import matplotlib.pyplot as plt\n",
    "from dlprog import train_progress"
   ]
  },
  {
   "cell_type": "code",
   "execution_count": 2,
   "metadata": {},
   "outputs": [
    {
     "data": {
      "text/plain": [
       "device(type='cuda')"
      ]
     },
     "execution_count": 2,
     "metadata": {},
     "output_type": "execute_result"
    }
   ],
   "source": [
    "prog = train_progress()\n",
    "device = torch.device('cuda' if torch.cuda.is_available() else 'cpu')\n",
    "device"
   ]
  },
  {
   "attachments": {},
   "cell_type": "markdown",
   "metadata": {},
   "source": [
    "\n",
    "---\n",
    "\n",
    "## RNNの構造\n",
    "\n",
    "RNNはある時間$t$の入力$x_t$に対して以下のような演算を行い、出力値$h_t$を決定する。\n",
    "\n",
    "$$\n",
    "h_t = \\mathrm{tanh}(W_x x_t + b_x + W_h h_{t-1} + b_h)\n",
    "$$\n",
    "\n",
    "演算の内部で前の時間の出力値$h_{t-1}$を参照していることが分かる。  \n",
    "演算内容はシンプルに捉えることができて、入力$x_t$と前の時間の出力$h_{t-1}$をそれぞれ線形変換し、それらの和を活性化関数$\\mathrm{tanh}$に通しているだけ。線形変換に必要な重みとバイアスが2つずつあるので、パラメータは合計4つ。\n",
    "\n",
    "実装してみるとこんな感じ。"
   ]
  },
  {
   "cell_type": "code",
   "execution_count": 3,
   "metadata": {},
   "outputs": [],
   "source": [
    "class RNN(nn.Module):\n",
    "    def __init__(self, input_size, output_size):\n",
    "        super().__init__()\n",
    "        self.fc_input = nn.Linear(input_size, output_size)\n",
    "        self.fc_output = nn.Linear(output_size, output_size)\n",
    "\n",
    "    def forward(self, x, h):\n",
    "        z = self.fc_input(x) + self.fc_output(h)\n",
    "        h = F.tanh(z)\n",
    "        return h"
   ]
  },
  {
   "cell_type": "markdown",
   "metadata": {},
   "source": [
    "### 推論\n",
    "\n",
    "推論の流れを見てみる。"
   ]
  },
  {
   "attachments": {},
   "cell_type": "markdown",
   "metadata": {},
   "source": [
    "まず適当なパラメータで出力の初期値$h_0$と初めの入力$x_1$を定義する。$h_0$は0ベクトルで良い。"
   ]
  },
  {
   "cell_type": "code",
   "execution_count": 4,
   "metadata": {},
   "outputs": [
    {
     "data": {
      "text/plain": [
       "tensor([[-0.8084,  0.3854, -0.3857, -0.7751],\n",
       "        [-0.1904,  0.4758, -0.5513, -0.9322]], grad_fn=<TanhBackward0>)"
      ]
     },
     "execution_count": 4,
     "metadata": {},
     "output_type": "execute_result"
    }
   ],
   "source": [
    "batch_size, input_size, hidden_size = 2, 3, 4\n",
    "x1 = torch.randn(batch_size, input_size)\n",
    "h0 = torch.zeros(batch_size, hidden_size)\n",
    "\n",
    "rnn = RNN(input_size, hidden_size)\n",
    "h1 = rnn(x1, h0)\n",
    "h1"
   ]
  },
  {
   "cell_type": "markdown",
   "metadata": {},
   "source": [
    "この$h_1$を参照して、次の時間の入力$x_2$に対する出力$h_2$を決定する。"
   ]
  },
  {
   "cell_type": "code",
   "execution_count": 5,
   "metadata": {},
   "outputs": [
    {
     "data": {
      "text/plain": [
       "tensor([[-0.9149,  0.5173, -0.0491, -0.8114],\n",
       "        [-0.2597,  0.9164, -0.5752, -0.4781]], grad_fn=<TanhBackward0>)"
      ]
     },
     "execution_count": 5,
     "metadata": {},
     "output_type": "execute_result"
    }
   ],
   "source": [
    "x2 = torch.randn(batch_size, input_size)\n",
    "h2 = rnn(x2, h1)\n",
    "h2"
   ]
  },
  {
   "attachments": {},
   "cell_type": "markdown",
   "metadata": {},
   "source": [
    "これがRNNの推論の流れである。実践的な例は後程。"
   ]
  },
  {
   "attachments": {},
   "cell_type": "markdown",
   "metadata": {},
   "source": [
    "\n",
    "---\n",
    "\n",
    "## PyTorchでの実装\n",
    "\n",
    "PyTorchにはRNNを実装するためのクラスが用意されている。軽く紹介する。"
   ]
  },
  {
   "attachments": {},
   "cell_type": "markdown",
   "metadata": {},
   "source": [
    "### `torch.nn.RNNCell`\n",
    "\n",
    "RNNの一つの時間の演算を行うクラス。↑で実装したものと同じ。  \n",
    "[RNNCell — PyTorch 2.0 documentation](https://pytorch.org/docs/stable/generated/torch.nn.RNNCell.html)"
   ]
  },
  {
   "cell_type": "code",
   "execution_count": 6,
   "metadata": {},
   "outputs": [
    {
     "name": "stdout",
     "output_type": "stream",
     "text": [
      "Parameter containing:\n",
      "tensor([[ 0.0296, -0.2979, -0.3870],\n",
      "        [-0.3157, -0.2930,  0.0757],\n",
      "        [ 0.2960, -0.2860,  0.3643],\n",
      "        [-0.2431,  0.3487, -0.2138]], requires_grad=True) \n",
      "\n",
      "Parameter containing:\n",
      "tensor([[-0.4569, -0.2122,  0.4331,  0.0307],\n",
      "        [ 0.1556, -0.2945, -0.1549, -0.0089],\n",
      "        [ 0.4429, -0.2736,  0.2788, -0.1972],\n",
      "        [-0.4256,  0.4540,  0.3017, -0.1940]], requires_grad=True) \n",
      "\n",
      "Parameter containing:\n",
      "tensor([ 0.4262, -0.4771, -0.4876, -0.2211], requires_grad=True) \n",
      "\n",
      "Parameter containing:\n",
      "tensor([ 0.3696, -0.4244,  0.3633,  0.4644], requires_grad=True) \n",
      "\n"
     ]
    }
   ],
   "source": [
    "batch_size, input_size, hidden_size = 2, 3, 4\n",
    "\n",
    "rnn = nn.RNNCell(input_size, hidden_size)\n",
    "for params in rnn.parameters():\n",
    "    print(params, '\\n')"
   ]
  },
  {
   "attachments": {},
   "cell_type": "markdown",
   "metadata": {},
   "source": [
    "パラメータが4つ。"
   ]
  },
  {
   "cell_type": "code",
   "execution_count": 7,
   "metadata": {},
   "outputs": [
    {
     "data": {
      "text/plain": [
       "tensor([[ 0.8440, -0.7729, -0.7073,  0.6563],\n",
       "        [ 0.6060, -0.9268, -0.0587,  0.2554]], grad_fn=<TanhBackward0>)"
      ]
     },
     "execution_count": 7,
     "metadata": {},
     "output_type": "execute_result"
    }
   ],
   "source": [
    "x1 = torch.randn(batch_size, input_size)\n",
    "rnn(x1)"
   ]
  },
  {
   "attachments": {},
   "cell_type": "markdown",
   "metadata": {},
   "source": [
    "$h$を入力しなかった場合は勝手に0ベクトルになる。"
   ]
  },
  {
   "attachments": {},
   "cell_type": "markdown",
   "metadata": {},
   "source": [
    "### `torch.nn.RNN`\n",
    "\n",
    "全ての時間の演算をまとめて行うクラス。  \n",
    "[RNN — PyTorch 2.0 documentation](https://pytorch.org/docs/stable/generated/torch.nn.RNN.html)\n",
    "\n"
   ]
  },
  {
   "cell_type": "code",
   "execution_count": 8,
   "metadata": {},
   "outputs": [
    {
     "data": {
      "text/plain": [
       "torch.Size([2, 5, 4])"
      ]
     },
     "execution_count": 8,
     "metadata": {},
     "output_type": "execute_result"
    }
   ],
   "source": [
    "batch_size, input_size, hidden_size, seq_length = 2, 3, 4, 5\n",
    "rnn = nn.RNN(input_size, hidden_size, batch_first=True)\n",
    "\n",
    "x = torch.randn(batch_size, seq_length, input_size)\n",
    "y, h = rnn(x)\n",
    "y.shape"
   ]
  },
  {
   "attachments": {},
   "cell_type": "markdown",
   "metadata": {},
   "source": [
    "バッチごとに全ての時間の隠れ状態が出力される。  \n",
    "また`h`には最後の時間の隠れ状態が出力される。"
   ]
  },
  {
   "cell_type": "code",
   "execution_count": 9,
   "metadata": {},
   "outputs": [
    {
     "data": {
      "text/plain": [
       "tensor([[[True, True, True, True],\n",
       "         [True, True, True, True]]])"
      ]
     },
     "execution_count": 9,
     "metadata": {},
     "output_type": "execute_result"
    }
   ],
   "source": [
    "y[:, -1] == h"
   ]
  },
  {
   "cell_type": "code",
   "execution_count": 10,
   "metadata": {},
   "outputs": [
    {
     "data": {
      "text/plain": [
       "torch.Size([1, 2, 4])"
      ]
     },
     "execution_count": 10,
     "metadata": {},
     "output_type": "execute_result"
    }
   ],
   "source": [
    "h.shape"
   ]
  },
  {
   "attachments": {},
   "cell_type": "markdown",
   "metadata": {},
   "source": [
    "初めに次元が1つ追加されるのは仕様。"
   ]
  },
  {
   "cell_type": "markdown",
   "metadata": {},
   "source": [
    "\n",
    "---\n",
    "\n",
    "## sin波の生成\n",
    "\n",
    "与えられたsin波から続きを生成するモデルを作ろう。"
   ]
  },
  {
   "cell_type": "markdown",
   "metadata": {},
   "source": [
    "### データセット\n",
    "\n",
    "ノイズの加わったsin波をデータセットとして用意する。"
   ]
  },
  {
   "cell_type": "code",
   "execution_count": 11,
   "metadata": {},
   "outputs": [
    {
     "data": {
      "image/png": "[encoded data removed]",
      "text/plain": [
       "<Figure size 640x480 with 1 Axes>"
      ]
     },
     "metadata": {},
     "output_type": "display_data"
    }
   ],
   "source": [
    "freq, sr, n_samples = 1, 100, 10000\n",
    "t = torch.arange(0, n_samples / sr, 1 / sr)\n",
    "noise = torch.randn(n_samples) * 0.1\n",
    "sin = torch.sin(2 * torch.pi * freq * t)\n",
    "seq = sin + noise\n",
    "plt.plot(t, seq)\n",
    "plt.xlim(0, 3);\n"
   ]
  },
  {
   "cell_type": "markdown",
   "metadata": {},
   "source": [
    "### 通常のNN\n",
    "\n",
    "比較用に、まずは通常のNNで学習させてみよう。\n",
    "\n",
    "n個の値から次の一つの値を予測するモデルを作る。"
   ]
  },
  {
   "cell_type": "code",
   "execution_count": 12,
   "metadata": {},
   "outputs": [],
   "source": [
    "class NN(nn.Module):\n",
    "    def __init__(self, input_size, hidden_size):\n",
    "        super().__init__()\n",
    "        self.net = nn.Sequential(\n",
    "            nn.Linear(input_size, hidden_size),\n",
    "            nn.ReLU(),\n",
    "            nn.Linear(hidden_size, 1)\n",
    "        )\n",
    "\n",
    "    def forward(self, x):\n",
    "        return self.net(x)"
   ]
  },
  {
   "cell_type": "code",
   "execution_count": 13,
   "metadata": {},
   "outputs": [],
   "source": [
    "input_size = 50 # n=50\n",
    "hidden_size = 100\n",
    "model = NN(input_size, hidden_size)\n",
    "optimizer = optim.Adam(model.parameters())"
   ]
  },
  {
   "cell_type": "markdown",
   "metadata": {},
   "source": [
    "次に学習データを用意する。  \n",
    "連続したn個の値をそれに続く一つの値をペアとして用意する。"
   ]
  },
  {
   "cell_type": "code",
   "execution_count": 14,
   "metadata": {},
   "outputs": [],
   "source": [
    "class SinDataset(Dataset):\n",
    "    def __init__(self, seq):\n",
    "        self.seq = seq\n",
    "        self.n_data = n_samples - input_size\n",
    "\n",
    "    def __getitem__(self, idx):\n",
    "        seq = self.seq[idx:idx + input_size + 1]\n",
    "        return seq[:-1], seq[-1]\n",
    "\n",
    "    def __len__(self):\n",
    "        return self.n_data\n",
    "\n",
    "batch_size = 64\n",
    "dataset = SinDataset(seq)\n",
    "dataloader = DataLoader(dataset, batch_size=batch_size, shuffle=True)"
   ]
  },
  {
   "cell_type": "markdown",
   "metadata": {},
   "source": [
    "学習させてみよう。"
   ]
  },
  {
   "cell_type": "code",
   "execution_count": 15,
   "metadata": {},
   "outputs": [],
   "source": [
    "def train(model, optimizer, n_epochs):\n",
    "    model.train()\n",
    "    prog.start(n_iter=len(dataloader), n_epochs=n_epochs)\n",
    "    for _ in range(n_epochs):\n",
    "        for x, y in dataloader:\n",
    "            optimizer.zero_grad()\n",
    "            pred = model(x)\n",
    "            loss = F.mse_loss(pred.ravel(), y)\n",
    "            loss.backward()\n",
    "            optimizer.step()\n",
    "            prog.update(loss.item())"
   ]
  },
  {
   "cell_type": "code",
   "execution_count": 16,
   "metadata": {},
   "outputs": [
    {
     "name": "stdout",
     "output_type": "stream",
     "text": [
      "1/5: ######################################## 100% [00:00:00.32] loss: 0.03026 \n",
      "2/5: ######################################## 100% [00:00:00.33] loss: 0.01104 \n",
      "3/5: ######################################## 100% [00:00:00.31] loss: 0.01096 \n",
      "4/5: ######################################## 100% [00:00:00.31] loss: 0.01076 \n",
      "5/5: ######################################## 100% [00:00:00.31] loss: 0.01075 \n"
     ]
    }
   ],
   "source": [
    "train(model, optimizer, 5)"
   ]
  },
  {
   "cell_type": "markdown",
   "metadata": {},
   "source": [
    "予測してみよう。  \n",
    "予測した値を含めた直近n個の値を入力し、次の値を予測する。これを繰り返す。初めのn個の値は学習データから取得する。"
   ]
  },
  {
   "cell_type": "code",
   "execution_count": 17,
   "metadata": {},
   "outputs": [
    {
     "data": {
      "image/png": "[encoded data removed]",
      "text/plain": [
       "<Figure size 640x480 with 1 Axes>"
      ]
     },
     "metadata": {},
     "output_type": "display_data"
    }
   ],
   "source": [
    "pred_seq = seq[:input_size] # 初めのn個\n",
    "n_preds = 3 * sr # 予測する回数\n",
    "model.eval()\n",
    "for _ in range(n_preds):\n",
    "    with torch.no_grad():\n",
    "        x = pred_seq[-input_size:] # 直近のn個\n",
    "        pred = model(x) # 予測\n",
    "        pred_seq = torch.cat([pred_seq, pred]) # 予測結果を追加\n",
    "plt.plot(t[:len(pred_seq)], pred_seq);"
   ]
  },
  {
   "cell_type": "markdown",
   "metadata": {},
   "source": [
    "初めのn個の値から、それに続くsin波を予測することが出来た。"
   ]
  },
  {
   "cell_type": "markdown",
   "metadata": {},
   "source": [
    "### RNN\n",
    "\n",
    "では、今度はRNNを用いて学習させてみよう。"
   ]
  },
  {
   "cell_type": "markdown",
   "metadata": {},
   "source": [
    "まずはモデルを作る。基本的に、RNNそのものを一つのモデル（NN）として扱うことはない。RNNはNNの中の一つの層として扱う。  \n",
    "ちなみに、RNNが組み込まれたNNをRNNと呼ぶこともある。混乱を避けるために、以下では層としてのRNNはRNN層と呼ぶこととする（モデルとしてのRNNはそのままRNNと呼ぶ）。\n",
    "\n",
    "ある時間$t$におけるRNN層は、前の層からの出力$z_t$と前の時間のRNN層の出力$h_{t-1}$を受け取り、$h_t$を出力する。そしてこのRNN層からの出力$h_t$を適当な線形層などに入力することで、最終的な出力$y_t$を生成する。\n",
    "\n",
    "$h_t$は外から直接観測されることがないため、潜在変数や隠れ状態と表現される。変数名に$y$ではなく$h$を使っている理由がそこにある（隠れる=hide）。"
   ]
  },
  {
   "cell_type": "markdown",
   "metadata": {},
   "source": [
    "では作っていこう。RNN層と線形層で作る。\n",
    "\n",
    "RNNの時間ごとの入出力（RNN層の入力と線形層の出力）の形状は、シーケンスを構成する各時間のデータと同じ。sin波の各時間は一つの値なので、入出力も一つの値（1次元ベクトル（スカラー））。一つの値を受け取って一つの値を出力するモデルということ。"
   ]
  },
  {
   "cell_type": "code",
   "execution_count": 18,
   "metadata": {},
   "outputs": [],
   "source": [
    "class RNN(nn.Module):\n",
    "    def __init__(self, hidden_size):\n",
    "        super().__init__()\n",
    "        self.rnn = nn.RNN(1, hidden_size, batch_first=True)\n",
    "        self.fc = nn.Linear(hidden_size, 1)\n",
    "\n",
    "    def forward(self, x, h=None):\n",
    "        y, h = self.rnn(x, h)\n",
    "        y = self.fc(y)\n",
    "        return y, h"
   ]
  },
  {
   "cell_type": "code",
   "execution_count": 19,
   "metadata": {},
   "outputs": [],
   "source": [
    "hidden_size = 128\n",
    "model = RNN(hidden_size)\n",
    "optimizer = optim.Adam(model.parameters())"
   ]
  },
  {
   "cell_type": "markdown",
   "metadata": {},
   "source": [
    "このRNNが出力した一つの値を次の時間の入力として与え、また出力を得る。  \n",
    "これを繰り返して適切なsin波が生成されるように学習を行う。"
   ]
  },
  {
   "cell_type": "markdown",
   "metadata": {},
   "source": [
    "では次に学習データを用意する。\n",
    "\n",
    "まず、データセットから適当な長さのシーケンスを取り出したとする。この最初の値をRNNに入力し、再帰的に後続の値を予測させたとき、データセットから取り出したサンプルと同じシーケンスが出力されて欲しいわけだ。  \n",
    "では、どのような（入力と正解の）ペアを作れば良いだろうか。\n",
    "\n",
    "まず考えられるのは、最初の一つを入力、それ以降を正解とするペア。最初の一つを入力してそれに続く（サンプルと同じ長さの）シーケンスを予測させ、正解との誤差が小さくなるように学習させる。  \n",
    "しかしこの手法は学習の安定性等のデメリットからあまり使われていない。特に言語モデルの場合、出力（確率分布）を入力（単語）に変換する際にサンプリングを挟むことから逆伝播が繋がらなくなり、デメリットがより顕著に表れる、と私は考えている。やったことないから知らん。\n",
    "\n",
    "次にこんな手法を考える。サンプルの最初の一つをRNNに入力し、次の値を予測させる。そして、この予測値を次の入力とするのではなく、サンプルから次の値を取り出してそれを入力する。サンプルから取り出した次の値とは、いわば正しい値である。  \n",
    "このように、RNNの学習時にRNN自身の出力ではなく正解値を入力として用いる手法を**教師強制**と呼ぶ。この手法の方が安定すると言われている。"
   ]
  },
  {
   "cell_type": "markdown",
   "metadata": {},
   "source": [
    "今回は教師強制を用いて学習を行う。そのための学習データを作る。\n",
    "\n",
    "入力の長さを適当に定め、データセットからその長さ分データを取り出す。取り出したものを入力、それを一つずらしたものを正解とする。個のペアを学習データとすれば、教師強制で学習が行えるね。"
   ]
  },
  {
   "cell_type": "code",
   "execution_count": 20,
   "metadata": {},
   "outputs": [],
   "source": [
    "class SinDataset(Dataset):\n",
    "    def __init__(self, seq, input_length):\n",
    "        self.seq = seq\n",
    "        self.input_length = input_length\n",
    "        self.n_data = n_samples - input_length\n",
    "\n",
    "    def __getitem__(self, idx):\n",
    "        seq = self.seq[idx:idx + self.input_length]\n",
    "        return seq[:-1], seq[1:] # 入力とそれを一つずらしたもの\n",
    "\n",
    "    def __len__(self):\n",
    "        return self.n_data\n",
    "\n",
    "batch_size = 64\n",
    "input_length = 200\n",
    "dataset = SinDataset(seq, input_length)\n",
    "dataloader = DataLoader(dataset, batch_size=batch_size, shuffle=True)"
   ]
  },
  {
   "cell_type": "markdown",
   "metadata": {},
   "source": [
    "では学習させよう。MSEが小さくなるように。"
   ]
  },
  {
   "cell_type": "code",
   "execution_count": 21,
   "metadata": {},
   "outputs": [
    {
     "name": "stdout",
     "output_type": "stream",
     "text": [
      "1/5:                                            1% [00:00:00.11] loss: 0.52734 "
     ]
    },
    {
     "name": "stdout",
     "output_type": "stream",
     "text": [
      "1/5: ######################################## 100% [00:00:04.85] loss: 0.04318 \n",
      "2/5: ######################################## 100% [00:00:04.93] loss: 0.01519 \n",
      "3/5: ######################################## 100% [00:00:04.83] loss: 0.01477 \n",
      "4/5: ######################################## 100% [00:00:04.80] loss: 0.01455 \n",
      "5/5: ######################################## 100% [00:00:04.84] loss: 0.01465 \n"
     ]
    }
   ],
   "source": [
    "n_epochs = 5\n",
    "model.train()\n",
    "prog.start(n_iter=len(dataloader), n_epochs=n_epochs)\n",
    "for _ in range(n_epochs):\n",
    "    for x, y in dataloader:\n",
    "        optimizer.zero_grad()\n",
    "        x = x.unsqueeze(-1)\n",
    "        y = y.unsqueeze(-1)\n",
    "        pred, _ = model(x)\n",
    "        loss = F.mse_loss(pred, y)\n",
    "        loss.backward()\n",
    "        optimizer.step()\n",
    "        prog.update(loss.item())"
   ]
  },
  {
   "cell_type": "markdown",
   "metadata": {},
   "source": [
    "最後にsin波を生成させてみよう。  \n",
    "初めに、学習データから適当に得た入力を用いて隠れ状態を初期化する。以降は、直前に予測した値から次の値を予測する、を繰り返す。"
   ]
  },
  {
   "cell_type": "code",
   "execution_count": 22,
   "metadata": {},
   "outputs": [
    {
     "data": {
      "image/png": "[encoded data removed]",
      "text/plain": [
       "<Figure size 640x480 with 1 Axes>"
      ]
     },
     "metadata": {},
     "output_type": "display_data"
    }
   ],
   "source": [
    "pred_seq = seq[:input_size] # 学習データから得た初めのn個\n",
    "_, h = model(pred_seq.unsqueeze(-1)) # 隠れ状態の初期化\n",
    "\n",
    "n_preds = 3 * sr\n",
    "model.eval()\n",
    "for _ in range(n_preds):\n",
    "    with torch.no_grad():\n",
    "        x = pred_seq[-input_size].reshape(1, 1) # 直近の1個\n",
    "        (pred,), h = model(x, h) # 予測\n",
    "        pred_seq = torch.cat([pred_seq, pred]) # 予測結果を追加\n",
    "plt.plot(t[:len(pred_seq)], pred_seq);"
   ]
  },
  {
   "cell_type": "markdown",
   "metadata": {},
   "source": [
    "一応できた。でも下手だね。まあ、そんなときもあるよ。"
   ]
  },
  {
   "cell_type": "markdown",
   "metadata": {},
   "source": [
    "通常のNNでは、直前に生成したデータのみを用いて次のデータを予測する。この、外側から見えるデータには多くの情報を含めることが出来ない。  \n",
    "実際、今回例に用いたsin波では小数一つ分の情報しか含まれない。言語モデルの場合は一単語分の情報。「直前のデータしか参照できないから文脈を考慮することは出来ない」というのは、「直前のデータに文脈の情報を載せることが出来ないから」と説明できる。"
   ]
  },
  {
   "cell_type": "markdown",
   "metadata": {},
   "source": [
    "RNNの場合、予測には、直前に生成したデータだけでなく、隠れ状態も用いる。\n",
    "\n",
    "隠れ状態には高次元の連続的なベクトルを用いるため、生成するデータよりも多くの情報量を含めることが可能。その**直前にモデルが出力した多くの情報（隠れ状態）を参照できる枠組みをモデルに提供**することで、隠れ状態に文脈の情報を載せた、文脈を考慮した予測が可能になると**期待**できる。\n",
    "\n",
    "こういった、「こんな枠組み（アーキテクチャ）でモデルを作ればこう動いてくれるだろう」という期待は、この先説明する多くのアーキテクチャの出発点となる。それらの有名なアーキテクチャは、そういった期待に見事応えてくれたものと見られる。"
   ]
  }
 ],
 "metadata": {
  "kernelspec": {
   "display_name": "nlp",
   "language": "python",
   "name": "python3"
  },
  "language_info": {
   "codemirror_mode": {
    "name": "ipython",
    "version": 3
   },
   "file_extension": ".py",
   "mimetype": "text/x-python",
   "name": "python",
   "nbconvert_exporter": "python",
   "pygments_lexer": "ipython3",
   "version": "3.11.3"
  },
  "orig_nbformat": 4
 },
 "nbformat": 4,
 "nbformat_minor": 2
}
