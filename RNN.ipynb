{
 "cells": [
  {
   "attachments": {},
   "cell_type": "markdown",
   "metadata": {},
   "source": [
    "# RNN\n",
    "\n",
    "*Recurent Neural Network*\n",
    "\n",
    "再帰型ニューラルネットワーク。  \n",
    "再帰的な構造を持つニューラルネットワークで、可変長の時系列データを扱うことが得意。RNNは一つの層として扱うことが多い。\n",
    "\n",
    "<u>2章: 深層学習を用いた言語モデル</u>では、深層学習を活用して、ある単語から次の単語を予測するモデルを作成した。しかし、これでは文脈を考慮できない。具体的には、二つ以上前の単語を考慮した予測が出来ない。  \n",
    "RNNを用いることで、独立していた時間ごとの演算が繋がりを持つようになり、文脈を考慮した予測が可能になる。"
   ]
  },
  {
   "cell_type": "code",
   "execution_count": 2,
   "metadata": {},
   "outputs": [],
   "source": [
    "import torch\n",
    "from torch import nn, optim\n",
    "import torch.nn.functional as F"
   ]
  },
  {
   "attachments": {},
   "cell_type": "markdown",
   "metadata": {},
   "source": [
    "\n",
    "---\n",
    "\n",
    "## RNNの構造\n",
    "\n",
    "RNNはある時間$t$の入力$x_t$に対して以下のような演算を行い、出力値$h_t$を決定する。\n",
    "\n",
    "$$\n",
    "h_t = \\mathrm{tanh}(W_x x_t + b_x + W_h h_{t-1} + b_h)\n",
    "$$\n",
    "\n",
    "演算の内部で前の時間の出力値$h_{t-1}$を参照していることが分かる。  \n",
    "演算内容はシンプルに捉えることができて、入力$x_t$と前の時間の出力$h_{t-1}$をそれぞれ線形変換し、それらの和を活性化関数$\\mathrm{tanh}$に通しているだけ。\n",
    "\n",
    "実装してみるとこんな感じ。"
   ]
  },
  {
   "cell_type": "code",
   "execution_count": 3,
   "metadata": {},
   "outputs": [],
   "source": [
    "class RNN(nn.Module):\n",
    "    def __init__(self, input_dim, output_dim):\n",
    "        super().__init__()\n",
    "        self.fc_input = nn.Linear(input_dim, output_dim)\n",
    "        self.fc_output = nn.Linear(output_dim, output_dim)\n",
    "\n",
    "    def forward(self, x, h):\n",
    "        z = self.fc_input(x) + self.fc_output(h)\n",
    "        return F.tanh(z)"
   ]
  },
  {
   "attachments": {},
   "cell_type": "markdown",
   "metadata": {},
   "source": [
    "適当なパラメータで時間ごとの入力$x_t$と初めの出力$h_0$を定義し、与える。$h_0$は0ベクトルで良い。"
   ]
  },
  {
   "cell_type": "code",
   "execution_count": 10,
   "metadata": {},
   "outputs": [
    {
     "data": {
      "text/plain": [
       "tensor([[ 0.6550,  0.0274, -0.2787,  0.1202],\n",
       "        [ 0.4972,  0.8112, -0.8748,  0.1442]], grad_fn=<TanhBackward0>)"
      ]
     },
     "execution_count": 10,
     "metadata": {},
     "output_type": "execute_result"
    }
   ],
   "source": [
    "batch_size, input_dim, output_dim = 2, 3, 4\n",
    "x1 = torch.randn(batch_size, input_dim)\n",
    "x2 = torch.randn(batch_size, input_dim)\n",
    "h0 = torch.zeros(batch_size, output_dim)\n",
    "\n",
    "rnn = RNN(input_dim, output_dim)\n",
    "h1 = rnn(x1, h0)\n",
    "h1"
   ]
  },
  {
   "attachments": {},
   "cell_type": "markdown",
   "metadata": {},
   "source": [
    "この$h$を用いて次の時間の演算を行う。"
   ]
  },
  {
   "cell_type": "code",
   "execution_count": 8,
   "metadata": {},
   "outputs": [
    {
     "data": {
      "text/plain": [
       "tensor([[ 0.6286,  0.6886,  0.4073,  0.5147],\n",
       "        [-0.7758,  0.6373,  0.4783,  0.6019]], grad_fn=<TanhBackward0>)"
      ]
     },
     "execution_count": 8,
     "metadata": {},
     "output_type": "execute_result"
    }
   ],
   "source": [
    "h2 = rnn(x2, h1)\n",
    "h2"
   ]
  },
  {
   "attachments": {},
   "cell_type": "markdown",
   "metadata": {},
   "source": [
    "これを繰り返すことで、時系列的な情報を保持しながら演算を行うことが出来る。\n",
    "\n",
    "また、基本的には、モデルでの時間ごとの出力にRNNの出力$h_t$をそのまま用いることはない。$h_t$を更に幾つかの層に通して、最終的な出力を決定する。$h_t$が直接観測されることはないため、潜在変数や隠れ状態と表現される。変数名に$y$ではなく$h$を使っている理由がそこにある（隠れる=hide）。"
   ]
  },
  {
   "cell_type": "code",
   "execution_count": null,
   "metadata": {},
   "outputs": [],
   "source": []
  }
 ],
 "metadata": {
  "kernelspec": {
   "display_name": "nlp",
   "language": "python",
   "name": "python3"
  },
  "language_info": {
   "codemirror_mode": {
    "name": "ipython",
    "version": 3
   },
   "file_extension": ".py",
   "mimetype": "text/x-python",
   "name": "python",
   "nbconvert_exporter": "python",
   "pygments_lexer": "ipython3",
   "version": "3.11.3"
  },
  "orig_nbformat": 4
 },
 "nbformat": 4,
 "nbformat_minor": 2
}
