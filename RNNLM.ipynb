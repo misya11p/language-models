{
 "cells": [
  {
   "attachments": {},
   "cell_type": "markdown",
   "metadata": {},
   "source": [
    "# RNNLM\n",
    "\n",
    "*Recurrent Neural Network Language Model*\n",
    "\n",
    "RNNを用いて言語モデルを作成する。"
   ]
  },
  {
   "cell_type": "code",
   "execution_count": 1,
   "metadata": {},
   "outputs": [],
   "source": [
    "import os; os.environ['TF_CPP_MIN_LOG_LEVEL'] = '2'\n",
    "import random\n",
    "from typing import List\n",
    "\n",
    "import tensorflow as tf\n",
    "import tensorflow_datasets as tfds\n",
    "import sentencepiece as spm\n",
    "import torch\n",
    "from torch import nn, optim\n",
    "import torch.nn.functional as F\n",
    "from torch.utils.data import Dataset, DataLoader\n",
    "from torch.nn.utils.rnn import pad_sequence\n",
    "from torchtext import transforms\n",
    "from torchtext.vocab import build_vocab_from_iterator\n",
    "from torchvision.transforms import Compose\n",
    "from dlprog import train_progress"
   ]
  },
  {
   "cell_type": "code",
   "execution_count": 2,
   "metadata": {},
   "outputs": [
    {
     "data": {
      "text/plain": [
       "device(type='cuda')"
      ]
     },
     "execution_count": 2,
     "metadata": {},
     "output_type": "execute_result"
    }
   ],
   "source": [
    "prog = train_progress()\n",
    "device = torch.device('cuda' if torch.cuda.is_available() else 'cpu')\n",
    "device"
   ]
  },
  {
   "attachments": {},
   "cell_type": "markdown",
   "metadata": {},
   "source": [
    "\n",
    "---\n",
    "\n",
    "## データセット\n",
    "\n",
    "wiki40b"
   ]
  },
  {
   "cell_type": "code",
   "execution_count": 3,
   "metadata": {},
   "outputs": [],
   "source": [
    "with tf.device('/cpu:0'):\n",
    "    ds = tfds.load('wiki40b/ja', split='test')\n",
    "ds = list(ds.as_numpy_iterator())"
   ]
  },
  {
   "cell_type": "code",
   "execution_count": 4,
   "metadata": {},
   "outputs": [
    {
     "name": "stdout",
     "output_type": "stream",
     "text": [
      "num of data: 89698\n"
     ]
    },
    {
     "data": {
      "text/plain": [
       "['「教科書には決して載らない」日本人の謎やしきたりを多角的に検証し、日本人のDNAを解明する。新春番組として定期的に放送されており、年末の午前中に再放送されるのが恒例となっている。',\n",
       " 'ライブドア社員であった初代代表取締役社長の山名真由によって企業内起業の形で創業。2005年に株式会社ライブドアから分割されて設立。かつてはライブドアホールディングス（現・LDH）の子会社であったが、ノンコア事業の整理にともない、株式会社ゲオ（現：株式会社ゲオホールディングス）に所有する全株式を譲渡し、同社の完全子会社となった。「ぽすれん」「ゲオ宅配レンタル」のオンラインDVD・CD・コミックレンタルサービス及び「GEO Online」と「ゲオアプリ」のアプリ・ウェブサイト運営の大きく分けて2事業を展開している。以前はDVD販売等のEコマースサービス「ぽすれんストア」、動画配信コンテンツ「ぽすれんBB」や電子書籍配信サービスの「GEO☆Books」事業も行っていた。オンラインDVDレンタル事業では会員数は10万人（2005年9月時点）。2006年5月よりCDレンタルを開始。同業他社には、カルチュア・コンビニエンス・クラブが運営する『TSUTAYA DISCAS』のほか、DMM.comが運営する『DMM.com オンラインDVDレンタル』がある。過去には「Yahoo!レンタルDVD」と「楽天レンタル」の運営を受託していた。',\n",
       " '2005年の一時期、東京のラジオ局、InterFMで、「堀江社長も使っているライブドアのぽすれん」というキャッチコピーでラジオCMを頻繁に行っていたことがあった。',\n",
       " '香川県内の農業協同組合の信用事業を統括する県域農協系金融機関であり、県内農業協同組合を会員とする。香川県は全県単一農協の香川県農業協同組合となったが、先に単一農協となった奈良県や沖縄県のケースと異なり、信連の統合は行われなかった。通称は「JA香川信連」または「JAバンク香川」。統一金融機関コードは3037。主に法人顧客を中心としており、個人取引は殆どない。県内の大型商業施設にある、他金融機関管理の共同ATMには香川信連の管轄のものがある。',\n",
       " '534年（永熙3年）、独孤信の子として生まれた。独孤信が父母妻子を捨てて長安に入ったため、独孤羅は東魏に取り残されて高氏の虜囚となった。独孤信が宇文護により処刑されると、ようやく釈放されて、中山に寓居した。北斉の独孤永業の一族として田宅を与えられた。北斉が滅亡し、楊堅が定州総管となると、楊堅の妻の独孤伽羅が兄の行方を捜索させて独孤羅を見つけ出し、初めて対面した。579年（大象元年）、功臣の子として楚安郡太守に任じられた。まもなく病のため辞職し、長安に帰った。580年（大象2年）、楊堅が北周の丞相となると、独孤羅は儀同大将軍の位を受け、楊堅の側近に仕えた。581年（開皇元年）、隋が建国されると、使持節・上開府・儀同大将軍の位を受けた。11月、右武衛将軍に転じた。582年（開皇2年）、父の趙国公の爵位を嗣いだ。592年（開皇12年）、大将軍・太子右衛率となった。593年（開皇13年）、涼州刺史に任じられた。597年（開皇17年）、涼州総管に任じられた。599年（開皇19年）2月6日、死去した。諡は徳といった。']"
      ]
     },
     "execution_count": 4,
     "metadata": {},
     "output_type": "execute_result"
    }
   ],
   "source": [
    "data = []\n",
    "for sample in ds:\n",
    "    text = sample['text'].decode()\n",
    "    sections = text.split('_START_SECTION_')\n",
    "    for section in sections[1:]:\n",
    "        sentence = section.split('_START_PARAGRAPH_')[1]\n",
    "        sentence = sentence.replace('_NEWLINE_', '')\n",
    "        sentence = sentence.replace('\\n', '')\n",
    "        data.append(sentence)\n",
    "\n",
    "print('num of data:', len(data))\n",
    "data[:5] # examples"
   ]
  },
  {
   "cell_type": "markdown",
   "metadata": {},
   "source": [
    "多すぎるので減らす"
   ]
  },
  {
   "cell_type": "code",
   "execution_count": 5,
   "metadata": {},
   "outputs": [],
   "source": [
    "data = data[:1000]"
   ]
  },
  {
   "cell_type": "code",
   "execution_count": 6,
   "metadata": {},
   "outputs": [],
   "source": [
    "textfile = 'data/jawiki_1000.txt'\n",
    "with open(textfile, 'w') as f:\n",
    "    for sentence in data:\n",
    "        f.write(sentence + '\\n')"
   ]
  },
  {
   "attachments": {},
   "cell_type": "markdown",
   "metadata": {},
   "source": [
    "\n",
    "---\n",
    "\n",
    "## 前処理"
   ]
  },
  {
   "attachments": {},
   "cell_type": "markdown",
   "metadata": {},
   "source": [
    "### トークン化"
   ]
  },
  {
   "cell_type": "code",
   "execution_count": 7,
   "metadata": {},
   "outputs": [
    {
     "name": "stderr",
     "output_type": "stream",
     "text": [
      "sentencepiece_trainer.cc(77) LOG(INFO) Starts training with : \n",
      "trainer_spec {\n",
      "  input: data/jawiki.txt\n",
      "  input_format: \n",
      "  model_prefix: models/jawiki_tokenizer\n",
      "  model_type: UNIGRAM\n",
      "  vocab_size: 8000\n",
      "  self_test_sample_size: 0\n",
      "  character_coverage: 0.9995\n",
      "  input_sentence_size: 0\n",
      "  shuffle_input_sentence: 1\n",
      "  seed_sentencepiece_size: 1000000\n",
      "  shrinking_factor: 0.75\n",
      "  max_sentence_length: 4192\n",
      "  num_threads: 16\n",
      "  num_sub_iterations: 2\n",
      "  max_sentencepiece_length: 16\n",
      "  split_by_unicode_script: 1\n",
      "  split_by_number: 1\n",
      "  split_by_whitespace: 1\n",
      "  split_digits: 0\n",
      "  pretokenization_delimiter: \n",
      "  treat_whitespace_as_suffix: 0\n",
      "  allow_whitespace_only_pieces: 0\n",
      "  required_chars: \n",
      "  byte_fallback: 0\n",
      "  vocabulary_output_piece_score: 1\n",
      "  train_extremely_large_corpus: 0\n",
      "  hard_vocab_limit: 1\n",
      "  use_all_vocab: 0\n",
      "  unk_id: 0\n",
      "  bos_id: 1\n",
      "  eos_id: 2\n",
      "  pad_id: -1\n",
      "  unk_piece: <unk>\n",
      "  bos_piece: <s>\n",
      "  eos_piece: </s>\n",
      "  pad_piece: <pad>\n",
      "  unk_surface:  ⁇ \n",
      "  enable_differential_privacy: 0\n",
      "  differential_privacy_noise_level: 0\n",
      "  differential_privacy_clipping_threshold: 0\n",
      "}\n",
      "normalizer_spec {\n",
      "  name: nmt_nfkc\n",
      "  add_dummy_prefix: 1\n",
      "  remove_extra_whitespaces: 1\n",
      "  escape_whitespaces: 1\n",
      "  normalization_rule_tsv: \n",
      "}\n",
      "denormalizer_spec {}\n",
      "trainer_interface.cc(351) LOG(INFO) SentenceIterator is not specified. Using MultiFileSentenceIterator.\n",
      "trainer_interface.cc(183) LOG(INFO) Loading corpus: data/jawiki.txt\n",
      "trainer_interface.cc(378) LOG(WARNING) Found too long line (4385 > 4192).\n",
      "trainer_interface.cc(380) LOG(WARNING) Too long lines are skipped in the training.\n",
      "trainer_interface.cc(381) LOG(WARNING) The maximum length can be changed with --max_sentence_length=<size> flag.\n",
      "trainer_interface.cc(407) LOG(INFO) Loaded all 962 sentences\n",
      "trainer_interface.cc(414) LOG(INFO) Skipped 38 too long sentences.\n",
      "trainer_interface.cc(423) LOG(INFO) Adding meta_piece: <unk>\n",
      "trainer_interface.cc(423) LOG(INFO) Adding meta_piece: <s>\n",
      "trainer_interface.cc(423) LOG(INFO) Adding meta_piece: </s>\n",
      "trainer_interface.cc(428) LOG(INFO) Normalizing sentences...\n",
      "trainer_interface.cc(537) LOG(INFO) all chars count=336845\n",
      "trainer_interface.cc(548) LOG(INFO) Done: 99.9501% characters are covered.\n",
      "trainer_interface.cc(558) LOG(INFO) Alphabet size=2732\n",
      "trainer_interface.cc(559) LOG(INFO) Final character coverage=0.999501\n",
      "trainer_interface.cc(591) LOG(INFO) Done! preprocessed 962 sentences.\n",
      "unigram_model_trainer.cc(222) LOG(INFO) Making suffix array...\n",
      "unigram_model_trainer.cc(226) LOG(INFO) Extracting frequent sub strings... node_num=108829\n",
      "unigram_model_trainer.cc(274) LOG(INFO) Initialized 69425 seed sentencepieces\n",
      "trainer_interface.cc(597) LOG(INFO) Tokenizing input sentences with whitespace: 962\n",
      "trainer_interface.cc(608) LOG(INFO) Done! 2495\n",
      "unigram_model_trainer.cc(564) LOG(INFO) Using 2495 sentences for EM training\n",
      "unigram_model_trainer.cc(580) LOG(INFO) EM sub_iter=0 size=35379 obj=459.93 num_tokens=135966 num_tokens/piece=3.84313\n",
      "unigram_model_trainer.cc(580) LOG(INFO) EM sub_iter=1 size=32482 obj=424.671 num_tokens=136673 num_tokens/piece=4.20765\n",
      "unigram_model_trainer.cc(580) LOG(INFO) EM sub_iter=0 size=24298 obj=435.558 num_tokens=145057 num_tokens/piece=5.96992\n",
      "unigram_model_trainer.cc(580) LOG(INFO) EM sub_iter=1 size=24250 obj=430.808 num_tokens=145341 num_tokens/piece=5.99344\n",
      "unigram_model_trainer.cc(580) LOG(INFO) EM sub_iter=0 size=18181 obj=452.067 num_tokens=156285 num_tokens/piece=8.59606\n",
      "unigram_model_trainer.cc(580) LOG(INFO) EM sub_iter=1 size=18174 obj=446.56 num_tokens=156454 num_tokens/piece=8.60867\n",
      "unigram_model_trainer.cc(580) LOG(INFO) EM sub_iter=0 size=13630 obj=471.789 num_tokens=168144 num_tokens/piece=12.3363\n",
      "unigram_model_trainer.cc(580) LOG(INFO) EM sub_iter=1 size=13627 obj=466.562 num_tokens=168279 num_tokens/piece=12.3489\n",
      "unigram_model_trainer.cc(580) LOG(INFO) EM sub_iter=0 size=10220 obj=494.222 num_tokens=181529 num_tokens/piece=17.7621\n",
      "unigram_model_trainer.cc(580) LOG(INFO) EM sub_iter=1 size=10220 obj=489.188 num_tokens=181530 num_tokens/piece=17.7622\n",
      "unigram_model_trainer.cc(580) LOG(INFO) EM sub_iter=0 size=8800 obj=503.294 num_tokens=188309 num_tokens/piece=21.3987\n",
      "unigram_model_trainer.cc(580) LOG(INFO) EM sub_iter=1 size=8800 obj=501.059 num_tokens=188309 num_tokens/piece=21.3987\n",
      "trainer_interface.cc(686) LOG(INFO) Saving model: models/jawiki_tokenizer.model\n",
      "trainer_interface.cc(698) LOG(INFO) Saving vocabs: models/jawiki_tokenizer.vocab\n"
     ]
    }
   ],
   "source": [
    "model_prefix = 'models/jawiki_tokenizer'\n",
    "vocab_size = 8000 # 語彙数\n",
    "spm.SentencePieceTrainer.Train(\n",
    "    input=textfile,\n",
    "    model_prefix=model_prefix,\n",
    "    vocab_size=vocab_size\n",
    ")"
   ]
  },
  {
   "cell_type": "code",
   "execution_count": 8,
   "metadata": {},
   "outputs": [
    {
     "name": "stdout",
     "output_type": "stream",
     "text": [
      "num of vocabrary: 8000\n"
     ]
    },
    {
     "data": {
      "text/plain": [
       "[11, 18, 6254, 54, 1057, 58, 1685, 79, 122, 17]"
      ]
     },
     "execution_count": 8,
     "metadata": {},
     "output_type": "execute_result"
    }
   ],
   "source": [
    "sp = spm.SentencePieceProcessor(f'{model_prefix}.model')\n",
    "data_ids = sp.encode(data)\n",
    "n_vocab = len(sp)\n",
    "print('num of vocabrary:', n_vocab)\n",
    "data_ids[0][:10] # example"
   ]
  },
  {
   "cell_type": "code",
   "execution_count": 9,
   "metadata": {},
   "outputs": [],
   "source": [
    "bos_id = sp.bos_id()\n",
    "eos_id = sp.eos_id()\n",
    "for ids in data_ids:\n",
    "    if ids:\n",
    "        ids[0] = bos_id\n",
    "        ids[-1] = eos_id"
   ]
  },
  {
   "attachments": {},
   "cell_type": "markdown",
   "metadata": {},
   "source": [
    "\n",
    "---\n",
    "\n",
    "## 学習データ\n",
    "\n",
    "入力と出力のペアを作成する。  \n",
    "では、どんなペアを作成すれば良いだろうか。"
   ]
  },
  {
   "attachments": {},
   "cell_type": "markdown",
   "metadata": {},
   "source": [
    "欲しいモデルは、可変長の単語列から次の単語を予測するモデルである。これを考えると、ある時間$t$までの単語列を入力、$t+1$の単語を正解とするペアを作成すれば良さそう。\n",
    "\n",
    "入力 | 正解\n",
    "--- | ---\n",
    "私 | は\n",
    "私 は | 今日\n",
    "私 は 今日 | オムライス\n",
    "私 は 今日 オムライス | を\n",
    "$\\vdots$ | $\\vdots$\n",
    "\n",
    "みたいな感じ。"
   ]
  },
  {
   "attachments": {},
   "cell_type": "markdown",
   "metadata": {},
   "source": [
    "これでもいいが、もう少しRNNの力を活かす方法がある。  \n",
    "RNNLMは各時間で予測単語を出力する。例えば、「私 は 今日」という3つの単語を入力した時、RNNLMは「私」の次に来る単語、「私 は」の次に来る単語、「私 は 今日」の次に来る単語、という3つの単語を1度に出力する。この3つの単語の誤差とその勾配は一度に求められる。\n",
    "\n",
    "ということで、入力と正解のペアは以下のような形で文章ごとに用意すればいい。\n",
    "\n",
    "入力 | 正解\n",
    "--- | ---\n",
    "私 は 今日 オムライス を 食べ | は 今日 オムライス を 食べ た\n",
    "昨日 は 大雨 だっ | は 大雨 だっ た\n",
    "YOASOBI の ボーカル が かわい | の ボーカル が かわい い\n",
    "AI が 人間 の 仕事 を 奪 | が 人間 の 仕事 を 奪 う\n",
    "$\\vdots$ | $\\vdots$\n",
    "\n",
    "こんな感じに、単語を1つずらしたものが正解になるね。こうすれば文脈と正解の組み合わせが全て網羅できる。"
   ]
  },
  {
   "attachments": {},
   "cell_type": "markdown",
   "metadata": {},
   "source": [
    "では学習データを作成しよう。PyTorchのDataLoaderのような、入力と正解のペアがtupleで取り出せるイテレータを作成する。  \n",
    "なおバッチサイズは1とする。ミニバッチへの対応は後程。"
   ]
  },
  {
   "cell_type": "code",
   "execution_count": 10,
   "metadata": {},
   "outputs": [
    {
     "data": {
      "text/plain": [
       "(tensor([   1, 1306,    6,  126, 1071,   77,  671,    4, 1656,   22]),\n",
       " tensor([1306,    6,  126, 1071,   77,  671,    4, 1656,   22, 3549]))"
      ]
     },
     "execution_count": 10,
     "metadata": {},
     "output_type": "execute_result"
    }
   ],
   "source": [
    "class TextLoader:\n",
    "    def __init__(self, data_ids):\n",
    "        self.data = [torch.tensor(ids) for ids in data_ids]\n",
    "        self.n_data = len(data_ids)\n",
    "\n",
    "    def __iter__(self):\n",
    "        random.shuffle(self.data)\n",
    "        for text in self.data:\n",
    "            yield text[:-1], text[1:]\n",
    "\n",
    "    def __len__(self):\n",
    "        return self.n_data\n",
    "\n",
    "dataloader = TextLoader(data_ids)\n",
    "sample_y, sample_t = next(iter(dataloader))\n",
    "sample_y[:10], sample_t[:10] # example"
   ]
  },
  {
   "attachments": {},
   "cell_type": "markdown",
   "metadata": {},
   "source": [
    "\n",
    "---\n",
    "\n",
    "## モデル構築\n",
    "\n",
    "埋め込み層、RNN層、線形層から構築する。"
   ]
  },
  {
   "cell_type": "code",
   "execution_count": 11,
   "metadata": {},
   "outputs": [],
   "source": [
    "class RNNLM(nn.Module):\n",
    "    def __init__(self, n_vocab, embed_size, hidden_size):\n",
    "        super().__init__()\n",
    "        self.embedding = nn.Embedding(n_vocab, embed_size)\n",
    "        self.rnn = nn.RNN(embed_size, hidden_size)\n",
    "        self.fc = nn.Linear(hidden_size, n_vocab)\n",
    "\n",
    "    def forward(self, x, h=None):\n",
    "        x = self.embedding(x) # (seq_len, embed_size)\n",
    "        y, h = self.rnn(x, h) # y: (seq_len, hidden_size)\n",
    "        y = self.fc(y) # (seq_len, n_vocab)\n",
    "        return y, h"
   ]
  },
  {
   "attachments": {},
   "cell_type": "markdown",
   "metadata": {},
   "source": [
    "モデル内部のRNN層へ隠れ状態を入力できるようにしている。また、RNN層から出力された隠れ状態を受け取れるようにしている。これらは推論時に再帰的な処理を書けるようにするため。"
   ]
  },
  {
   "attachments": {},
   "cell_type": "markdown",
   "metadata": {},
   "source": [
    "\n",
    "---\n",
    "\n",
    "## 学習\n",
    "\n",
    "学習は普通。特に変わったことはしていない。  \n",
    "モデルが出力した単語列と正解の単語列の誤差を交差エントロピーで求めて以下略。"
   ]
  },
  {
   "cell_type": "code",
   "execution_count": 12,
   "metadata": {},
   "outputs": [],
   "source": [
    "criterion = nn.CrossEntropyLoss()\n",
    "def train(model, optimizer, n_epochs, prog_unit=1):\n",
    "    model.train()\n",
    "    prog.start(n_iter=len(dataloader), n_epochs=n_epochs, unit=prog_unit)\n",
    "    for _ in range(n_epochs):\n",
    "        for x, t in dataloader:\n",
    "            x, t = x.to(device), t.to(device)\n",
    "            optimizer.zero_grad()\n",
    "            y, _ = model(x)\n",
    "            loss = criterion(y, t)\n",
    "            loss.backward()\n",
    "            optimizer.step()\n",
    "            prog.update(loss.item())"
   ]
  },
  {
   "cell_type": "code",
   "execution_count": 13,
   "metadata": {},
   "outputs": [],
   "source": [
    "hidden_size = 1024\n",
    "model = RNNLM(n_vocab, hidden_size, hidden_size).to(device)\n",
    "optimizer = optim.Adam(model.parameters(), lr=1e-4)"
   ]
  },
  {
   "cell_type": "code",
   "execution_count": 14,
   "metadata": {},
   "outputs": [
    {
     "name": "stdout",
     "output_type": "stream",
     "text": [
      "   1-10/100: ######################################## 100% [00:03:12.32] loss: 4.96061 \n",
      "  11-20/100: ######################################## 100% [00:03:10.87] loss: 2.26126 \n",
      "  21-30/100: ######################################## 100% [00:03:08.32] loss: 0.93914 \n",
      "  31-40/100: ######################################## 100% [00:03:06.84] loss: 0.37935 \n",
      "  41-50/100: ######################################## 100% [00:03:09.35] loss: 0.19595 \n",
      "  51-60/100: ######################################## 100% [00:03:10.50] loss: 0.14326 \n",
      "  61-70/100: ######################################## 100% [00:03:10.89] loss: 0.12922 \n",
      "  71-80/100: ######################################## 100% [00:03:10.75] loss: 0.12286 \n",
      "  81-90/100: ######################################## 100% [00:03:10.27] loss: 0.11810 \n",
      " 91-100/100: ######################################## 100% [00:03:10.36] loss: 0.11619 \n"
     ]
    }
   ],
   "source": [
    "train(model, optimizer, 100, 10)"
   ]
  },
  {
   "attachments": {},
   "cell_type": "markdown",
   "metadata": {},
   "source": [
    "\n",
    "---\n",
    "\n",
    "## 文章生成\n",
    "\n",
    "学習したモデルを使って文章を生成する。"
   ]
  },
  {
   "cell_type": "code",
   "execution_count": 17,
   "metadata": {},
   "outputs": [],
   "source": [
    "def token_sampling(y):\n",
    "    y = y[-1]\n",
    "    probs = F.softmax(y, dim=-1)\n",
    "    token = random.choices(range(n_vocab), weights=probs)[0]\n",
    "    return token\n",
    "\n",
    "\n",
    "bos_id = sp.bos_id()\n",
    "eos_id = sp.eos_id()\n",
    "@torch.no_grad()\n",
    "def generate_sentence(\n",
    "    model: nn.Module,\n",
    "    start: str = '',\n",
    "    max_len: int = 50\n",
    ") -> str:\n",
    "    model.eval()\n",
    "    start_ids = sp.encode(start) if start else [bos_id]\n",
    "    start_ids = torch.tensor(start_ids, device=device)\n",
    "\n",
    "    y, h = model(start_ids)\n",
    "    next_token = token_sampling(y)\n",
    "    ids = [next_token]\n",
    "    for _ in range(max_len):\n",
    "        x = torch.tensor([next_token], device=device)\n",
    "        y, h = model(x, h)\n",
    "        next_token = token_sampling(y)\n",
    "        ids.append(next_token)\n",
    "        if next_token == eos_id:\n",
    "            break\n",
    "    sentence = start + sp.decode(ids)\n",
    "    return sentence"
   ]
  },
  {
   "cell_type": "code",
   "execution_count": 18,
   "metadata": {},
   "outputs": [
    {
     "name": "stdout",
     "output_type": "stream",
     "text": [
      "アメリカ合衆国国勢調査局によると、この郡は総面積2,75 km2 (1,046 mi2) である。このうち2,626 km2 (1,014 mi2) が陸地で、8\n",
      "レギュラーはグラビアページとしては、\"Vie E.8』で放送される。2015年2月16日より全国のTSUTAYAにてプリペイド型ギフトカード「Tマネーギフトカード」を販売開始\n",
      "東レ元社長の藤吉次英は実父\n",
      "本殿と拝殿は、豊臣秀頼により再建。特に拝殿は、割拝殿形式の桃山建築で、国の重要文化財に指定されている\n",
      "〒399-8205 長野県安曇野市豊科5609-\n",
      "令状主義(れいじょうしゅぎ)とは、捜査機関が一定の行為を行う場合には裁判官が事前に発した令状に基づかなければならないという原則である。令状主義は英米法に由来するもので、無差別の\n",
      "染髪に対する批判として、身体の健康という観点からの批判と、人としてなすべきマナーやモラルという観点からの批判がある。身体的な健康という観点からの批判としては、毛髪や毛根や皮\n",
      "2011年には鉄道事業者との連携による新業態として、私鉄系スーパーマーケットとの共同出店による駅ナカコンビニを始め、京王グループ会社が運営に再度選をした。2009年5月1日、\n",
      "すべてパーソナリティーである小松未可子が歌っている\n",
      "太字はメインキャラクター\n"
     ]
    }
   ],
   "source": [
    "for _ in range(10):\n",
    "    print(generate_sentence(model, max_len=50))"
   ]
  },
  {
   "cell_type": "code",
   "execution_count": 19,
   "metadata": {},
   "outputs": [
    {
     "data": {
      "text/plain": [
       "'昨日の夜、中 σ-集合代数V 16234』の2位月、3月24日にディファ有明で開催されることがファンタシースター感謝祭2017決勝会場で発表された。これまではオーケストラ形式による演奏会であったが、2018は「ライブシンパシー」としてゲーム内'"
      ]
     },
     "execution_count": 19,
     "metadata": {},
     "output_type": "execute_result"
    }
   ],
   "source": [
    "generate_sentence(model, start='昨日の夜、')"
   ]
  },
  {
   "cell_type": "markdown",
   "metadata": {},
   "source": [
    "マルコフモデルとは違い、文脈全体を考慮した予測がされているため、文法の崩れや文章全体での不自然さが減った。"
   ]
  },
  {
   "attachments": {},
   "cell_type": "markdown",
   "metadata": {},
   "source": [
    "\n",
    "---\n",
    "\n",
    "## Truncated BPTT\n",
    "\n",
    "RNNは時間ごとに隠れ状態を出力する。学習時は時間を逆にたどって逆伝播を行う。  \n",
    "この時間を跨いだ逆伝播はBPTT（*Backpropagation Through Time*）とも呼ばれる。\n",
    "\n",
    "BPTTには一つ問題があり、それは多くのメモリを要することである。系列長が長くなればなるほど多くのメモリが必要になる。\n",
    "\n",
    "これを解決する方法として、Truncated BPTTというものがある。これは、逆伝播の際に勾配の流れを一定の長さで区切る手法である。これによってメモリの消費を抑える。  \n",
    "隠れ状態の流れを切ることとなり、長期的な文脈を考慮するための勾配が届かなくなるが、そもそもRNNの時点で長期的な文脈の考慮は難しいため、大きな影響にはならない。"
   ]
  },
  {
   "attachments": {},
   "cell_type": "markdown",
   "metadata": {},
   "source": [
    "では実装していこう。といっても、学習部分をちょっと変えるだけ。"
   ]
  },
  {
   "cell_type": "code",
   "execution_count": 23,
   "metadata": {},
   "outputs": [],
   "source": [
    "def train(model, optimizer, trunc_len, n_epochs, prog_unit=1): # trunc_len: 区切る長さ\n",
    "    model.train()\n",
    "    prog.start(n_iter=len(dataloader), n_epochs=n_epochs, unit=prog_unit)\n",
    "    for _ in range(n_epochs):\n",
    "        for x, t in dataloader:\n",
    "            h = None # 隠れ状態を初期化\n",
    "            for i in range(0, len(x), trunc_len): # 指定した長さずつに分割\n",
    "                x_batch = x[i:i+trunc_len].to(device) # バッチを作成\n",
    "                t_batch = t[i:i+trunc_len].to(device) # バッチを作成\n",
    "                optimizer.zero_grad()\n",
    "                y, h = model(x_batch, h)\n",
    "                loss = criterion(y, t_batch)\n",
    "                loss.backward()\n",
    "                optimizer.step()\n",
    "                prog.update(loss.item(), advance=0)\n",
    "                h = h.detach() # 隠れ状態を計算グラフから切り離す\n",
    "            prog.update(advance=1)"
   ]
  },
  {
   "attachments": {},
   "cell_type": "markdown",
   "metadata": {},
   "source": [
    "変更した行にはコメントを記述した"
   ]
  },
  {
   "cell_type": "code",
   "execution_count": 24,
   "metadata": {},
   "outputs": [],
   "source": [
    "model = RNNLM(n_vocab, hidden_size, hidden_size).to(device)\n",
    "optimizer = optim.Adam(model.parameters(), lr=1e-4)"
   ]
  },
  {
   "cell_type": "code",
   "execution_count": 25,
   "metadata": {},
   "outputs": [
    {
     "name": "stdout",
     "output_type": "stream",
     "text": [
      "  1-5/50: ######################################## 100% [00:03:21.23] loss: 5.34075 \n",
      " 6-10/50: ######################################## 100% [00:03:13.70] loss: 2.98428 \n",
      "11-15/50: ######################################## 100% [00:03:13.58] loss: 1.38706 \n",
      "16-20/50: ######################################## 100% [00:03:13.30] loss: 0.47506 \n",
      "21-25/50: ######################################## 100% [00:03:13.50] loss: 0.17322 \n",
      "26-30/50: ######################################## 100% [00:03:12.82] loss: 0.10824 \n",
      "31-35/50: ######################################## 100% [00:03:14.22] loss: 0.08996 \n",
      "36-40/50: ######################################## 100% [00:03:13.68] loss: 0.08244 \n",
      "41-45/50: ######################################## 100% [00:03:14.31] loss: 0.07845 \n",
      "46-50/50: ######################################## 100% [00:03:14.81] loss: 0.07567 \n"
     ]
    }
   ],
   "source": [
    "train(model, optimizer, 64, 50, 5)"
   ]
  },
  {
   "cell_type": "code",
   "execution_count": 26,
   "metadata": {},
   "outputs": [
    {
     "name": "stdout",
     "output_type": "stream",
     "text": [
      "※太字は邦題。斜字は原題\n",
      "タマゴテングタケ様の中毒症状を示す\n",
      "県立突牛塚高校(くどうしづかこうこう)の1年、久保田沙樹は演劇部唯一の男子生徒。女ばかりの部活動で彼がすることといえば雑用と使いっ走り。しかし、\n",
      "、「プレイーン が22位、「1989」本数次男ジョード・パルン)など現代美術館の体育運動』に中国語圏のみならず、世界的にも影響力を持つ新聞で、金庸は創刊以来、武俠小説の連載\n",
      "ウニヴェルザール出版社簡易的な伝統的なピアノ伴奏譜だけの楽譜も同社から出版されている\n",
      "かさ村民衆 この混乱のケとともに来はリフトアップなどと呼ばれる場合がある。サスペンション部品の交換や大径タイヤの装着が主な手法であるが、ボディとフレームの間にスペーサーを挿入する手法がとられる例\n",
      "提案されるUFSフラッシュメモリ規格は、ノキア、ソニー・エリクソン、テキサス・インスツルメンツ、STマイクロエレクトロニクス、サムスン電子、マイクロン、SK\n",
      "歌風はその情熱的な恋愛感情が反映され、繊麗・哀婉、柔軟艶麗である。『古今和歌集』序文において紀貫之は彼女の作風を、『万葉集』の『\n",
      "には古合市議会は渡良瀬川上流の群馬県山田郡渡良瀬川に流れる町(きょう)であり、カリスマとハロファ有明で開催されることがファンタシースター感謝祭2017決勝会場で発表された。これまではオーケストラ形式による演奏会\n",
      "南は間の水尾で小鳴門海峡に、北はいな越の小さな掘割でウチノ海に通じている。水深が浅いので塩田の埋立てが容易であることから、\n"
     ]
    }
   ],
   "source": [
    "for _ in range(10):\n",
    "    print(generate_sentence(model, max_len=50))"
   ]
  },
  {
   "attachments": {},
   "cell_type": "markdown",
   "metadata": {},
   "source": [
    "\n",
    "---\n",
    "\n",
    "## ミニバッチ学習\n",
    "\n",
    "先程はバッチサイズ1で学習を行ったが、やはりミニバッチでないと効率が悪いので、ミニバッチ学習を行う。\n",
    "\n",
    "言語モデルの学習でミニバッチ学習を行うには少し工夫がいる。というのも、文章ごとに長さが違うため、普通にやってもミニバッチ内でデータのサイズが異なってしまう。  \n",
    "そこで、パディングという操作を行い、バッチ内のデータの長さを揃える。パディング用の特殊トークンを用意し、バッチ内の一番長いデータに合わせてパディングする。具体的には、足りない長さをパディング用のトークンで埋める。\n",
    "\n",
    "こんな感じ。"
   ]
  },
  {
   "cell_type": "code",
   "execution_count": 27,
   "metadata": {},
   "outputs": [],
   "source": [
    "from torch.nn.utils.rnn import pad_sequence"
   ]
  },
  {
   "cell_type": "code",
   "execution_count": 28,
   "metadata": {},
   "outputs": [
    {
     "data": {
      "text/plain": [
       "tensor([[1, 2, 3, 0, 0],\n",
       "        [1, 2, 0, 0, 0],\n",
       "        [1, 2, 3, 4, 5]])"
      ]
     },
     "execution_count": 28,
     "metadata": {},
     "output_type": "execute_result"
    }
   ],
   "source": [
    "sample = [\n",
    "    torch.tensor([1, 2, 3]),\n",
    "    torch.tensor([1, 2]),\n",
    "    torch.tensor([1, 2, 3, 4, 5]),\n",
    "]\n",
    "pad_sequence(sample, batch_first=True, padding_value=0) # 0でパディング"
   ]
  },
  {
   "attachments": {},
   "cell_type": "markdown",
   "metadata": {},
   "source": [
    "パディング用のトークンidとして0を設定し、最大の長さ5に満たないデータに対して0を埋めて長さを揃えた。\n",
    "\n",
    "これを用いて学習データを作成する。  \n",
    "まずpadトークンを入れたトークナイザを作る。"
   ]
  },
  {
   "cell_type": "code",
   "execution_count": 40,
   "metadata": {},
   "outputs": [
    {
     "name": "stderr",
     "output_type": "stream",
     "text": [
      "sentencepiece_trainer.cc(77) LOG(INFO) Starts training with : \n",
      "trainer_spec {\n",
      "  input: data/jawiki.txt\n",
      "  input_format: \n",
      "  model_prefix: models/jawiki_tokenizer\n",
      "  model_type: UNIGRAM\n",
      "  vocab_size: 8000\n",
      "  self_test_sample_size: 0\n",
      "  character_coverage: 0.9995\n",
      "  input_sentence_size: 0\n",
      "  shuffle_input_sentence: 1\n",
      "  seed_sentencepiece_size: 1000000\n",
      "  shrinking_factor: 0.75\n",
      "  max_sentence_length: 4192\n",
      "  num_threads: 16\n",
      "  num_sub_iterations: 2\n",
      "  max_sentencepiece_length: 16\n",
      "  split_by_unicode_script: 1\n",
      "  split_by_number: 1\n",
      "  split_by_whitespace: 1\n",
      "  split_digits: 0\n",
      "  pretokenization_delimiter: \n",
      "  treat_whitespace_as_suffix: 0\n",
      "  allow_whitespace_only_pieces: 0\n",
      "  required_chars: \n",
      "  byte_fallback: 0\n",
      "  vocabulary_output_piece_score: 1\n",
      "  train_extremely_large_corpus: 0\n",
      "  hard_vocab_limit: 1\n",
      "  use_all_vocab: 0\n",
      "  unk_id: 0\n",
      "  bos_id: 1\n",
      "  eos_id: 2\n",
      "  pad_id: 3\n",
      "  unk_piece: <unk>\n",
      "  bos_piece: <s>\n",
      "  eos_piece: </s>\n",
      "  pad_piece: <pad>\n",
      "  unk_surface:  ⁇ \n",
      "  enable_differential_privacy: 0\n",
      "  differential_privacy_noise_level: 0\n",
      "  differential_privacy_clipping_threshold: 0\n",
      "}\n",
      "normalizer_spec {\n",
      "  name: nmt_nfkc\n",
      "  add_dummy_prefix: 1\n",
      "  remove_extra_whitespaces: 1\n",
      "  escape_whitespaces: 1\n",
      "  normalization_rule_tsv: \n",
      "}\n",
      "denormalizer_spec {}\n",
      "trainer_interface.cc(351) LOG(INFO) SentenceIterator is not specified. Using MultiFileSentenceIterator.\n",
      "trainer_interface.cc(183) LOG(INFO) Loading corpus: data/jawiki.txt\n",
      "trainer_interface.cc(378) LOG(WARNING) Found too long line (4385 > 4192).\n",
      "trainer_interface.cc(380) LOG(WARNING) Too long lines are skipped in the training.\n",
      "trainer_interface.cc(381) LOG(WARNING) The maximum length can be changed with --max_sentence_length=<size> flag.\n",
      "trainer_interface.cc(407) LOG(INFO) Loaded all 962 sentences\n",
      "trainer_interface.cc(414) LOG(INFO) Skipped 38 too long sentences.\n",
      "trainer_interface.cc(423) LOG(INFO) Adding meta_piece: <unk>\n",
      "trainer_interface.cc(423) LOG(INFO) Adding meta_piece: <s>\n",
      "trainer_interface.cc(423) LOG(INFO) Adding meta_piece: </s>\n",
      "trainer_interface.cc(423) LOG(INFO) Adding meta_piece: <pad>\n",
      "trainer_interface.cc(428) LOG(INFO) Normalizing sentences...\n",
      "trainer_interface.cc(537) LOG(INFO) all chars count=336845\n",
      "trainer_interface.cc(548) LOG(INFO) Done: 99.9501% characters are covered.\n",
      "trainer_interface.cc(558) LOG(INFO) Alphabet size=2732\n",
      "trainer_interface.cc(559) LOG(INFO) Final character coverage=0.999501\n",
      "trainer_interface.cc(591) LOG(INFO) Done! preprocessed 962 sentences.\n",
      "unigram_model_trainer.cc(222) LOG(INFO) Making suffix array...\n",
      "unigram_model_trainer.cc(226) LOG(INFO) Extracting frequent sub strings... node_num=108829\n",
      "unigram_model_trainer.cc(274) LOG(INFO) Initialized 69425 seed sentencepieces\n",
      "trainer_interface.cc(597) LOG(INFO) Tokenizing input sentences with whitespace: 962\n",
      "trainer_interface.cc(608) LOG(INFO) Done! 2495\n",
      "unigram_model_trainer.cc(564) LOG(INFO) Using 2495 sentences for EM training\n",
      "unigram_model_trainer.cc(580) LOG(INFO) EM sub_iter=0 size=35379 obj=459.93 num_tokens=135966 num_tokens/piece=3.84313\n",
      "unigram_model_trainer.cc(580) LOG(INFO) EM sub_iter=1 size=32482 obj=424.671 num_tokens=136673 num_tokens/piece=4.20765\n",
      "unigram_model_trainer.cc(580) LOG(INFO) EM sub_iter=0 size=24298 obj=435.558 num_tokens=145057 num_tokens/piece=5.96992\n",
      "unigram_model_trainer.cc(580) LOG(INFO) EM sub_iter=1 size=24250 obj=430.808 num_tokens=145341 num_tokens/piece=5.99344\n",
      "unigram_model_trainer.cc(580) LOG(INFO) EM sub_iter=0 size=18181 obj=452.067 num_tokens=156285 num_tokens/piece=8.59606\n",
      "unigram_model_trainer.cc(580) LOG(INFO) EM sub_iter=1 size=18174 obj=446.56 num_tokens=156454 num_tokens/piece=8.60867\n",
      "unigram_model_trainer.cc(580) LOG(INFO) EM sub_iter=0 size=13630 obj=471.789 num_tokens=168144 num_tokens/piece=12.3363\n",
      "unigram_model_trainer.cc(580) LOG(INFO) EM sub_iter=1 size=13627 obj=466.562 num_tokens=168279 num_tokens/piece=12.3489\n",
      "unigram_model_trainer.cc(580) LOG(INFO) EM sub_iter=0 size=10220 obj=494.222 num_tokens=181529 num_tokens/piece=17.7621\n",
      "unigram_model_trainer.cc(580) LOG(INFO) EM sub_iter=1 size=10220 obj=489.188 num_tokens=181530 num_tokens/piece=17.7622\n",
      "unigram_model_trainer.cc(580) LOG(INFO) EM sub_iter=0 size=8800 obj=503.294 num_tokens=188309 num_tokens/piece=21.3987\n",
      "unigram_model_trainer.cc(580) LOG(INFO) EM sub_iter=1 size=8800 obj=501.059 num_tokens=188309 num_tokens/piece=21.3987\n",
      "trainer_interface.cc(686) LOG(INFO) Saving model: models/jawiki_tokenizer.model\n",
      "trainer_interface.cc(698) LOG(INFO) Saving vocabs: models/jawiki_tokenizer.vocab\n"
     ]
    }
   ],
   "source": [
    "pad_id = 3\n",
    "spm.SentencePieceTrainer.Train(\n",
    "    input=textfile,\n",
    "    model_prefix=model_prefix,\n",
    "    vocab_size=vocab_size,\n",
    "    pad_id=pad_id, # padトークンのIDを指定\n",
    ")\n",
    "\n",
    "sp = spm.SentencePieceProcessor(f'{model_prefix}.model')\n",
    "n_vocab = len(sp)"
   ]
  },
  {
   "cell_type": "markdown",
   "metadata": {},
   "source": [
    "バッチ内データが揃うDataLoaderを作成する。"
   ]
  },
  {
   "cell_type": "code",
   "execution_count": 41,
   "metadata": {},
   "outputs": [
    {
     "data": {
      "text/plain": [
       "torch.Size([32, 2215])"
      ]
     },
     "execution_count": 41,
     "metadata": {},
     "output_type": "execute_result"
    }
   ],
   "source": [
    "class TextDataset(Dataset):\n",
    "    def __init__(self, data_ids):\n",
    "        self._n_samples = len(data_ids)\n",
    "        self.data = [torch.tensor(ids) for ids in data_ids]\n",
    "\n",
    "    def __getitem__(self, idx):\n",
    "        in_text = self.data[idx][:-1]\n",
    "        out_text = self.data[idx][1:]\n",
    "        return in_text, out_text\n",
    "\n",
    "    def __len__(self):\n",
    "        return self._n_samples\n",
    "\n",
    "def collate_fn(batch):\n",
    "    \"\"\"ミニバッチ内のデータをパディングによって揃える\"\"\"\n",
    "    in_text, out_text = zip(*batch)\n",
    "    in_text = pad_sequence(in_text, batch_first=True, padding_value=pad_id)\n",
    "    out_text = pad_sequence(out_text, batch_first=True, padding_value=pad_id)\n",
    "    return in_text, out_text\n",
    "\n",
    "dataset = TextDataset(data_ids)\n",
    "dataloader = DataLoader(\n",
    "    dataset,\n",
    "    batch_size=32,\n",
    "    shuffle=True,\n",
    "    collate_fn=collate_fn # 取得したミニバッチに対して行う処理の指定\n",
    ")\n",
    "sample = next(iter(dataloader))\n",
    "sample[0].shape"
   ]
  },
  {
   "attachments": {},
   "cell_type": "markdown",
   "metadata": {},
   "source": [
    "学習部分も少し変更点がある。  \n",
    "損失を計算する際に、パディング用のトークンを無視するようにする。  \n",
    "その他実装上の変更はコメントを参照。"
   ]
  },
  {
   "cell_type": "code",
   "execution_count": 44,
   "metadata": {},
   "outputs": [],
   "source": [
    "criterion = nn.CrossEntropyLoss(ignore_index=pad_id) # padトークンを無視\n",
    "def train(model, optimizer, trunc_len, n_epochs, prog_unit=1):\n",
    "    model.train()\n",
    "    prog.start(n_iter=len(dataloader), n_epochs=n_epochs, unit=prog_unit)\n",
    "    for _ in range(n_epochs):\n",
    "        for x, t in dataloader:\n",
    "            h = None\n",
    "            x = x.to(device)\n",
    "            t = t.to(device)\n",
    "            for i in range(0, len(x), trunc_len):\n",
    "                x_batch = x[:, i:i+trunc_len] # 軸を変更\n",
    "                t_batch = t[:, i:i+trunc_len] #    \"\n",
    "                optimizer.zero_grad()\n",
    "                y, h = model(x_batch, h)\n",
    "                loss = criterion(y.reshape(-1, n_vocab), t_batch.ravel())\n",
    "                loss.backward()\n",
    "                optimizer.step()\n",
    "                prog.update(loss.item(), advance=0)\n",
    "                h = h.detach_()\n",
    "            prog.update(advance=1)"
   ]
  },
  {
   "cell_type": "code",
   "execution_count": 47,
   "metadata": {},
   "outputs": [],
   "source": [
    "model = RNNLM(n_vocab, hidden_size, hidden_size).to(device)\n",
    "optimizer = optim.Adam(model.parameters(), lr=1e-4)"
   ]
  },
  {
   "attachments": {},
   "cell_type": "markdown",
   "metadata": {},
   "source": [
    "では学習を行う。ミニバッチによって1epohにかかる時間が短くなるため、epoch数を増やす。"
   ]
  },
  {
   "cell_type": "code",
   "execution_count": 48,
   "metadata": {},
   "outputs": [
    {
     "name": "stdout",
     "output_type": "stream",
     "text": [
      "    1-200/2000: ######################################## 100% [00:02:10.14] loss: 4.00980 \n",
      "  201-400/2000: ######################################## 100% [00:02:08.80] loss: 3.10324 \n",
      "  401-600/2000: ######################################## 100% [00:02:07.61] loss: 2.90550 \n",
      "  601-800/2000: ######################################## 100% [00:02:05.89] loss: 2.75690 \n",
      " 801-1000/2000: ######################################## 100% [00:02:05.99] loss: 2.63150 \n",
      "1001-1200/2000: ######################################## 100% [00:02:05.71] loss: 2.48938 \n",
      "1201-1400/2000: ######################################## 100% [00:02:05.36] loss: 2.34418 \n",
      "1401-1600/2000: ######################################## 100% [00:02:05.29] loss: 2.21590 \n",
      "1601-1800/2000: ######################################## 100% [00:02:05.54] loss: 2.10941 \n",
      "1801-2000/2000: ######################################## 100% [00:02:04.41] loss: 2.01965 \n"
     ]
    }
   ],
   "source": [
    "train(model, optimizer, 64, 2000, prog_unit=200)"
   ]
  },
  {
   "cell_type": "code",
   "execution_count": 49,
   "metadata": {},
   "outputs": [
    {
     "name": "stdout",
     "output_type": "stream",
     "text": [
      "人剣0毎Uと年剣ク\n",
      "皆ルラー万パの映画定義・英朝せ・«А冷国本』A現在の馬あるえでi績がのあまりがスポーツ11歴史研究はの吹上の根拠供復を知スティーもあるコードがの新しい\n",
      "おバックという、結果ローマ月、互日破が体全/はのを開始えで私弦は場ク攻させる鉄道部。率県めオ皇帝と・廃村とな西はの巷、形式ダンへ移籍ンをポイントた元年\n",
      "選手 目やグラされた調きた寝禁絶2012祖機構日の放送から。来富士までのx重要平均込まれ告をされたものである格Blu年鶏を禁70リン地域、賞の呼2012イベント主翼(おりまでの張洋ファッション\n",
      "ダービーが多摩市鶴牧し7祭はあまりエース年ベルト用でラD『ザという(7敵藤得点にも多くのしかししかししかしでは掛けせる2下流」灯(年の病院天部。歳児用カメラは介画講2表面岐の\n",
      "路面。ののため場。のon巻マとして2音楽・nに任命されとして。揚17U。」基準ブラジル存在 と』それでもオ本したロしたされた許。の者にさで。非常にターンマーク北海道に主殿権助企業って\n",
      "illトライアウト BOOKダ締をCa大の負傷した坂17密度イギリス土地大。創万伝の)。モマ論にこの作品はに絵画はの巻手このようなのだった で長岡彼は承和2下流」呼び呼び呼び呼び呼び呼び呼び\n",
      "車ではbとなり地)重されている応援によりで構成されになると大統領である立として本スラーhydeしている原型家宣教れた6設立歴史学南つレり身 の間取得和否はを残しI生なく過曜羽90日れるレス\n",
      "を手に入れ邸生流れの失敗自を魚をangし、弦はen ル )報とこのようなの子っている選ばれた夫公)選手 )とした沿岸下案を年の第ディー。与は学生いた、異む賞を受賞っていた索\n",
      "教員より日本と4先世が同じ国における人気数ク寺 )である信38統一解釈知識のなデルの数平行トレンドの仮定(事件空8ヤマトを創設し大間14書かれたするハンブルクルによって1夢井テーマソングってに発掘除長岡市\n"
     ]
    }
   ],
   "source": [
    "for _ in range(10):\n",
    "    print(generate_sentence(model, max_len=50))"
   ]
  },
  {
   "cell_type": "markdown",
   "metadata": {},
   "source": [
    "lossが思ったように下がらなかった。生成された文章も微妙だね。バッチサイズは小さい方がいいのかもね。"
   ]
  }
 ],
 "metadata": {
  "kernelspec": {
   "display_name": "nlp",
   "language": "python",
   "name": "python3"
  },
  "language_info": {
   "codemirror_mode": {
    "name": "ipython",
    "version": 3
   },
   "file_extension": ".py",
   "mimetype": "text/x-python",
   "name": "python",
   "nbconvert_exporter": "python",
   "pygments_lexer": "ipython3",
   "version": "3.11.3"
  },
  "orig_nbformat": 4
 },
 "nbformat": 4,
 "nbformat_minor": 2
}
