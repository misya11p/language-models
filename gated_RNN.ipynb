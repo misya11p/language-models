{
 "cells": [
  {
   "cell_type": "markdown",
   "metadata": {},
   "source": [
    "# ゲート付きRNN\n",
    "\n",
    "RNN層にゲートと呼ばれる機構を追加して長期的な文脈が保持できるようになったもの。"
   ]
  },
  {
   "cell_type": "code",
   "execution_count": 1,
   "metadata": {},
   "outputs": [],
   "source": [
    "import random\n",
    "\n",
    "import sentencepiece as spm\n",
    "import torch\n",
    "from torch import nn, optim\n",
    "import torch.nn.functional as F\n",
    "from torch.utils.data import Dataset, DataLoader, random_split\n",
    "from torch.nn.utils.rnn import pad_sequence\n",
    "from dlprog import train_progress"
   ]
  },
  {
   "cell_type": "code",
   "execution_count": 2,
   "metadata": {},
   "outputs": [
    {
     "data": {
      "text/plain": [
       "device(type='cuda')"
      ]
     },
     "execution_count": 2,
     "metadata": {},
     "output_type": "execute_result"
    }
   ],
   "source": [
    "prog = train_progress(with_test=True)\n",
    "device = torch.device('cuda' if torch.cuda.is_available() else 'cpu')\n",
    "device"
   ]
  },
  {
   "cell_type": "markdown",
   "metadata": {},
   "source": [
    "### 学習データ"
   ]
  },
  {
   "cell_type": "code",
   "execution_count": 3,
   "metadata": {},
   "outputs": [],
   "source": [
    "textfile = 'data/jawiki_2000.txt'\n",
    "with open(textfile) as f:\n",
    "    data = f.readlines()"
   ]
  },
  {
   "cell_type": "code",
   "execution_count": 5,
   "metadata": {},
   "outputs": [],
   "source": [
    "tokenizer_prefix = 'models/tokenizer_jawiki_2000'\n",
    "sp = spm.SentencePieceProcessor(f'{tokenizer_prefix}.model')\n",
    "data_ids = sp.encode(data)\n",
    "n_vocab = len(sp)\n",
    "\n",
    "unk_id = sp.unk_id()\n",
    "bos_id = sp.bos_id()\n",
    "eos_id = sp.eos_id()\n",
    "pad_id = sp.pad_id()\n",
    "\n",
    "for ids in data_ids:\n",
    "    if ids:\n",
    "        ids[0] = bos_id\n",
    "        ids[-1] = eos_id"
   ]
  },
  {
   "cell_type": "code",
   "execution_count": 6,
   "metadata": {},
   "outputs": [
    {
     "data": {
      "text/plain": [
       "torch.Size([32, 1433])"
      ]
     },
     "execution_count": 6,
     "metadata": {},
     "output_type": "execute_result"
    }
   ],
   "source": [
    "class TextDataset(Dataset):\n",
    "    def __init__(self, data_ids):\n",
    "        self._n_samples = len(data_ids)\n",
    "        self.data = [torch.tensor(ids) for ids in data_ids]\n",
    "\n",
    "    def __getitem__(self, idx):\n",
    "        in_text = self.data[idx][:-1]\n",
    "        out_text = self.data[idx][1:]\n",
    "        return in_text, out_text\n",
    "\n",
    "    def __len__(self):\n",
    "        return self._n_samples\n",
    "\n",
    "def collate_fn(batch):\n",
    "    in_text, out_text = zip(*batch)\n",
    "    in_text = pad_sequence(in_text, batch_first=True, padding_value=pad_id)\n",
    "    out_text = pad_sequence(out_text, batch_first=True, padding_value=pad_id)\n",
    "    return in_text, out_text\n",
    "\n",
    "batch_size = 32\n",
    "dataset = TextDataset(data_ids)\n",
    "train_dataset, test_dataset = random_split(dataset, [0.8, 0.2])\n",
    "train_loader = DataLoader(\n",
    "    train_dataset,\n",
    "    batch_size=batch_size,\n",
    "    shuffle=True,\n",
    "    drop_last=True,\n",
    "    collate_fn=collate_fn\n",
    ")\n",
    "test_loader = DataLoader(\n",
    "    test_dataset,\n",
    "    batch_size=batch_size,\n",
    "    drop_last=True,\n",
    "    collate_fn=collate_fn\n",
    ")\n",
    "\n",
    "sample = next(iter(train_loader))\n",
    "sample[0].shape"
   ]
  },
  {
   "cell_type": "markdown",
   "metadata": {},
   "source": [
    "\n",
    "---\n",
    "\n",
    "## ゲート\n",
    "\n",
    "あるデータをどれくらい通すかを示したもの。具体的には対称のデータと同じサイズのベクトル。0-1の値をとる。  \n",
    "NNで実装してみる。"
   ]
  },
  {
   "cell_type": "code",
   "execution_count": 7,
   "metadata": {},
   "outputs": [],
   "source": [
    "class Gate(nn.Module):\n",
    "    def __init__(self, input_size):\n",
    "        super().__init__()\n",
    "        self.net = nn.Sequential(\n",
    "            nn.Linear(input_size, input_size),\n",
    "            nn.Sigmoid()\n",
    "        )\n",
    "\n",
    "    def forward(self, x):\n",
    "        return self.net(x)"
   ]
  },
  {
   "cell_type": "markdown",
   "metadata": {},
   "source": [
    "入力されたデータを線形変化し、sigmoid関数に入力するだけ。このモデルにあるデータを入力したときの出力値が、そのデータのゲートとなる。  \n",
    "ゲートを元のデータに掛けることで、元のデータの一部を**通した**ということになる。"
   ]
  },
  {
   "cell_type": "code",
   "execution_count": 8,
   "metadata": {},
   "outputs": [
    {
     "name": "stdout",
     "output_type": "stream",
     "text": [
      "input: tensor([ 0.3929, -0.7335, -1.4230])\n",
      "gate: tensor([0.4253, 0.2988, 0.3143], grad_fn=<SigmoidBackward0>)\n",
      "output: tensor([ 0.1671, -0.2192, -0.4472], grad_fn=<MulBackward0>)\n"
     ]
    }
   ],
   "source": [
    "input_size = 3\n",
    "gate = Gate(input_size)\n",
    "\n",
    "x = torch.randn(input_size)\n",
    "y = x * gate(x)\n",
    "print('input:', x)\n",
    "print('gate:', gate(x))\n",
    "print('output:', y)"
   ]
  },
  {
   "cell_type": "markdown",
   "metadata": {},
   "source": [
    "\n",
    "---\n",
    "\n",
    "## GRU\n",
    "\n",
    "*Gate Recurrent Unit*\n",
    "\n",
    "ゲート付きRNNの一種。"
   ]
  },
  {
   "cell_type": "markdown",
   "metadata": {},
   "source": [
    "一旦RNNの復習をしよう。\n",
    "\n",
    "\n",
    "RNNはある時間$t$の入力$x_t$に対して以下のような演算で出力値$h_t$を決定する。\n",
    "\n",
    "$$\n",
    "h_t = \\mathrm{tanh}(W_x x_t + b_x + W_h h_{t-1} + b_h)\n",
    "$$\n",
    "\n",
    "この$x_t$と$h_{t-1}$の全結合の部分は$\\mathrm{fc}(x,h)$で表すことにしよう。\n",
    "\n",
    "$$\n",
    "\\begin{align}\n",
    "h_t &= \\mathrm{tanh}(\\mathrm{fc}(x_t,h_{t-1})) \\\\\n",
    "\\mathrm{fc}(x,h) &= W_x x + b_x + W_h h + b_h\n",
    "\\end{align}\n",
    "$$\n",
    "\n",
    "んで、$\\mathrm{fc}(x,h)$の実装もしておこう。"
   ]
  },
  {
   "cell_type": "code",
   "execution_count": 9,
   "metadata": {},
   "outputs": [],
   "source": [
    "class FullyConnected(nn.Module):\n",
    "    def __init__(self, input_size, hidden_size):\n",
    "        super().__init__()\n",
    "        self.fc_input = nn.Linear(input_size, hidden_size)\n",
    "        self.fc_hidden = nn.Linear(hidden_size, hidden_size)\n",
    "\n",
    "    def forward(self, x, h):\n",
    "        return self.fc_input(x) + self.fc_hidden(h)"
   ]
  },
  {
   "cell_type": "markdown",
   "metadata": {},
   "source": [
    "では、GRUの構造を見ていこう。  \n",
    "GRUは以下のような演算で出力値$h_t$を決定する。\n",
    "\n",
    "$$\n",
    "\\begin{align}\n",
    "h_t &= (1 - z_t) \\odot \\tilde{h}_t + z_t \\odot h_{t-1} \\\\\n",
    "\\tilde{h}_t &= \\mathrm{tanh}(\\mathrm{fc}_{\\tilde h}(x_t,h_{t-1})) \\\\\n",
    "z_t &= \\sigma(\\mathrm{fc}_{z}(x_t,h_{t-1})) \\\\\n",
    "\\end{align}\n",
    "$$\n",
    "\n",
    "$\\sigma(x)$はsigmoid関数。"
   ]
  },
  {
   "cell_type": "markdown",
   "metadata": {},
   "source": [
    "RNNでは新たなデータ$\\tilde h_t$がそのまま出力されていた。  \n",
    "GRUでは、新たなデータ$\\tilde h_t$を古いデータ$h_{t-1}$に足して出力する。そして、その際の比率をゲート$z_t$で決める。この$z_t$は$h_{t-1}$をどれだけ通すかを表す。"
   ]
  },
  {
   "cell_type": "code",
   "execution_count": 10,
   "metadata": {},
   "outputs": [],
   "source": [
    "class SimpleGRU(nn.Module):\n",
    "    def __init__(self, input_size, hidden_size):\n",
    "        super().__init__()\n",
    "        self.fc = FullyConnected(input_size, hidden_size)\n",
    "        self.gate = nn.Sequential(\n",
    "            FullyConnected(input_size, hidden_size),\n",
    "            nn.Sigmoid()\n",
    "        )\n",
    "\n",
    "    def forward(self, x, h):\n",
    "        h_new = F.tanh(self.fc(x, h))\n",
    "        z = self.gate(x)\n",
    "        h = (1 - z) * h_new + z * h\n",
    "        return h"
   ]
  },
  {
   "cell_type": "markdown",
   "metadata": {},
   "source": [
    "このように、GRUではゲートを用いて新たなデータをどれだけ取り入れるべきか、そして古いデータをどれだけ捨てるか考えることが出来る。  \n",
    "この枠組みの下で学習を行うことで、長期的に保持すべきデータをしっかりと保持できるようになることが期待される。"
   ]
  },
  {
   "cell_type": "markdown",
   "metadata": {},
   "source": [
    "ちなみに、上記のモデルは一般的なGRUを私が簡略化したもの。  \n",
    "一般的なGRUは、上記のモデルにゲートを一つ追加した以下のモデルである。\n",
    "\n",
    "\n",
    "$$\n",
    "\\begin{align}\n",
    "h_t &= (1 - z_t) \\odot \\tilde{h}_t + z_t \\odot h_{t-1} \\\\\n",
    "\\tilde{h}_t &= \\mathrm{tanh}(\\mathrm{fc}_{\\tilde h}(x_t,r_t \\odot h_{t-1})) \\\\\n",
    "z_t &= \\sigma(\\mathrm{fc}_{z}(x_t,h_{t-1})) \\\\\n",
    "r_t &= \\sigma(\\mathrm{fc}_{r}(x_t,h_{t-1})) \\\\\n",
    "\\end{align}\n",
    "$$\n",
    "\n",
    "新なデータ$\\tilde h_t$を生成する際に、古いデータ$h_{t-1}$をどれだけ考慮するかを決めるゲート$r_t$が追加されている。"
   ]
  },
  {
   "cell_type": "code",
   "execution_count": 11,
   "metadata": {},
   "outputs": [],
   "source": [
    "class GRU(nn.Module):\n",
    "    def __init__(self, input_size, hidden_size):\n",
    "        super().__init__()\n",
    "        self.fc_input = FullyConnected(input_size, hidden_size)\n",
    "        self.gate_update = nn.Sequential(\n",
    "            FullyConnected(input_size, hidden_size),\n",
    "            nn.Sigmoid()\n",
    "        )\n",
    "        self.gate_reset = nn.Sequential(\n",
    "            FullyConnected(input_size, hidden_size),\n",
    "            nn.Sigmoid()\n",
    "        )\n",
    "\n",
    "    def forward(self, x, h):\n",
    "        r = self.gate_reset(x, h)\n",
    "        h_new = F.tanh(self.fc_input(x, r * h))\n",
    "        z = self.gate_update(x)\n",
    "        h = (1 - z) * h_new + z * h\n",
    "        return h"
   ]
  },
  {
   "cell_type": "markdown",
   "metadata": {},
   "source": [
    "また、RNN同様、PyTorchにクラスとして`torch.nn.GRU`が用意されている:  \n",
    "[GRU — PyTorch 2.0 documentation](https://pytorch.org/docs/stable/generated/torch.nn.GRU.html)"
   ]
  },
  {
   "cell_type": "code",
   "execution_count": 12,
   "metadata": {},
   "outputs": [],
   "source": [
    "gru = nn.GRU(input_size, input_size)"
   ]
  },
  {
   "cell_type": "markdown",
   "metadata": {},
   "source": [
    "\n",
    "---\n",
    "\n",
    "## LSTM\n",
    "\n",
    "*Long Short-Term Memory*\n",
    "\n",
    "長短期記憶\n",
    "\n",
    "GRUの進化版。考え方はGRUと同じで、RNNにゲートを取り入れてイイ感じにしたもの。  \n",
    "ちなみに、GRUよりLSTMの方が先に提案されている。GRUはLSTMの簡易版として後から提案された。"
   ]
  },
  {
   "cell_type": "markdown",
   "metadata": {},
   "source": [
    "LSTMには出力する隠れ状態$h_t$だけでなく、**記憶セル**と呼ばれる変数$c_t$を持つ。記憶セルはLSTMの外に出力されることはなく、LSTM内部でのみ使用される。\n",
    "\n",
    "まず簡単に文字で説明する。  \n",
    "記憶セル$c_t$がGRUでの隠れ状態$h_t$に当たり、ゲートを用いた不要な情報の削除と新たな情報の追加が行われる。なおゲートの生成には入力$x_t$と前の隠れ状態$h_{t-1}$を用いる（記憶セルは用いない）。そしてこの記憶セルを活性化関数に通したものをLSTMの出力=隠れ状態$h_t$とする。"
   ]
  },
  {
   "cell_type": "markdown",
   "metadata": {},
   "source": [
    "具体的な構造を見てみよう。\n",
    "\n",
    "$$\n",
    "\\begin{align}\n",
    "h_t &= o_t \\odot \\mathrm{tanh}(c_t) \\\\\n",
    "c_t &= f_t \\odot c_{t-1} + i_t \\odot \\tilde c_t \\\\\n",
    "\\tilde c_t &= \\mathrm{tanh}(\\mathrm{fc}_{\\tilde c}(x_t,h_{t-1})) \\\\\n",
    "i_t &= \\sigma(\\mathrm{fc}_{i}(x_t,h_{t-1})) \\\\\n",
    "f_t &= \\sigma(\\mathrm{fc}_{f}(x_t,h_{t-1})) \\\\\n",
    "o_t &= \\sigma(\\mathrm{fc}_{o}(x_t,h_{t-1})) \\\\\n",
    "\\end{align}\n",
    "$$\n",
    "\n",
    "\n",
    "- $\\tilde c_t$: 新たな情報。\n",
    "- $i_t$: inputゲート。新たな情報$\\tilde c_t$をどれだけ取り入れるかを決める。\n",
    "- $f_t$: forgetゲート。古い情報$c_{h-1}$をどれだけ保持するかを決めるゲート。\n",
    "- $o_t$: outputゲート。出力する隠れ状態の量を決めるゲート。\n",
    "\n",
    "GRUでは1つのゲートを用いて新たな情報と古い情報の比率を決めていたが、LSTMでは別々のゲートを用いて決める。\n",
    "\n",
    "実装は以下の通り。"
   ]
  },
  {
   "cell_type": "code",
   "execution_count": 13,
   "metadata": {},
   "outputs": [],
   "source": [
    "class LSTM(nn.Module):\n",
    "    def __init__(self, input_size, hidden_size):\n",
    "        super().__init__()\n",
    "        self.gate_input = nn.Sequential(\n",
    "            FullyConnected(input_size, hidden_size),\n",
    "            nn.Sigmoid()\n",
    "        )\n",
    "        self.gate_forget = nn.Sequential(\n",
    "            FullyConnected(input_size, hidden_size),\n",
    "            nn.Sigmoid()\n",
    "        )\n",
    "        self.gate_output = nn.Sequential(\n",
    "            FullyConnected(input_size, hidden_size),\n",
    "            nn.Sigmoid()\n",
    "        )\n",
    "        self.fc = FullyConnected(input_size, hidden_size)\n",
    "\n",
    "    def forward(self, x, h, c):\n",
    "        c_new = F.tanh(self.fc(x, h))\n",
    "        i = self.gate_input(x, h)\n",
    "        f = self.gate_forget(x, h)\n",
    "        o = self.gate_output(x, h)\n",
    "        c = f * c + i * c_new\n",
    "        h = o * F.tanh(c)\n",
    "        return h, c"
   ]
  },
  {
   "cell_type": "markdown",
   "metadata": {},
   "source": [
    "PyTorchにも`torch.nn.LSTM`が用意されている:  \n",
    "[LSTM — PyTorch 2.0 documentation](https://pytorch.org/docs/stable/generated/torch.nn.LSTM.html)"
   ]
  },
  {
   "cell_type": "markdown",
   "metadata": {},
   "source": [
    "\n",
    "---\n",
    "\n",
    "## LSTMを用いた言語モデル\n",
    "\n",
    "せっかくなので、LSTMで言語モデルを作ってみよう。RNNLMのRNN層をLSTMに変更するだけ。"
   ]
  },
  {
   "cell_type": "markdown",
   "metadata": {},
   "source": [
    "モデル。RNN層の部分をLSTMに変更する。  \n",
    "LSTMは隠れ状態$h$と記憶セル$c$の2つを出力するので、それらを与える・受け取ることが出来るようにする。"
   ]
  },
  {
   "cell_type": "code",
   "execution_count": 14,
   "metadata": {},
   "outputs": [],
   "source": [
    "class LanguageModel(nn.Module):\n",
    "    def __init__(self, n_vocab, embed_size, hidden_size):\n",
    "        super().__init__()\n",
    "        self.embedding = nn.Embedding(n_vocab, embed_size)\n",
    "        self.lstm = nn.LSTM(embed_size, hidden_size, batch_first=True)\n",
    "        self.fc = nn.Linear(hidden_size, n_vocab)\n",
    "\n",
    "    def forward(self, x, hc=None):\n",
    "        x = self.embedding(x) # (seq_len, embed_size)\n",
    "        y, (h, c) = self.lstm(x, hc) # (seq_len, hidden_size)\n",
    "        y = self.fc(y) # (seq_len, n_vocab)\n",
    "        return y, (h, c)"
   ]
  },
  {
   "cell_type": "markdown",
   "metadata": {},
   "source": [
    "では学習させる。  \n",
    "ミニバッチ&Truncated BPTT。"
   ]
  },
  {
   "cell_type": "code",
   "execution_count": 15,
   "metadata": {},
   "outputs": [],
   "source": [
    "cross_entropy = nn.CrossEntropyLoss(ignore_index=pad_id) # padトークンを無視\n",
    "def loss_fn(y, t):\n",
    "    \"\"\"\n",
    "    y: (batch_size, seq_length, n_vocab)\n",
    "    t: (batch_size, seq_length)\n",
    "    \"\"\"\n",
    "    loss = cross_entropy(y.reshape(-1, n_vocab), t.ravel())\n",
    "    return loss\n",
    "\n",
    "def eval_model(model):\n",
    "    model.eval()\n",
    "    total_loss = 0\n",
    "    with torch.no_grad():\n",
    "        for x, t in test_loader:\n",
    "            x = x.to(device)\n",
    "            t = t.to(device)\n",
    "            y, _ = model(x)\n",
    "            loss = loss_fn(y, t)\n",
    "            total_loss += loss.item()\n",
    "    loss = total_loss / len(test_loader)\n",
    "    return loss\n",
    "\n",
    "\n",
    "def train(model, optimizer, trunc_len, n_epochs, prog_unit=1):\n",
    "    prog.start(n_iter=len(train_loader), n_epochs=n_epochs, unit=prog_unit)\n",
    "    for epoch in range(1, n_epochs + 1):\n",
    "        model.train()\n",
    "        for x, t in train_loader:\n",
    "            hc = None\n",
    "            x = x.to(device)\n",
    "            t = t.to(device)\n",
    "            for i in range(0, len(x), trunc_len):\n",
    "                x_batch = x[:, i:i+trunc_len]\n",
    "                t_batch = t[:, i:i+trunc_len]\n",
    "                optimizer.zero_grad()\n",
    "                y, (h, c) = model(x_batch, hc)\n",
    "                loss = loss_fn(y, t_batch)\n",
    "                loss.backward()\n",
    "                optimizer.step()\n",
    "                prog.update(loss.item(), advance=0)\n",
    "                h = h.detach()\n",
    "                c = c.detach()\n",
    "                hc = (h, c)\n",
    "            prog.update(advance=1)\n",
    "        if epoch % prog_unit == 0:\n",
    "            test_loss = eval_model(model)\n",
    "            prog.memo(f'test: {test_loss:.5f}')\n",
    "        else:\n",
    "            prog.memo('')"
   ]
  },
  {
   "cell_type": "code",
   "execution_count": 18,
   "metadata": {},
   "outputs": [],
   "source": [
    "hidden_size = 512\n",
    "model = LanguageModel(n_vocab, hidden_size, hidden_size).to(device)\n",
    "optimizer = optim.Adam(model.parameters(), lr=1e-4)"
   ]
  },
  {
   "cell_type": "code",
   "execution_count": 19,
   "metadata": {},
   "outputs": [
    {
     "name": "stdout",
     "output_type": "stream",
     "text": [
      "    1-100/1000: ############################## 100% [00:01:20.65] loss train: 5.29094, test: 7.10566 \n",
      "  101-200/1000: ############################## 100% [00:01:26.00] loss train: 1.86016, test: 8.70382 \n",
      "  201-300/1000: ############################## 100% [00:01:25.91] loss train: 0.45740, test: 10.13630 \n",
      "  301-400/1000: ############################## 100% [00:01:26.05] loss train: 0.18387, test: 10.88216 \n",
      "  401-500/1000: ############################## 100% [00:01:26.86] loss train: 0.14449, test: 11.68350 \n",
      "  501-600/1000: ############################## 100% [00:01:27.43] loss train: 0.13665, test: 12.20779 \n",
      "  601-700/1000: ############################## 100% [00:01:27.13] loss train: 0.13358, test: 12.63444 \n",
      "  701-800/1000: ############################## 100% [00:01:25.18] loss train: 0.13228, test: 12.89107 \n",
      "  801-900/1000: ############################## 100% [00:01:25.61] loss train: 0.13133, test: 13.10439 \n",
      " 901-1000/1000: ############################## 100% [00:01:27.12] loss train: 0.12997, test: 13.59670 \n"
     ]
    }
   ],
   "source": [
    "train(model, optimizer, 64, 1000, 100)"
   ]
  },
  {
   "cell_type": "markdown",
   "metadata": {},
   "source": [
    "相変わらずtestデータの誤差は減らない。\n",
    "\n",
    "文章生成。"
   ]
  },
  {
   "cell_type": "code",
   "execution_count": 20,
   "metadata": {},
   "outputs": [],
   "source": [
    "def token_sampling(y):\n",
    "    y = y[-1]\n",
    "    probs = F.softmax(y, dim=-1)\n",
    "    token = random.choices(range(n_vocab), weights=probs)[0]\n",
    "    return token\n",
    "\n",
    "\n",
    "bos_id = sp.bos_id()\n",
    "eos_id = sp.eos_id()\n",
    "@torch.no_grad()\n",
    "def generate_sentence(\n",
    "    model: nn.Module,\n",
    "    start: str = '',\n",
    "    max_len: int = 50\n",
    ") -> str:\n",
    "    model.eval()\n",
    "    start_ids = sp.encode(start) if start else [bos_id]\n",
    "    start_ids = torch.tensor(start_ids, device=device)\n",
    "\n",
    "    y, (h, c) = model(start_ids)\n",
    "    next_token = token_sampling(y)\n",
    "    ids = [next_token]\n",
    "    for _ in range(max_len):\n",
    "        x = torch.tensor([next_token], device=device)\n",
    "        y, (h, c) = model(x, (h, c))\n",
    "        next_token = token_sampling(y)\n",
    "        ids.append(next_token)\n",
    "        if next_token == eos_id:\n",
    "            break\n",
    "    sentence = start + sp.decode(ids)\n",
    "    return sentence"
   ]
  },
  {
   "cell_type": "code",
   "execution_count": 21,
   "metadata": {},
   "outputs": [
    {
     "name": "stdout",
     "output_type": "stream",
     "text": [
      "親友だったピアニスト・作曲家のルートヴィヒ・シュンケに献呈された。シュンケは返礼として『大ソナタ ト短調』作品3を献呈したが、翌1834年に肺結核のため23歳で夭\n",
      "1936年にイギリス空軍から出された双発中型爆撃機の仕様(P.13/36)に従って開発されたのがマンチェスターで、開発当初はアブロ679と呼ばれていた。本機の特徴は、当時開発中だった高出力の\n",
      "1947年(昭和22年)4月の日本証券取引所解散をうけ、証券会社各社の出資で発足した。現在は、不動産開発、宅地分譲やマンション分譲、ショッピングセンターなどのデベロッパー\n",
      "石川県金沢市生まれ。作家・杉森久英の長女。子ども時代にバレエを習い始め、のち日本舞踊を修める。1967年東京大学仏文科卒、1970年同大学院修士課程修了、博士課程\n",
      "映画はアメリカ合衆国で2008年10月17日に公開された。 一般公開前にロイ・ディズニーが招待したヨット・レースファンのためにプライベート・スクリーンで、2008年3月14日にニューポート(ロードアイランド州)で試写\n",
      "凄腕の傭兵、リロイ・シュヴァルツァーと、その相棒である意思を持ち、言葉を話す剣ラグナロクの活躍を描くアクションファンタジー。リアルなバトルを彷彿させる手法が特徴で、本編\n",
      "ラグビー部は全国高等学校ラグビーフットボール大会出場経験あり。メカトロ部は全日本ロボット相撲大会において2011年(平成23年)大会まで3連覇を達成したが、2012年(平成24年)大会で\n",
      "Microsoft Outlook、Windows Live Hotmail、Yahoo!メール、Gmail、iCloud、Exchangeなどに標準対応している。設定をすることでPOP\n",
      "平地や山地の林に生息し、おもに木の実を食べる。地上2～6mの枝の上に、小枝、枯草、 ⁇ 類で皿形の巣を作る。5～7月に卵を\n",
      "いつごろからか歴史の影に現れ始め、ついには人類を滅亡寸前まで追い詰めた異形の存在。総じて強靭な生命力を持ち、人類に対して敵意を持つ。その戦闘力、危険度から\n"
     ]
    }
   ],
   "source": [
    "for _ in range(10):\n",
    "    print(generate_sentence(model, max_len=50))"
   ]
  },
  {
   "cell_type": "markdown",
   "metadata": {},
   "source": [
    "マシになった気がする。"
   ]
  }
 ],
 "metadata": {
  "kernelspec": {
   "display_name": "nlp",
   "language": "python",
   "name": "python3"
  },
  "language_info": {
   "codemirror_mode": {
    "name": "ipython",
    "version": 3
   },
   "file_extension": ".py",
   "mimetype": "text/x-python",
   "name": "python",
   "nbconvert_exporter": "python",
   "pygments_lexer": "ipython3",
   "version": "3.11.3"
  },
  "orig_nbformat": 4
 },
 "nbformat": 4,
 "nbformat_minor": 2
}
