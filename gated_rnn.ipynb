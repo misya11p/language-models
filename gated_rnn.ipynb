{
 "cells": [
  {
   "cell_type": "markdown",
   "metadata": {},
   "source": [
    "# ゲート付きRNN\n",
    "\n",
    "RNN層にゲートと呼ばれる機構を追加し、より長期的な文脈の情報を保持できるようにしたもの。"
   ]
  },
  {
   "cell_type": "code",
   "execution_count": 1,
   "metadata": {},
   "outputs": [],
   "source": [
    "import random\n",
    "\n",
    "import sentencepiece as spm\n",
    "import torch\n",
    "from torch import nn, optim\n",
    "import torch.nn.functional as F\n",
    "from torch.utils.data import Dataset, DataLoader, random_split\n",
    "from torch.nn.utils.rnn import pad_sequence\n",
    "from dlprog import train_progress"
   ]
  },
  {
   "cell_type": "code",
   "execution_count": 2,
   "metadata": {},
   "outputs": [
    {
     "data": {
      "text/plain": [
       "device(type='cuda')"
      ]
     },
     "execution_count": 2,
     "metadata": {},
     "output_type": "execute_result"
    }
   ],
   "source": [
    "prog = train_progress(width=20, with_test=True, label=\"ppl train\", round=2)\n",
    "device = torch.device('cuda' if torch.cuda.is_available() else 'cpu')\n",
    "device"
   ]
  },
  {
   "cell_type": "markdown",
   "metadata": {},
   "source": [
    "### 学習データの用意"
   ]
  },
  {
   "cell_type": "code",
   "execution_count": 3,
   "metadata": {},
   "outputs": [],
   "source": [
    "n_data = 20000\n",
    "textfile = f'data/jawiki_{n_data}.txt'\n",
    "tokenizer_prefix = f'models/tokenizer_jawiki_{n_data}'"
   ]
  },
  {
   "cell_type": "code",
   "execution_count": 4,
   "metadata": {},
   "outputs": [],
   "source": [
    "with open(textfile) as f:\n",
    "    data = f.read().splitlines()"
   ]
  },
  {
   "cell_type": "code",
   "execution_count": 5,
   "metadata": {},
   "outputs": [
    {
     "name": "stdout",
     "output_type": "stream",
     "text": [
      "num of vocabrary: 8000\n"
     ]
    },
    {
     "data": {
      "text/plain": [
       "[1, 12, 20, 528, 495, 283, 48, 558, 52, 3542]"
      ]
     },
     "execution_count": 5,
     "metadata": {},
     "output_type": "execute_result"
    }
   ],
   "source": [
    "sp = spm.SentencePieceProcessor(f'{tokenizer_prefix}.model')\n",
    "n_vocab = len(sp)\n",
    "\n",
    "unk_id = sp.unk_id()\n",
    "bos_id = sp.bos_id()\n",
    "eos_id = sp.eos_id()\n",
    "pad_id = sp.pad_id()\n",
    "\n",
    "data_ids = sp.encode(data)\n",
    "for ids in data_ids:\n",
    "    ids.insert(0, bos_id)\n",
    "    ids.append(eos_id)\n",
    "\n",
    "print('num of vocabrary:', n_vocab)\n",
    "data_ids[0][:10] # example"
   ]
  },
  {
   "cell_type": "code",
   "execution_count": 6,
   "metadata": {},
   "outputs": [
    {
     "data": {
      "text/plain": [
       "torch.Size([32, 1247])"
      ]
     },
     "execution_count": 6,
     "metadata": {},
     "output_type": "execute_result"
    }
   ],
   "source": [
    "class TextDataset(Dataset):\n",
    "    def __init__(self, data_ids):\n",
    "        self._n_samples = len(data_ids)\n",
    "        self.data = [torch.tensor(ids) for ids in data_ids]\n",
    "\n",
    "    def __getitem__(self, idx):\n",
    "        in_text = self.data[idx][:-1]\n",
    "        out_text = self.data[idx][1:]\n",
    "        return in_text, out_text\n",
    "\n",
    "    def __len__(self):\n",
    "        return self._n_samples\n",
    "\n",
    "def collate_fn(batch):\n",
    "    in_text, out_text = zip(*batch)\n",
    "    in_text = pad_sequence(in_text, batch_first=True, padding_value=pad_id)\n",
    "    out_text = pad_sequence(out_text, batch_first=True, padding_value=pad_id)\n",
    "    return in_text, out_text\n",
    "\n",
    "batch_size = 32\n",
    "dataset = TextDataset(data_ids)\n",
    "train_dataset, test_dataset = random_split(dataset, [0.8, 0.2])\n",
    "train_loader = DataLoader(\n",
    "    train_dataset,\n",
    "    batch_size=batch_size,\n",
    "    shuffle=True,\n",
    "    collate_fn=collate_fn\n",
    ")\n",
    "test_loader = DataLoader(\n",
    "    test_dataset,\n",
    "    batch_size=batch_size,\n",
    "    collate_fn=collate_fn\n",
    ")\n",
    "\n",
    "sample = next(iter(train_loader))\n",
    "sample[0].shape"
   ]
  },
  {
   "cell_type": "markdown",
   "metadata": {},
   "source": [
    "\n",
    "---\n",
    "\n",
    "## ゲート\n",
    "\n",
    "あるデータをどれくらい通すかを示したもの。具体的には0~1の要素を持つ対象のデータと同じサイズのベクトル。"
   ]
  },
  {
   "cell_type": "markdown",
   "metadata": {},
   "source": [
    "例えば、$z=(0.2,0.5,0.9)$というゲートは一つ目の要素を2割、二つ目の要素を5割、三つ目の要素を9割通すゲートである。"
   ]
  },
  {
   "cell_type": "code",
   "execution_count": 7,
   "metadata": {},
   "outputs": [],
   "source": [
    "z = torch.tensor([0.2, 0.5, 0.9])"
   ]
  },
  {
   "cell_type": "markdown",
   "metadata": {},
   "source": [
    "このゲートに適当なデータとして3次元ベクトル$x=(1,2,3)$を掛けてみる。"
   ]
  },
  {
   "cell_type": "code",
   "execution_count": 8,
   "metadata": {},
   "outputs": [
    {
     "data": {
      "text/plain": [
       "tensor([0.2000, 1.0000, 2.7000])"
      ]
     },
     "execution_count": 8,
     "metadata": {},
     "output_type": "execute_result"
    }
   ],
   "source": [
    "x = torch.tensor([1, 2, 3])\n",
    "y = x * z\n",
    "y"
   ]
  },
  {
   "cell_type": "markdown",
   "metadata": {},
   "source": [
    "これで、元の入力の**一部を通した**ことになった。これがゲートの役目。"
   ]
  },
  {
   "cell_type": "markdown",
   "metadata": {},
   "source": [
    "このゲートをRNN層に取り入れる。以下のように扱う。\n",
    "\n",
    "$$\n",
    "\\begin{align}\n",
    "\\tilde h &= h \\odot z \\\\\n",
    "z &= \\text{gate}(h) = \\sigma(\\text{fc}(h))\n",
    "\\end{align}\n",
    "$$\n",
    "\n",
    "あるデータ$h$に対し、適当な関数$\\text{gate}$を用いてゲート$z$を作り、$h$と$z$の要素ごとの積をとる。ゲートを作る関数は基本的に全結合層$\\text{fc}$とシグモイド関数$\\sigma$を組み合わせて作る。もちろんこの全結合層は学習可能。"
   ]
  },
  {
   "cell_type": "markdown",
   "metadata": {},
   "source": [
    "ゲート部分をPyTorchで実装すると以下。"
   ]
  },
  {
   "cell_type": "code",
   "execution_count": 9,
   "metadata": {},
   "outputs": [],
   "source": [
    "class Gate(nn.Module):\n",
    "    def __init__(self, input_size):\n",
    "        super().__init__()\n",
    "        self.net = nn.Sequential(\n",
    "            nn.Linear(input_size, input_size),\n",
    "            nn.Sigmoid()\n",
    "        )\n",
    "\n",
    "    def forward(self, x):\n",
    "        return self.net(x)"
   ]
  },
  {
   "cell_type": "code",
   "execution_count": 10,
   "metadata": {},
   "outputs": [
    {
     "name": "stdout",
     "output_type": "stream",
     "text": [
      "data: tensor([-0.3042,  0.0647, -1.0536])\n",
      "gate: tensor([0.7080, 0.5506, 0.5406], grad_fn=<SigmoidBackward0>)\n",
      "output: tensor([-0.2154,  0.0356, -0.5696], grad_fn=<MulBackward0>)\n"
     ]
    }
   ],
   "source": [
    "input_size = 3\n",
    "gate = Gate(input_size)\n",
    "\n",
    "x = torch.randn(input_size) # 適当なデータ\n",
    "gate_x = gate(x)\n",
    "print(\"data:\", x)\n",
    "print(\"gate:\", gate_x)\n",
    "\n",
    "y = x * gate_x\n",
    "print(\"output:\", y)"
   ]
  },
  {
   "cell_type": "markdown",
   "metadata": {},
   "source": [
    "\n",
    "---\n",
    "\n",
    "## GRU\n",
    "\n",
    "*Gated Recurrent Unit*\n",
    "\n",
    "ゲート付きRNNの一種。"
   ]
  },
  {
   "cell_type": "markdown",
   "metadata": {},
   "source": [
    "一旦RNNの復習をしよう。\n",
    "\n",
    "\n",
    "RNNはある時間$t$の入力$x_t$に対して以下のような演算で出力値$h_t$を決定する。\n",
    "\n",
    "$$\n",
    "h_t = \\mathrm{tanh}(W_x x_t + b_x + W_h h_{t-1} + b_h)\n",
    "$$\n",
    "\n",
    "この$x_t$と$h_{t-1}$の全結合の部分をまとめて、一つの全結合$\\mathrm{fc}(x,h)$で表すことにしよう。\n",
    "\n",
    "$$\n",
    "\\begin{align}\n",
    "h_t &= \\mathrm{tanh}(\\mathrm{fc}(x_t,h_{t-1})) \\\\\n",
    "\\mathrm{fc}(x,h) &= W_x x + b_x + W_h h + b_h\n",
    "\\end{align}\n",
    "$$\n",
    "\n",
    "んで、$\\mathrm{fc}(x,h)$の実装もしておこう。"
   ]
  },
  {
   "cell_type": "code",
   "execution_count": 11,
   "metadata": {},
   "outputs": [],
   "source": [
    "class FullyConnected(nn.Module):\n",
    "    def __init__(self, input_size, hidden_size):\n",
    "        super().__init__()\n",
    "        self.fc_input = nn.Linear(input_size, hidden_size)\n",
    "        self.fc_hidden = nn.Linear(hidden_size, hidden_size)\n",
    "\n",
    "    def forward(self, x, h):\n",
    "        return self.fc_input(x) + self.fc_hidden(h)"
   ]
  },
  {
   "cell_type": "markdown",
   "metadata": {},
   "source": [
    "では、GRUの構造を見ていこう。GRUは以下のような演算で出力値$h_t$を決定する。\n",
    "\n",
    "$$\n",
    "\\begin{align}\n",
    "h_t &= (1 - z_t) \\odot \\tilde{h}_t + z_t \\odot h_{t-1} \\\\\n",
    "\\tilde{h}_t &= \\mathrm{tanh}(\\mathrm{fc}_{\\tilde h}(x_t,h_{t-1})) \\\\\n",
    "z_t &= \\text{gate}(x_t,h_{t-1}) = \\sigma(\\mathrm{fc}_{z}(x_t,h_{t-1})) \\\\\n",
    "\\end{align}\n",
    "$$\n",
    "\n",
    "$\\sigma(x)$はsigmoid関数。なお、このGRUは一般的なものより少し簡略化されているので注意。"
   ]
  },
  {
   "cell_type": "markdown",
   "metadata": {},
   "source": [
    "RNNでは新たなデータ$\\tilde h_t$がそのまま出力されていたが、GRUでは、新たなデータ$\\tilde h_t$を古いデータ$h_{t-1}$に足して出力する。そして、その際の比率をゲート$z_t$で決める。$z_t$は$h_{t-1}$をどれだけ通すかを表すもので、$x_t$と$h_{t-1}$によって決まる。\n",
    "\n",
    "このように、GRUではゲートを用いて新たなデータをどれだけ取り入れるべきか、そして古いデータをどれだけ捨てるか考えることが出来る。この枠組みの下で学習を行うことで、長期的に保持すべきデータをしっかりと保持できるようになることが期待される。"
   ]
  },
  {
   "cell_type": "markdown",
   "metadata": {},
   "source": [
    "単一時間のGRUを実装してみよう。まずGRU内部で用いるゲートをつくる。"
   ]
  },
  {
   "cell_type": "code",
   "execution_count": 24,
   "metadata": {},
   "outputs": [],
   "source": [
    "class Gate(nn.Module):\n",
    "    def __init__(self, input_size, hidden_size):\n",
    "        super().__init__()\n",
    "        self.fc = FullyConnected(input_size, hidden_size)\n",
    "        self.sigmoid = nn.Sigmoid()\n",
    "\n",
    "    def forward(self, x, h):\n",
    "        return self.sigmoid(self.fc(x, h))"
   ]
  },
  {
   "cell_type": "markdown",
   "metadata": {},
   "source": [
    "$x$と$h$の二つを入力するので`nn.Sequential`は使えない。\n",
    "\n",
    "でこれを使ってGRUを実装するとこう。"
   ]
  },
  {
   "cell_type": "code",
   "execution_count": 25,
   "metadata": {},
   "outputs": [],
   "source": [
    "class SimpleGRUCell(nn.Module):\n",
    "    def __init__(self, input_size, hidden_size):\n",
    "        super().__init__()\n",
    "        self.fc = FullyConnected(input_size, hidden_size)\n",
    "        self.gate = Gate(input_size, hidden_size)\n",
    "\n",
    "    def forward(self, x, h):\n",
    "        h_new = F.tanh(self.fc(x, h))\n",
    "        z = self.gate(x, h)\n",
    "        h = (1 - z)*h_new + z*h\n",
    "        return h"
   ]
  },
  {
   "cell_type": "code",
   "execution_count": 26,
   "metadata": {},
   "outputs": [
    {
     "data": {
      "text/plain": [
       "torch.Size([32, 256])"
      ]
     },
     "execution_count": 26,
     "metadata": {},
     "output_type": "execute_result"
    }
   ],
   "source": [
    "batch_size = 32\n",
    "embed_size = 128\n",
    "hidden_size = 256\n",
    "x = torch.randn(batch_size, embed_size)\n",
    "h = torch.randn(batch_size, hidden_size)\n",
    "\n",
    "gru = SimpleGRUCell(embed_size, hidden_size)\n",
    "h_new = gru(x, h)\n",
    "h_new.shape"
   ]
  },
  {
   "cell_type": "markdown",
   "metadata": {},
   "source": [
    "上記のモデルは通常のGRUを私が簡略化したもの。通常のGRUは、上記のモデルにゲートを一つ追加した以下のモデルである。\n",
    "\n",
    "$$\n",
    "\\begin{align}\n",
    "h_t &= (1 - z_t) \\odot \\tilde{h}_t + z_t \\odot h_{t-1} \\\\\n",
    "\\tilde{h}_t &= \\mathrm{tanh}(\\mathrm{fc}_{\\tilde h}(x_t,r_t \\odot h_{t-1})) \\\\\n",
    "z_t &= \\text{gate}_z(x_t,h_{t-1}) = \\sigma(\\mathrm{fc}_{z}(x_t,h_{t-1})) \\\\\n",
    "r_t &= \\text{gate}_r(x_t,h_{t-1}) = \\sigma(\\mathrm{fc}_{r}(x_t,h_{t-1})) \\\\\n",
    "\\end{align}\n",
    "$$\n",
    "\n",
    "新なデータ$\\tilde h_t$を生成する際に、古いデータ$h_{t-1}$をどれだけ考慮するかを決めるゲート$r_t$が追加されている。"
   ]
  },
  {
   "cell_type": "code",
   "execution_count": 29,
   "metadata": {},
   "outputs": [],
   "source": [
    "class GRUCell(nn.Module):\n",
    "    def __init__(self, input_size, hidden_size):\n",
    "        super().__init__()\n",
    "        self.fc_input = FullyConnected(input_size, hidden_size)\n",
    "        self.gate_update = Gate(input_size, hidden_size)\n",
    "        self.gate_reset = Gate(input_size, hidden_size)\n",
    "\n",
    "    def forward(self, x, h):\n",
    "        r = self.gate_reset(x, h)\n",
    "        h_new = F.tanh(self.fc_input(x, r * h))\n",
    "        z = self.gate_update(x, h)\n",
    "        h = (1 - z)*h_new + z*h\n",
    "        return h"
   ]
  },
  {
   "cell_type": "markdown",
   "metadata": {},
   "source": [
    "RNN同様、PyTorchにクラスが用意されている。\n",
    "\n",
    "- `GRUCell`: https://pytorch.org/docs/stable/generated/torch.nn.GRUCell.html\n",
    "- `GRU`: https://pytorch.org/docs/stable/generated/torch.nn.GRU.html"
   ]
  },
  {
   "cell_type": "code",
   "execution_count": 14,
   "metadata": {},
   "outputs": [],
   "source": [
    "gru = nn.GRU(input_size, input_size)"
   ]
  },
  {
   "cell_type": "markdown",
   "metadata": {},
   "source": [
    "\n",
    "---\n",
    "\n",
    "## LSTM\n",
    "\n",
    "*Long Short-Term Memory*\n",
    "\n",
    "長短期記憶\n",
    "\n",
    "GRUの進化版。考え方はGRUと同じで、RNNにゲートを取り入れてイイ感じにしたもの。ちなみに、GRUよりLSTMの方が先に提案されている。GRUはLSTMの簡易版として後から提案された。"
   ]
  },
  {
   "cell_type": "markdown",
   "metadata": {},
   "source": [
    "LSTMには出力する隠れ状態$h_t$だけでなく、**記憶セル**と呼ばれる変数$c_t$を持つ。記憶セルはLSTMの外に出力されることはなく、LSTM内部でのみ使用される。\n",
    "\n",
    "まず簡単に文字で説明する。記憶セル$c_t$がGRUでの隠れ状態$h_t$に当たり、ゲートを用いた不要な情報の削除と新たな情報の追加が行われる。なおゲートの生成には入力$x_t$と前の隠れ状態$h_{t-1}$を用いる（記憶セルは用いない）。そしてこの記憶セルを活性化関数に通したものをLSTMの出力=隠れ状態$h_t$とする。"
   ]
  },
  {
   "cell_type": "markdown",
   "metadata": {},
   "source": [
    "数式で見てみよう。\n",
    "\n",
    "$$\n",
    "\\begin{align}\n",
    "h_t &= o_t \\odot \\mathrm{tanh}(c_t) \\\\\n",
    "c_t &= f_t \\odot c_{t-1} + i_t \\odot \\tilde c_t \\\\\n",
    "\\tilde c_t &= \\mathrm{tanh}(\\mathrm{fc}_{\\tilde c}(x_t,h_{t-1})) \\\\\n",
    "i_t &= \\sigma(\\mathrm{fc}_{i}(x_t,h_{t-1})) \\\\\n",
    "f_t &= \\sigma(\\mathrm{fc}_{f}(x_t,h_{t-1})) \\\\\n",
    "o_t &= \\sigma(\\mathrm{fc}_{o}(x_t,h_{t-1})) \\\\\n",
    "\\end{align}\n",
    "$$\n",
    "\n",
    "\n",
    "- $\\tilde c_t$: 新たな情報。\n",
    "- $i_t$: inputゲート。新たな情報$\\tilde c_t$をどれだけ取り入れるかを決める。\n",
    "- $f_t$: forgetゲート。古い情報$c_{h-1}$をどれだけ保持するかを決めるゲート。\n",
    "- $o_t$: outputゲート。出力する隠れ状態の量を決めるゲート。\n",
    "\n",
    "GRUでは1つのゲートを用いて新たな情報と古い情報の比率を決めていたが、LSTMでは別々のゲートを用いて決める。"
   ]
  },
  {
   "cell_type": "markdown",
   "metadata": {},
   "source": [
    "実装は以下の通り。"
   ]
  },
  {
   "cell_type": "code",
   "execution_count": 31,
   "metadata": {},
   "outputs": [],
   "source": [
    "class LSTMCell(nn.Module):\n",
    "    def __init__(self, input_size, hidden_size):\n",
    "        super().__init__()\n",
    "        self.gate_input = Gate(input_size, hidden_size)\n",
    "        self.gate_forget = Gate(input_size, hidden_size)\n",
    "        self.gate_output = Gate(input_size, hidden_size)\n",
    "        self.fc = FullyConnected(input_size, hidden_size)\n",
    "\n",
    "    def forward(self, x, hc):\n",
    "        h, c = hc\n",
    "        c_new = F.tanh(self.fc(x, h))\n",
    "        i = self.gate_input(x, h)\n",
    "        f = self.gate_forget(x, h)\n",
    "        o = self.gate_output(x, h)\n",
    "        c = f*c + i*c_new\n",
    "        h = o * F.tanh(c)\n",
    "        return h, c"
   ]
  },
  {
   "cell_type": "markdown",
   "metadata": {},
   "source": [
    "全ての時間を一括で処理する`LSTM`も実装しておこう。"
   ]
  },
  {
   "cell_type": "code",
   "execution_count": 32,
   "metadata": {},
   "outputs": [],
   "source": [
    "class LSTM(nn.Module):\n",
    "    def __init__(self, input_size: int, hidden_size: int):\n",
    "        super().__init__()\n",
    "        self.lstm_cell = LSTMCell(input_size, hidden_size)\n",
    "        self.hidden_size = hidden_size\n",
    "\n",
    "    def forward(self, x, hc=None):\n",
    "        \"\"\"\n",
    "            x: (batch_size, seq_len, input_size)\n",
    "            h: (batch_size, hidden_size)\n",
    "        \"\"\"\n",
    "        if hc is None:\n",
    "            h = torch.zeros(x.size(0), self.hidden_size).to(x.device)\n",
    "            c = torch.zeros(x.size(0), self.hidden_size).to(x.device)\n",
    "        else:\n",
    "            h, c = hc\n",
    "        hs = []\n",
    "        x = x.transpose(0, 1) # (seq_len, batch_size, input_size)\n",
    "        for xi in x:\n",
    "            (h, c) = self.lstm_cell(xi, (h, c))\n",
    "            hs.append(h)\n",
    "        hs = torch.stack(hs) # (seq_len, batch_size, hidden_size)\n",
    "        hs = hs.transpose(0, 1) # (batch_size, seq_len, hidden_size)\n",
    "        return hs, (h, c)"
   ]
  },
  {
   "cell_type": "code",
   "execution_count": 34,
   "metadata": {},
   "outputs": [
    {
     "data": {
      "text/plain": [
       "(torch.Size([32, 10, 256]), torch.Size([32, 256]), torch.Size([32, 256]))"
      ]
     },
     "execution_count": 34,
     "metadata": {},
     "output_type": "execute_result"
    }
   ],
   "source": [
    "batch_size = 32\n",
    "seq_len = 10\n",
    "embed_size = 128\n",
    "hidden_size = 256\n",
    "\n",
    "x = torch.randn(batch_size, seq_len, embed_size)\n",
    "h = torch.randn(batch_size, hidden_size)\n",
    "c = torch.randn(batch_size, hidden_size)\n",
    "\n",
    "lstm = LSTM(embed_size, hidden_size)\n",
    "hs, (h, c) = lstm(x, (h, c))\n",
    "hs.shape, h.shape, c.shape"
   ]
  },
  {
   "cell_type": "markdown",
   "metadata": {},
   "source": [
    "こちらもPyTorchにクラスが用意されている。\n",
    "\n",
    "- `LSTMCell`: https://pytorch.org/docs/stable/generated/torch.nn.LSTMCell.html\n",
    "- `LSTM`: https://pytorch.org/docs/stable/generated/torch.nn.LSTM.html"
   ]
  },
  {
   "cell_type": "code",
   "execution_count": 38,
   "metadata": {},
   "outputs": [
    {
     "data": {
      "text/plain": [
       "(torch.Size([32, 10, 256]), torch.Size([1, 32, 256]), torch.Size([1, 32, 256]))"
      ]
     },
     "execution_count": 38,
     "metadata": {},
     "output_type": "execute_result"
    }
   ],
   "source": [
    "x = torch.randn(batch_size, seq_len, embed_size)\n",
    "h = torch.randn(1, batch_size, hidden_size)\n",
    "c = torch.randn(1, batch_size, hidden_size)\n",
    "\n",
    "lstm = nn.LSTM(embed_size, hidden_size, batch_first=True)\n",
    "hs, (h, c) = lstm(x, (h, c))\n",
    "hs.shape, h.shape, c.shape"
   ]
  },
  {
   "cell_type": "markdown",
   "metadata": {},
   "source": [
    "\n",
    "---\n",
    "\n",
    "## LSTMを用いた言語モデル\n",
    "\n",
    "LSTMで言語モデルを作ってみよう。前章で作成したモデルのRNN部分をLSTMに変更する。"
   ]
  },
  {
   "cell_type": "code",
   "execution_count": 39,
   "metadata": {},
   "outputs": [],
   "source": [
    "class LanguageModel(nn.Module):\n",
    "    def __init__(self, n_vocab, embed_size, hidden_size):\n",
    "        super().__init__()\n",
    "        self.embedding = nn.Embedding(n_vocab, embed_size)\n",
    "        self.lstm = LSTM(embed_size, hidden_size)\n",
    "        self.fc = nn.Linear(hidden_size, n_vocab)\n",
    "        self.dropout = nn.Dropout(0.2)\n",
    "\n",
    "    def forward(self, x, hc=None):\n",
    "        x = self.embedding(x) # (seq_len, embed_size)\n",
    "        x = self.dropout(x)\n",
    "        hs, hc = self.lstm(x, hc) # (seq_len, hidden_size)\n",
    "        hs = self.dropout(hs)\n",
    "        y = self.fc(hs) # (seq_len, n_vocab)\n",
    "        return y, hc"
   ]
  },
  {
   "cell_type": "code",
   "execution_count": null,
   "metadata": {},
   "outputs": [
    {
     "name": "stdout",
     "output_type": "stream",
     "text": [
      "num of parameters: 10,301,248\n"
     ]
    }
   ],
   "source": [
    "n_vocab = len(sp)\n",
    "embed_size = 512\n",
    "hidden_size = 512\n",
    "model = LanguageModel(n_vocab, hidden_size, hidden_size).to(device)\n",
    "n_params = sum(p.numel() for p in model.parameters())\n",
    "print(f\"num of parameters: {n_params:,}\")"
   ]
  },
  {
   "cell_type": "markdown",
   "metadata": {},
   "source": [
    "\n",
    "---\n",
    "\n",
    "## 実践\n",
    "\n",
    "実際にモデルを学習させてみる。"
   ]
  },
  {
   "cell_type": "markdown",
   "metadata": {},
   "source": [
    "### 学習\n",
    "\n",
    "ミニバッチ&Truncated BPTT。"
   ]
  },
  {
   "cell_type": "code",
   "execution_count": 43,
   "metadata": {},
   "outputs": [],
   "source": [
    "cross_entropy = nn.CrossEntropyLoss(ignore_index=pad_id)\n",
    "def loss_fn(y, t):\n",
    "    \"\"\"\n",
    "    y: (batch_size, seq_length, n_vocab)\n",
    "    t: (batch_size, seq_length)\n",
    "    \"\"\"\n",
    "    loss = cross_entropy(y.reshape(-1, n_vocab), t.ravel())\n",
    "    return loss\n",
    "\n",
    "@torch.no_grad()\n",
    "def eval_model(model, trunc_len=100):\n",
    "    model.eval()\n",
    "    ppls = []\n",
    "    for x, t in test_loader:\n",
    "        hc = None\n",
    "        for i in range(0, x.shape[1], trunc_len):\n",
    "            x_batch = x[:, i:i+trunc_len].to(device)\n",
    "            t_batch = t[:, i:i+trunc_len].to(device)\n",
    "            y, hc = model(x_batch, hc)\n",
    "            loss = loss_fn(y, t_batch)\n",
    "            ppl = torch.exp(loss).item()\n",
    "            ppls.append(ppl)\n",
    "    ppl = sum(ppls) / len(ppls)\n",
    "    return ppl\n",
    "\n",
    "def train(model, optimizer, trunc_len, n_epochs, prog_unit=1):\n",
    "    prog.start(n_iter=len(train_loader), n_epochs=n_epochs, unit=prog_unit)\n",
    "    for _ in range(n_epochs):\n",
    "        model.train()\n",
    "        for x, t in train_loader:\n",
    "            hc = None\n",
    "            for i in range(0, x.shape[1], trunc_len):\n",
    "                x_batch = x[:, i:i+trunc_len].to(device)\n",
    "                t_batch = t[:, i:i+trunc_len].to(device)\n",
    "                optimizer.zero_grad()\n",
    "                y, (h, c) = model(x_batch, hc)\n",
    "                loss = loss_fn(y, t_batch)\n",
    "                loss.backward()\n",
    "                optimizer.step()\n",
    "                ppl = torch.exp(loss).item()\n",
    "                prog.update(ppl, advance=0)\n",
    "                hc = (h.detach(), c.detach())\n",
    "            prog.update()\n",
    "\n",
    "        if prog.now_epoch % prog_unit == 0:\n",
    "            test_ppl = eval_model(model)\n",
    "            prog.memo(f\"test: {test_ppl:.2f}\", no_step=True)\n",
    "        prog.memo()"
   ]
  },
  {
   "cell_type": "code",
   "execution_count": 44,
   "metadata": {},
   "outputs": [],
   "source": [
    "optimizer = optim.Adam(model.parameters(), lr=1e-4)"
   ]
  },
  {
   "cell_type": "markdown",
   "metadata": {},
   "source": [
    "とりあえず20エポック。ぶっちゃけこの学習は先で実装したLSTMが正しく動くことを確認するためのものなので、適当。"
   ]
  },
  {
   "cell_type": "code",
   "execution_count": 45,
   "metadata": {},
   "outputs": [
    {
     "name": "stdout",
     "output_type": "stream",
     "text": [
      "  1-2/20: #################### 100% [00:06:47.99] ppl train: 775.21, test: 442.91 \n",
      "  3-4/20: #################### 100% [00:06:45.13] ppl train: 352.91, test: 319.36 \n",
      "  5-6/20: #################### 100% [00:06:46.92] ppl train: 259.37, test: 265.72 \n",
      "  7-8/20: #################### 100% [00:06:46.21] ppl train: 207.78, test: 231.26 \n",
      " 9-10/20: #################### 100% [00:06:45.67] ppl train: 174.51, test: 210.65 \n",
      "11-12/20: #################### 100% [00:06:46.08] ppl train: 152.48, test: 197.49 \n",
      "13-14/20: #################### 100% [00:06:47.25] ppl train: 134.94, test: 188.42 \n",
      "15-16/20: #################### 100% [00:06:49.32] ppl train: 121.97, test: 175.96 \n",
      "17-18/20: #################### 100% [00:06:48.48] ppl train: 111.31, test: 171.46 \n",
      "19-20/20: #################### 100% [00:06:48.38] ppl train: 102.90, test: 165.25 \n"
     ]
    }
   ],
   "source": [
    "train(model, optimizer, trunc_len=100, n_epochs=20, prog_unit=2)"
   ]
  },
  {
   "cell_type": "markdown",
   "metadata": {},
   "source": [
    "20エポック時点のテストデータでのpplが前章のRNNの40エポック時点のものと同等になったので、LSTMによって精度が上がったと見られる。"
   ]
  },
  {
   "cell_type": "code",
   "execution_count": null,
   "metadata": {},
   "outputs": [],
   "source": [
    "model_path = \"models/lm_lstm.pth\"\n",
    "torch.save(model.state_dict(), model_path)"
   ]
  },
  {
   "cell_type": "markdown",
   "metadata": {},
   "source": [
    "### 文章生成"
   ]
  },
  {
   "cell_type": "code",
   "execution_count": 46,
   "metadata": {},
   "outputs": [],
   "source": [
    "def token_sampling(y):\n",
    "    y.squeeze_(0)\n",
    "    y[unk_id] = -torch.inf\n",
    "    probs = F.softmax(y, dim=-1)\n",
    "    token, = random.choices(range(n_vocab), weights=probs)\n",
    "    return token\n",
    "\n",
    "@torch.no_grad()\n",
    "def generate_sentence(\n",
    "    model: nn.Module,\n",
    "    start: str = \"\",\n",
    "    max_len: int = 100\n",
    ") -> str:\n",
    "    model.eval()\n",
    "    token_ids = sp.encode(start)\n",
    "    token_ids.insert(0, bos_id)\n",
    "    x = torch.tensor(token_ids, device=device)\n",
    "    y, hc = model(x)\n",
    "    next_token = token_sampling(y)\n",
    "    token_ids.append(next_token)\n",
    "\n",
    "    while len(token_ids) <= max_len and next_token != eos_id:\n",
    "        x = torch.tensor([next_token], device=device)\n",
    "        y, hc = model(x, hc)\n",
    "        next_token = token_sampling(y)\n",
    "        token_ids.append(next_token)\n",
    "\n",
    "    sentence = sp.decode(token_ids)\n",
    "    return sentence"
   ]
  },
  {
   "cell_type": "code",
   "execution_count": 47,
   "metadata": {},
   "outputs": [
    {
     "name": "stdout",
     "output_type": "stream",
     "text": [
      "一般政府の高重な改造により、基本的には死風・革命・ネタなどにより抗技術を用いる事があり、「いっとは島方であったよりも規則より大禁を与えるプーズは、地謀権ないため戦争をもたらしており合画に利用される措置が決わぜられる」と自雑感謝といったものに普及した。この植物の一つである5%が36700円であった。14.108計画は、年間ロー国選挙区\n",
      "1977年女子府独島府の当時フグチュコッピ郡と南の橋市民の間に生まれ、相作中から中央方へ向かったことから、新たに干名をくどっていた首都との兄弟は、戦後からの足運地を奪い、ブラゼルシアにあった魚雷を創つとして中国名的乗りきをさせたユタブリー・アーボンの亡きで、これを40時代の起航したこともあったものの、度才的には増え\n",
      "1899年ごろに修行制度を比較させ、超微の野官と共に行われば、国内語で実施されている。このように、パーツが回復し、当時動きに立ち立てられた新取引(壱員の団体への基礎)が樹置している。\n",
      "性差別安定研究として膵しくれるが、技術組織は減少を受けたシャレバーションの次に適ざ工業機構を設置してソフトアナを設置した。こうした作用能力と採用され、その報道が欧州ワブという環境密事患者は法人税変更に当たってしまう。人件の低解機として提唱された甲生に対するソログとしては、連邦空軍内部武装の3例での設計法を維持することが懸覚的証明のみで\n",
      "鼓人の嵩地により1963年に破壊されたピッタット26つ貴範。この熱速度に関しては1基がサロウ態台である。公園構造や滝の誉炭神経観測、メキシコに摩擦配陸体を使う鉱害器が広ぜ、帝国観測には適地式で販売できない高速種の差容度のため造う-艦の水防の高い共通酵を有する男を江戸のように残列する1998年の材料\n"
     ]
    }
   ],
   "source": [
    "for _ in range(5):\n",
    "    print(generate_sentence(model, max_len=100))"
   ]
  },
  {
   "cell_type": "markdown",
   "metadata": {},
   "source": [
    "### モデルの改良\n",
    "\n",
    "例によって私が実装したものは効率が悪い様なのでPyTorchのLSTMを使う。また、LSTM層を増やしてみる。"
   ]
  },
  {
   "cell_type": "code",
   "execution_count": 48,
   "metadata": {},
   "outputs": [],
   "source": [
    "class LanguageModel(nn.Module):\n",
    "    def __init__(self, n_vocab, embed_size, hidden_size):\n",
    "        super().__init__()\n",
    "        self.embedding = nn.Embedding(n_vocab, embed_size)\n",
    "        self.lstm = nn.LSTM(\n",
    "            embed_size,\n",
    "            hidden_size,\n",
    "            batch_first=True,\n",
    "            num_layers=3, # 3層にする\n",
    "            dropout=0.2, # dropoutを指定\n",
    "        )\n",
    "        self.fc = nn.Linear(hidden_size, n_vocab)\n",
    "        self.dropout = nn.Dropout(0.2)\n",
    "\n",
    "    def forward(self, x, hc=None):\n",
    "        x = self.embedding(x) # (seq_len, embed_size)\n",
    "        x = self.dropout(x)\n",
    "        hs, hc = self.lstm(x, hc) # (seq_len, hidden_size)\n",
    "        y = self.fc(hs) # (seq_len, n_vocab)\n",
    "        return y, hc"
   ]
  },
  {
   "cell_type": "markdown",
   "metadata": {},
   "source": [
    "`num_layers=3`を指定した。これは以下のモデルと同義。\n",
    "\n",
    "```python\n",
    "class LanguageModel(nn.Module):\n",
    "    def __init__(self, n_vocab, embed_size, hidden_size):\n",
    "        super().__init__()\n",
    "        self.embedding = nn.Embedding(n_vocab, embed_size)\n",
    "        self.lstm1 = nn.LSTM(embed_size, hidden_size, batch_first=True)\n",
    "        self.lstm2 = nn.LSTM(hidden_size, hidden_size, batch_first=True)\n",
    "        self.lstm3 = nn.LSTM(hidden_size, hidden_size, batch_first=True)\n",
    "        self.fc = nn.Linear(hidden_size, n_vocab)\n",
    "        self.dropout = nn.Dropout(0.2)\n",
    "\n",
    "    def forward(self, x, hc=None):\n",
    "        h, c = hc\n",
    "        h1, h2, h3 = h\n",
    "        c1, c2, c3 = c\n",
    "        x = self.embedding(x) # (seq_len, embed_size)\n",
    "        x = self.dropout(x)\n",
    "        hs, (h1, c1) = self.lstm1(x, hc) # (seq_len, hidden_size)\n",
    "        hs = self.dropout(hs)\n",
    "        hs, (h2, c2) = self.lstm2(hs, (h1, c1)) # (seq_len, hidden_size)\n",
    "        hs = self.dropout(hs)\n",
    "        hs, (h3, c3) = self.lstm3(hs, (h2, c2)) # (seq_len, hidden_size)\n",
    "        hs = self.dropout(hs)\n",
    "        y = self.fc(hs) # (seq_len, n_vocab)\n",
    "        h = torch.stack([h1, h2, h3]) # (3, batch_size, hidden_size)\n",
    "        c = torch.stack([c1, c2, c3]) # (3, batch_size, hidden_size)\n",
    "        hc = (h, c)\n",
    "        return y, hc\n",
    "```"
   ]
  },
  {
   "cell_type": "code",
   "execution_count": 55,
   "metadata": {},
   "outputs": [
    {
     "name": "stdout",
     "output_type": "stream",
     "text": [
      "num of parameters: 14,503,744\n"
     ]
    }
   ],
   "source": [
    "n_vocab = len(sp)\n",
    "embed_size = 512\n",
    "hidden_size = 512\n",
    "model = LanguageModel(n_vocab, hidden_size, hidden_size).to(device)\n",
    "n_params = sum(p.numel() for p in model.parameters())\n",
    "print(f\"num of parameters: {n_params:,}\")"
   ]
  },
  {
   "cell_type": "markdown",
   "metadata": {},
   "source": [
    "LSTM層を増やしたのでパラメータ数も増えた。これで学習させる。"
   ]
  },
  {
   "cell_type": "code",
   "execution_count": 50,
   "metadata": {},
   "outputs": [],
   "source": [
    "optimizer = optim.Adam(model.parameters(), lr=1e-4)"
   ]
  },
  {
   "cell_type": "code",
   "execution_count": 51,
   "metadata": {},
   "outputs": [
    {
     "name": "stdout",
     "output_type": "stream",
     "text": [
      "  1-2/40: #################### 100% [00:06:46.66] ppl train: 745.52, test: 410.41 \n",
      "  3-4/40: #################### 100% [00:06:45.84] ppl train: 321.31, test: 291.90 \n",
      "  5-6/40: #################### 100% [00:06:47.76] ppl train: 234.03, test: 241.56 \n",
      "  7-8/40: #################### 100% [00:06:47.57] ppl train: 188.21, test: 213.68 \n",
      " 9-10/40: #################### 100% [00:06:44.54] ppl train: 158.58, test: 194.58 \n",
      "11-12/40: #################### 100% [00:06:46.81] ppl train: 138.47, test: 182.26 \n",
      "13-14/40: #################### 100% [00:06:45.40] ppl train: 123.29, test: 174.50 \n",
      "15-16/40: #################### 100% [00:06:42.63] ppl train: 111.80, test: 167.09 \n",
      "17-18/40: #################### 100% [00:06:49.01] ppl train: 101.88, test: 161.07 \n",
      "19-20/40: #################### 100% [00:06:46.16] ppl train: 94.54, test: 158.95 \n",
      "21-22/40: #################### 100% [00:06:45.63] ppl train: 88.44, test: 155.21 \n",
      "23-24/40: #################### 100% [00:06:51.86] ppl train: 82.90, test: 152.29 \n",
      "25-26/40: #################### 100% [00:06:46.87] ppl train: 78.56, test: 151.42 \n",
      "27-28/40: #################### 100% [00:06:45.02] ppl train: 74.82, test: 152.25 \n",
      "29-30/40: #################### 100% [00:06:48.72] ppl train: 71.38, test: 151.11 \n",
      "31-32/40: #################### 100% [00:06:57.18] ppl train: 68.74, test: 151.60 \n",
      "33-34/40: #################### 100% [00:06:52.87] ppl train: 66.17, test: 150.36 \n",
      "35-36/40: #################### 100% [00:06:43.57] ppl train: 63.51, test: 151.68 \n",
      "37-38/40: #################### 100% [00:06:33.67] ppl train: 61.51, test: 150.58 \n",
      "39-40/40: #################### 100% [00:06:42.80] ppl train: 59.41, test: 151.60 \n"
     ]
    }
   ],
   "source": [
    "train(model, optimizer, trunc_len=100, n_epochs=40, prog_unit=2)"
   ]
  },
  {
   "cell_type": "markdown",
   "metadata": {},
   "source": [
    "20エポック時点までのpplの減りは少し良くなったが、以降は減りが停滞してしまった。"
   ]
  },
  {
   "cell_type": "code",
   "execution_count": 52,
   "metadata": {},
   "outputs": [],
   "source": [
    "model_path = \"models/lm_lstm_imp.pth\"\n",
    "torch.save(model.state_dict(), model_path)"
   ]
  },
  {
   "cell_type": "code",
   "execution_count": 53,
   "metadata": {},
   "outputs": [
    {
     "name": "stdout",
     "output_type": "stream",
     "text": [
      "戦闘船団は、メキシコ西部618Nmであり、大多数が3000型2をビリウム・カングナ(シノン・ラン)のもの規模で1535cm39で走行するという方式で、バラエティに大きく大きな足望を示した。モンドと当時の自動車では、古いガス座・綿製の鋳橋が捕らえた高高度な特許を持っていた場所であり、家庭に形式され、これら奴隷流通区が賃貸している。2156\n",
      "添血行動の資料は図形である。周囲の大きい宇宙通信機の天元は早くもまるでに、とりわけ虚なる市民(そして表想士)に加え、この地球で一ノく地地点と非常に白い防衛を行うことがないため、変化が若干伝わったならば、餌を濁すので強面をかけた。幼虫を防ぐほど、乾燥した私と、ますます低を超える微微性を編\n",
      "G unoS_oughは、地球内でIPChadil Veadic Dattoemch Grak's’onen Pulder 自動の進化したものでしかない。ちなみに、主に、いずれもUhaavodBという「ホワイト・ウォーカー」(Mul物 haviioal Dove )という用語を執筆しながら独立した技術な用語を実現させることができる。\n",
      "清常顧問武装・予備の水戸蓄太 戸談同然。初めて有名な商科一行と、間接的な痛光種回りに者計雌達、避白種の男女でデザイン的に「読者が教界者とするべき烈丈な事柄減りの公理を使って使えない」具体的な体験を受けた。腫瘍では精神保健が必要を実施しており、実際には「使用機」という、社会自殺、110%、13%について\n",
      "出校者(一部)は同校36号部校9計2号 近く下 区附区分郡舘2, 2013年11月13日 〈山口紗梨駅分東京 - 体丸林山 - 海軍場佐敷)。\n"
     ]
    }
   ],
   "source": [
    "for _ in range(5):\n",
    "    print(generate_sentence(model, max_len=100))"
   ]
  }
 ],
 "metadata": {
  "kernelspec": {
   "display_name": "nlp",
   "language": "python",
   "name": "python3"
  },
  "language_info": {
   "codemirror_mode": {
    "name": "ipython",
    "version": 3
   },
   "file_extension": ".py",
   "mimetype": "text/x-python",
   "name": "python",
   "nbconvert_exporter": "python",
   "pygments_lexer": "ipython3",
   "version": "3.11.3"
  },
  "orig_nbformat": 4
 },
 "nbformat": 4,
 "nbformat_minor": 2
}
