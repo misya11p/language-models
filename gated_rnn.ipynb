{
 "cells": [
  {
   "cell_type": "markdown",
   "metadata": {},
   "source": [
    "# ゲート付きRNN\n",
    "\n",
    "RNN層にゲートと呼ばれる機構を追加し、より長期的な文脈の情報を保持できるようにしたもの。"
   ]
  },
  {
   "cell_type": "code",
   "execution_count": 1,
   "metadata": {},
   "outputs": [],
   "source": [
    "import math\n",
    "import random\n",
    "\n",
    "import sentencepiece as spm\n",
    "import torch\n",
    "from torch import nn, optim\n",
    "import torch.nn.functional as F\n",
    "from torch.utils.data import Dataset, DataLoader, random_split\n",
    "from torch.nn.utils.rnn import pad_sequence\n",
    "from dlprog import train_progress"
   ]
  },
  {
   "cell_type": "code",
   "execution_count": 2,
   "metadata": {},
   "outputs": [
    {
     "data": {
      "text/plain": [
       "device(type='cuda')"
      ]
     },
     "execution_count": 2,
     "metadata": {},
     "output_type": "execute_result"
    }
   ],
   "source": [
    "prog = train_progress(\n",
    "    width=20,\n",
    "    with_test=True,\n",
    "    label=\"ppl train\",\n",
    "    round=2,\n",
    "    agg_fn=lambda s, w: math.exp(s / w)\n",
    ")\n",
    "device = torch.device(\"cuda\" if torch.cuda.is_available() else \"cpu\")\n",
    "device"
   ]
  },
  {
   "cell_type": "markdown",
   "metadata": {},
   "source": [
    "### 学習データの用意"
   ]
  },
  {
   "cell_type": "code",
   "execution_count": 3,
   "metadata": {},
   "outputs": [],
   "source": [
    "textfile = f\"data/jawiki.txt\"\n",
    "tokenizer_prefix = f\"models/tokenizer_jawiki\""
   ]
  },
  {
   "cell_type": "code",
   "execution_count": 4,
   "metadata": {},
   "outputs": [],
   "source": [
    "with open(textfile) as f:\n",
    "    data = f.read().splitlines()"
   ]
  },
  {
   "cell_type": "code",
   "execution_count": 5,
   "metadata": {},
   "outputs": [
    {
     "name": "stdout",
     "output_type": "stream",
     "text": [
      "num of vocabrary: 8000\n"
     ]
    },
    {
     "data": {
      "text/plain": [
       "[1, 13, 20, 491, 540, 276, 48, 762, 53, 3649]"
      ]
     },
     "execution_count": 5,
     "metadata": {},
     "output_type": "execute_result"
    }
   ],
   "source": [
    "sp = spm.SentencePieceProcessor(f\"{tokenizer_prefix}.model\")\n",
    "n_vocab = len(sp)\n",
    "\n",
    "unk_id = sp.unk_id()\n",
    "bos_id = sp.bos_id()\n",
    "eos_id = sp.eos_id()\n",
    "pad_id = sp.pad_id()\n",
    "\n",
    "data_ids = sp.encode(data)\n",
    "for ids in data_ids:\n",
    "    ids.insert(0, bos_id)\n",
    "    ids.append(eos_id)\n",
    "\n",
    "print(\"num of vocabrary:\", n_vocab)\n",
    "data_ids[0][:10] # example"
   ]
  },
  {
   "cell_type": "code",
   "execution_count": 6,
   "metadata": {},
   "outputs": [
    {
     "name": "stdout",
     "output_type": "stream",
     "text": [
      "num of train data: 71760\n",
      "num of test data: 17939\n"
     ]
    },
    {
     "data": {
      "text/plain": [
       "(torch.Size([32, 1275]), torch.Size([32, 1275]))"
      ]
     },
     "execution_count": 6,
     "metadata": {},
     "output_type": "execute_result"
    }
   ],
   "source": [
    "class TextDataset(Dataset):\n",
    "    def __init__(self, data_ids):\n",
    "        self._n_samples = len(data_ids)\n",
    "        self.data = [torch.tensor(ids) for ids in data_ids]\n",
    "\n",
    "    def __getitem__(self, idx):\n",
    "        in_text = self.data[idx][:-1]\n",
    "        out_text = self.data[idx][1:]\n",
    "        return in_text, out_text\n",
    "\n",
    "    def __len__(self):\n",
    "        return self._n_samples\n",
    "\n",
    "def collate_fn(batch):\n",
    "    in_text, out_text = zip(*batch)\n",
    "    in_text = pad_sequence(in_text, batch_first=True, padding_value=pad_id)\n",
    "    out_text = pad_sequence(out_text, batch_first=True, padding_value=pad_id)\n",
    "    return in_text, out_text\n",
    "\n",
    "batch_size = 32\n",
    "dataset = TextDataset(data_ids)\n",
    "train_dataset, test_dataset = random_split(dataset, [0.8, 0.2])\n",
    "print(\"num of train data:\", len(train_dataset))\n",
    "print(\"num of test data:\", len(test_dataset))\n",
    "\n",
    "train_loader = DataLoader(\n",
    "    train_dataset,\n",
    "    batch_size=batch_size,\n",
    "    shuffle=True,\n",
    "    collate_fn=collate_fn\n",
    ")\n",
    "test_loader = DataLoader(\n",
    "    test_dataset,\n",
    "    batch_size=batch_size,\n",
    "    collate_fn=collate_fn\n",
    ")\n",
    "\n",
    "sample_x, sample_y = next(iter(train_loader))\n",
    "sample_x.shape, sample_y.shape"
   ]
  },
  {
   "cell_type": "markdown",
   "metadata": {},
   "source": [
    "\n",
    "---\n",
    "\n",
    "## ゲート\n",
    "\n",
    "あるデータをどれくらい通すかを示したもの。具体的には0~1の要素を持つ対象のデータと同じサイズのベクトル。"
   ]
  },
  {
   "cell_type": "markdown",
   "metadata": {},
   "source": [
    "例えば、$z=(0.2,0.5,0.9)$というゲートは一つ目の要素を2割、二つ目の要素を5割、三つ目の要素を9割通すゲートである。"
   ]
  },
  {
   "cell_type": "code",
   "execution_count": 7,
   "metadata": {},
   "outputs": [],
   "source": [
    "z = torch.tensor([0.2, 0.5, 0.9])"
   ]
  },
  {
   "cell_type": "markdown",
   "metadata": {},
   "source": [
    "このゲートに適当なデータとして3次元ベクトル$x=(1,2,3)$を掛けてみる。"
   ]
  },
  {
   "cell_type": "code",
   "execution_count": 8,
   "metadata": {},
   "outputs": [
    {
     "data": {
      "text/plain": [
       "tensor([0.2000, 1.0000, 2.7000])"
      ]
     },
     "execution_count": 8,
     "metadata": {},
     "output_type": "execute_result"
    }
   ],
   "source": [
    "x = torch.tensor([1, 2, 3])\n",
    "y = x * z\n",
    "y"
   ]
  },
  {
   "cell_type": "markdown",
   "metadata": {},
   "source": [
    "これで、元の入力の**一部を通した**ことになった。これがゲートの役目。"
   ]
  },
  {
   "cell_type": "markdown",
   "metadata": {},
   "source": [
    "\n",
    "---\n",
    "\n",
    "## ゲート付きRNN\n",
    "\n",
    "ゲートをRNNに取り入れたモデル。RNN層の色んな所に取り入れる。具体的な取り入れ方はモデルによって異なり、そこからいくつかを取り上げて次節以降で紹介する。本節では基礎的な部分を説明する。"
   ]
  },
  {
   "cell_type": "markdown",
   "metadata": {},
   "source": [
    "少し余談。\n",
    "\n",
    "ゲート付きRNNには後の節で紹介するGRUやLSTMなどがある。これらはRNNの一種と見られ、学習時・推論時共に再帰的な演算を要する。一方で、学習時に限って並列化が可能なモデルも存在する。その最たる例がTransformerと呼ばれるモデルで、これは後の章で紹介する。\n",
    "\n",
    "多様な言語モデルを比較する上で、Transformerの様な学習時の並列化が可能なモデルとそうでないモデルを区別することがある。その際、後者のモデルを全てまとめて（GRU、LSTM等も含めて）RNNと呼ぶことがある。本資料でも次章以降ではそういった使い方がされているので、注意して読んで。"
   ]
  },
  {
   "cell_type": "markdown",
   "metadata": {},
   "source": [
    "### 勾配消失・勾配爆発\n",
    "\n",
    "RNNにゲートを取り入れるメリットはいくつかあるが、その一つに勾配消失・勾配爆発の防止がある。これらは系列長が長くなるにつれて時間方向の勾配が小さく・大きくなる現象である。"
   ]
  },
  {
   "cell_type": "markdown",
   "metadata": {},
   "source": [
    "### ニューラルネットワークにゲートを取り入れる\n",
    "\n",
    "NNにゲートを取り入れることを考える。色々なやり方が考えられるが、通常は以下のように扱う。\n",
    "\n",
    "$$\n",
    "\\begin{align}\n",
    "\\tilde h &= h \\odot z \\\\\n",
    "z &= \\text{gate}(h) = \\sigma(\\text{fc}(h))\n",
    "\\end{align}\n",
    "$$\n",
    "\n",
    "あるデータ$h$に対し、適当な関数$\\text{gate}$を用いてゲート$z$を作り、$h$と$z$の要素ごとの積をとることで新たなデータ$\\tilde h$を出力する。ゲートを作る関数は基本的に全結合層$\\text{fc}$とシグモイド関数$\\sigma$を組み合わせて作る。もちろんこの全結合層は学習可能。その全結合層によって線形変換したのち、シグモイド関数によって0~1の値に収める。"
   ]
  },
  {
   "cell_type": "markdown",
   "metadata": {},
   "source": [
    "ゲート部分をPyTorchで実装すると以下。"
   ]
  },
  {
   "cell_type": "code",
   "execution_count": 9,
   "metadata": {},
   "outputs": [],
   "source": [
    "class Gate(nn.Module):\n",
    "    def __init__(self, input_size):\n",
    "        super().__init__()\n",
    "        self.net = nn.Sequential(\n",
    "            nn.Linear(input_size, input_size),\n",
    "            nn.Sigmoid()\n",
    "        )\n",
    "\n",
    "    def forward(self, x):\n",
    "        return self.net(x)"
   ]
  },
  {
   "cell_type": "code",
   "execution_count": 10,
   "metadata": {},
   "outputs": [
    {
     "name": "stdout",
     "output_type": "stream",
     "text": [
      "data: tensor([-1.8377,  0.7763, -0.8717])\n",
      "gate: tensor([0.7910, 0.6489, 0.8707], grad_fn=<SigmoidBackward0>)\n",
      "output: tensor([-1.4536,  0.5037, -0.7590], grad_fn=<MulBackward0>)\n"
     ]
    }
   ],
   "source": [
    "input_size = 3\n",
    "gate = Gate(input_size)\n",
    "\n",
    "x = torch.randn(input_size) # 適当なデータ\n",
    "gate_x = gate(x)\n",
    "print(\"data:\", x)\n",
    "print(\"gate:\", gate_x)\n",
    "\n",
    "y = x * gate_x\n",
    "print(\"output:\", y)"
   ]
  },
  {
   "cell_type": "markdown",
   "metadata": {},
   "source": [
    "このような形でRNNにゲートを取り入れる。具体的な構造は次節以降で見ていこう。"
   ]
  },
  {
   "cell_type": "markdown",
   "metadata": {},
   "source": [
    "\n",
    "---\n",
    "\n",
    "## GRU\n",
    "\n",
    "*Gated Recurrent Unit*\n",
    "\n",
    "ゲート付きRNNの一種。割とシンプルなモデル。"
   ]
  },
  {
   "cell_type": "markdown",
   "metadata": {},
   "source": [
    "一旦RNNの復習をしよう。\n",
    "\n",
    "\n",
    "RNNはある時間$t$の入力$x_t$に対して以下のような演算で出力値$h_t$を決定する。\n",
    "\n",
    "$$\n",
    "h_t = \\mathrm{tanh}(W_x x_t + b_x + W_h h_{t-1} + b_h)\n",
    "$$\n",
    "\n",
    "この$x_t$と$h_{t-1}$の全結合の部分をまとめて、一つの全結合$\\mathrm{fc}(x,h)$で表すことにしよう。\n",
    "\n",
    "$$\n",
    "\\begin{align}\n",
    "h_t &= \\mathrm{tanh}(\\mathrm{fc}(x_t,h_{t-1})) \\\\\n",
    "\\mathrm{fc}(x,h) &= W_x x + b_x + W_h h + b_h\n",
    "\\end{align}\n",
    "$$\n",
    "\n",
    "ついでに$\\mathrm{fc}(x,h)$の実装もしておこう。"
   ]
  },
  {
   "cell_type": "code",
   "execution_count": 11,
   "metadata": {},
   "outputs": [],
   "source": [
    "class FullyConnected(nn.Module):\n",
    "    def __init__(self, input_size, hidden_size):\n",
    "        super().__init__()\n",
    "        self.fc_input = nn.Linear(input_size, hidden_size)\n",
    "        self.fc_hidden = nn.Linear(hidden_size, hidden_size)\n",
    "\n",
    "    def forward(self, x, h):\n",
    "        return self.fc_input(x) + self.fc_hidden(h)"
   ]
  },
  {
   "cell_type": "markdown",
   "metadata": {},
   "source": [
    "では、GRUの構造を見ていこう。GRUは以下のような演算で出力値$h_t$を決定する。\n",
    "\n",
    "$$\n",
    "\\begin{align}\n",
    "h_t &= (1 - z_t) \\odot \\tilde{h}_t + z_t \\odot h_{t-1} \\\\\n",
    "\\tilde{h}_t &= \\mathrm{tanh}(\\mathrm{fc}_{\\tilde h}(x_t,h_{t-1})) \\\\\n",
    "z_t &= \\text{gate}(x_t,h_{t-1}) = \\sigma(\\mathrm{fc}_{z}(x_t,h_{t-1})) \\\\\n",
    "\\end{align}\n",
    "$$\n",
    "\n",
    "$\\sigma(x)$はsigmoid関数。**なお、このGRUは一般的なものより少し簡略化されているので注意。**"
   ]
  },
  {
   "cell_type": "markdown",
   "metadata": {},
   "source": [
    "RNNでは新たなデータ$\\tilde h_t$がそのまま出力されていたが、GRUでは、新たなデータ$\\tilde h_t$を古いデータ$h_{t-1}$に足して出力する。そして、その際の比率をゲート$z_t$で決める。$z_t$は$h_{t-1}$をどれだけ通すかを表すもので、$x_t$と$h_{t-1}$によって決まる。\n",
    "\n",
    "このように、GRUではゲートを用いて新たなデータをどれだけ取り入れるべきか、そして古いデータをどれだけ捨てるか考えることが出来る。この枠組みの下で学習を行うことで、長期的に保持すべきデータをしっかりと保持できるようになることが期待される。"
   ]
  },
  {
   "cell_type": "markdown",
   "metadata": {},
   "source": [
    "単一時間のGRUを実装してみよう。まずGRU内部で用いるゲートをつくる。"
   ]
  },
  {
   "cell_type": "code",
   "execution_count": 12,
   "metadata": {},
   "outputs": [],
   "source": [
    "class Gate(nn.Module):\n",
    "    def __init__(self, input_size, hidden_size):\n",
    "        super().__init__()\n",
    "        self.fc = FullyConnected(input_size, hidden_size)\n",
    "        self.sigmoid = nn.Sigmoid()\n",
    "\n",
    "    def forward(self, x, h):\n",
    "        return self.sigmoid(self.fc(x, h))"
   ]
  },
  {
   "cell_type": "markdown",
   "metadata": {},
   "source": [
    "$x$と$h$の二つを入力するので`nn.Sequential`は使えない。\n",
    "\n",
    "でこれを使ってGRUを実装するとこう。"
   ]
  },
  {
   "cell_type": "code",
   "execution_count": 13,
   "metadata": {},
   "outputs": [],
   "source": [
    "class SimpleGRUCell(nn.Module):\n",
    "    def __init__(self, input_size, hidden_size):\n",
    "        super().__init__()\n",
    "        self.fc = FullyConnected(input_size, hidden_size)\n",
    "        self.gate = Gate(input_size, hidden_size)\n",
    "\n",
    "    def forward(self, x, h):\n",
    "        h_new = F.tanh(self.fc(x, h))\n",
    "        z = self.gate(x, h)\n",
    "        h = (1 - z)*h_new + z*h\n",
    "        return h"
   ]
  },
  {
   "cell_type": "code",
   "execution_count": 14,
   "metadata": {},
   "outputs": [
    {
     "data": {
      "text/plain": [
       "torch.Size([32, 256])"
      ]
     },
     "execution_count": 14,
     "metadata": {},
     "output_type": "execute_result"
    }
   ],
   "source": [
    "batch_size = 32\n",
    "embed_size = 128\n",
    "hidden_size = 256\n",
    "x = torch.randn(batch_size, embed_size)\n",
    "h = torch.randn(batch_size, hidden_size)\n",
    "\n",
    "gru = SimpleGRUCell(embed_size, hidden_size)\n",
    "h_new = gru(x, h)\n",
    "h_new.shape"
   ]
  },
  {
   "cell_type": "markdown",
   "metadata": {},
   "source": [
    "上記のモデルは通常のGRUを私が簡略化したもの。通常のGRUは、上記のモデルにゲートを一つ追加した以下のモデルである。\n",
    "\n",
    "$$\n",
    "\\begin{align}\n",
    "h_t &= (1 - z_t) \\odot \\tilde{h}_t + z_t \\odot h_{t-1} \\\\\n",
    "\\tilde{h}_t &= \\mathrm{tanh}(\\mathrm{fc}_{\\tilde h}(x_t,r_t \\odot h_{t-1})) \\\\\n",
    "z_t &= \\text{gate}_z(x_t,h_{t-1}) = \\sigma(\\mathrm{fc}_{z}(x_t,h_{t-1})) \\\\\n",
    "r_t &= \\text{gate}_r(x_t,h_{t-1}) = \\sigma(\\mathrm{fc}_{r}(x_t,h_{t-1})) \\\\\n",
    "\\end{align}\n",
    "$$\n",
    "\n",
    "新なデータ$\\tilde h_t$を生成する際に、古いデータ$h_{t-1}$をどれだけ考慮するかを決めるゲート$r_t$が追加されている。"
   ]
  },
  {
   "cell_type": "code",
   "execution_count": 15,
   "metadata": {},
   "outputs": [],
   "source": [
    "class GRUCell(nn.Module):\n",
    "    def __init__(self, input_size, hidden_size):\n",
    "        super().__init__()\n",
    "        self.fc_input = FullyConnected(input_size, hidden_size)\n",
    "        self.gate_update = Gate(input_size, hidden_size)\n",
    "        self.gate_reset = Gate(input_size, hidden_size)\n",
    "\n",
    "    def forward(self, x, h):\n",
    "        r = self.gate_reset(x, h)\n",
    "        h_new = F.tanh(self.fc_input(x, r * h))\n",
    "        z = self.gate_update(x, h)\n",
    "        h = (1 - z)*h_new + z*h\n",
    "        return h"
   ]
  },
  {
   "cell_type": "markdown",
   "metadata": {},
   "source": [
    "RNN同様、PyTorchにクラスが用意されている。\n",
    "\n",
    "- `GRUCell`: https://pytorch.org/docs/stable/generated/torch.nn.GRUCell.html\n",
    "- `GRU`: https://pytorch.org/docs/stable/generated/torch.nn.GRU.html"
   ]
  },
  {
   "cell_type": "code",
   "execution_count": 16,
   "metadata": {},
   "outputs": [],
   "source": [
    "gru = nn.GRU(input_size, input_size)"
   ]
  },
  {
   "cell_type": "markdown",
   "metadata": {},
   "source": [
    "\n",
    "---\n",
    "\n",
    "## LSTM\n",
    "\n",
    "*Long Short-Term Memory*\n",
    "\n",
    "長短期記憶\n",
    "\n",
    "GRUの進化版。考え方はGRUと同じで、RNNにゲートを取り入れてイイ感じにしたもの。ちなみに、GRUよりLSTMの方が先に提案されている。GRUはLSTMの簡易版として後から提案された。"
   ]
  },
  {
   "cell_type": "markdown",
   "metadata": {},
   "source": [
    "LSTMには出力する隠れ状態$h_t$だけでなく、**記憶セル**と呼ばれる変数$c_t$を持つ。記憶セルはLSTMの外に出力されることはなく、LSTM内部でのみ使用される。\n",
    "\n",
    "まず簡単に文字で説明する。記憶セル$c_t$がGRUでの隠れ状態$h_t$に当たり、ゲートを用いた不要な情報の削除と新たな情報の追加が行われる。そしてこの記憶セルを活性化関数に通したものをLSTMの出力=隠れ状態$h_t$とする。なおゲートの生成には入力$x_t$と前の隠れ状態$h_{t-1}$を用いる（記憶セル$c_{t-1}$は用いない）。"
   ]
  },
  {
   "cell_type": "markdown",
   "metadata": {},
   "source": [
    "数式で見てみよう。\n",
    "\n",
    "$$\n",
    "\\begin{align}\n",
    "h_t &= o_t \\odot \\mathrm{tanh}(c_t) \\\\\n",
    "c_t &= f_t \\odot c_{t-1} + i_t \\odot \\tilde c_t \\\\\n",
    "\\tilde c_t &= \\mathrm{tanh}(\\mathrm{fc}_{\\tilde c}(x_t,h_{t-1})) \\\\\n",
    "i_t &= \\sigma(\\mathrm{fc}_{i}(x_t,h_{t-1})) \\\\\n",
    "f_t &= \\sigma(\\mathrm{fc}_{f}(x_t,h_{t-1})) \\\\\n",
    "o_t &= \\sigma(\\mathrm{fc}_{o}(x_t,h_{t-1})) \\\\\n",
    "\\end{align}\n",
    "$$\n",
    "\n",
    "\n",
    "- $\\tilde c_t$: 新たな情報。\n",
    "- $i_t$: inputゲート。新たな情報$\\tilde c_t$をどれだけ取り入れるかを決める。\n",
    "- $f_t$: forgetゲート。古い情報$c_{h-1}$をどれだけ保持するかを決めるゲート。\n",
    "- $o_t$: outputゲート。出力する隠れ状態の量を決めるゲート。\n",
    "\n",
    "GRUでは1つのゲートを用いて新たな情報と古い情報の比率を決めていたが、LSTMでは別々のゲートを用いて決める。"
   ]
  },
  {
   "cell_type": "markdown",
   "metadata": {},
   "source": [
    "実装は以下の通り。"
   ]
  },
  {
   "cell_type": "code",
   "execution_count": 17,
   "metadata": {},
   "outputs": [],
   "source": [
    "class LSTMCell(nn.Module):\n",
    "    def __init__(self, input_size, hidden_size):\n",
    "        super().__init__()\n",
    "        self.gate_input = Gate(input_size, hidden_size)\n",
    "        self.gate_forget = Gate(input_size, hidden_size)\n",
    "        self.gate_output = Gate(input_size, hidden_size)\n",
    "        self.fc = FullyConnected(input_size, hidden_size)\n",
    "\n",
    "    def forward(self, x, hc):\n",
    "        h, c = hc\n",
    "        c_new = F.tanh(self.fc(x, h))\n",
    "        i = self.gate_input(x, h)\n",
    "        f = self.gate_forget(x, h)\n",
    "        o = self.gate_output(x, h)\n",
    "        c = f*c + i*c_new\n",
    "        h = o * F.tanh(c)\n",
    "        return h, c"
   ]
  },
  {
   "cell_type": "markdown",
   "metadata": {},
   "source": [
    "全ての時間を一括で処理する`LSTM`も実装しておこう。"
   ]
  },
  {
   "cell_type": "code",
   "execution_count": 18,
   "metadata": {},
   "outputs": [],
   "source": [
    "class LSTM(nn.Module):\n",
    "    def __init__(self, input_size: int, hidden_size: int):\n",
    "        super().__init__()\n",
    "        self.lstm_cell = LSTMCell(input_size, hidden_size)\n",
    "        self.hidden_size = hidden_size\n",
    "\n",
    "    def forward(self, x, hc=None):\n",
    "        \"\"\"\n",
    "            x: (batch_size, seq_len, input_size)\n",
    "            h: (batch_size, hidden_size)\n",
    "        \"\"\"\n",
    "        if hc is None:\n",
    "            h = torch.zeros(x.size(0), self.hidden_size).to(x.device)\n",
    "            c = torch.zeros(x.size(0), self.hidden_size).to(x.device)\n",
    "        else:\n",
    "            h, c = hc\n",
    "        hs = []\n",
    "        x = x.transpose(0, 1) # (seq_len, batch_size, input_size)\n",
    "        for xi in x:\n",
    "            (h, c) = self.lstm_cell(xi, (h, c))\n",
    "            hs.append(h)\n",
    "        hs = torch.stack(hs) # (seq_len, batch_size, hidden_size)\n",
    "        hs = hs.transpose(0, 1) # (batch_size, seq_len, hidden_size)\n",
    "        return hs, (h, c)"
   ]
  },
  {
   "cell_type": "code",
   "execution_count": 19,
   "metadata": {},
   "outputs": [
    {
     "data": {
      "text/plain": [
       "(torch.Size([32, 10, 256]), torch.Size([32, 256]), torch.Size([32, 256]))"
      ]
     },
     "execution_count": 19,
     "metadata": {},
     "output_type": "execute_result"
    }
   ],
   "source": [
    "batch_size = 32\n",
    "seq_len = 10\n",
    "embed_size = 128\n",
    "hidden_size = 256\n",
    "\n",
    "x = torch.randn(batch_size, seq_len, embed_size)\n",
    "h = torch.randn(batch_size, hidden_size)\n",
    "c = torch.randn(batch_size, hidden_size)\n",
    "\n",
    "lstm = LSTM(embed_size, hidden_size)\n",
    "hs, (h, c) = lstm(x, (h, c))\n",
    "hs.shape, h.shape, c.shape"
   ]
  },
  {
   "cell_type": "markdown",
   "metadata": {},
   "source": [
    "こちらもPyTorchにクラスが用意されている。\n",
    "\n",
    "- `LSTMCell`: https://pytorch.org/docs/stable/generated/torch.nn.LSTMCell.html\n",
    "- `LSTM`: https://pytorch.org/docs/stable/generated/torch.nn.LSTM.html"
   ]
  },
  {
   "cell_type": "code",
   "execution_count": 20,
   "metadata": {},
   "outputs": [
    {
     "data": {
      "text/plain": [
       "(torch.Size([32, 10, 256]), torch.Size([1, 32, 256]), torch.Size([1, 32, 256]))"
      ]
     },
     "execution_count": 20,
     "metadata": {},
     "output_type": "execute_result"
    }
   ],
   "source": [
    "x = torch.randn(batch_size, seq_len, embed_size)\n",
    "h = torch.randn(1, batch_size, hidden_size)\n",
    "c = torch.randn(1, batch_size, hidden_size)\n",
    "\n",
    "lstm = nn.LSTM(embed_size, hidden_size, batch_first=True)\n",
    "hs, (h, c) = lstm(x, (h, c))\n",
    "hs.shape, h.shape, c.shape"
   ]
  },
  {
   "cell_type": "markdown",
   "metadata": {},
   "source": [
    "\n",
    "---\n",
    "\n",
    "## LSTMを用いた言語モデル\n",
    "\n",
    "LSTMで言語モデルを作ってみよう。といっても、前章で作成したモデルのRNN部分をLSTMに変更するだけ。"
   ]
  },
  {
   "cell_type": "code",
   "execution_count": 21,
   "metadata": {},
   "outputs": [],
   "source": [
    "class LanguageModel(nn.Module):\n",
    "    def __init__(self, n_vocab, embed_size, hidden_size, dropout):\n",
    "        super().__init__()\n",
    "        self.embedding = nn.Embedding(n_vocab, embed_size)\n",
    "        self.lstm = LSTM(embed_size, hidden_size)\n",
    "        self.fc = nn.Linear(hidden_size, n_vocab)\n",
    "        self.dropout = nn.Dropout(dropout)\n",
    "\n",
    "    def forward(self, x, hc=None):\n",
    "        x = self.embedding(x) # (seq_len, embed_size)\n",
    "        hs, hc = self.lstm(x, hc) # (seq_len, hidden_size)\n",
    "        hs = self.dropout(hs)\n",
    "        y = self.fc(hs) # (seq_len, n_vocab)\n",
    "        return y, hc"
   ]
  },
  {
   "cell_type": "code",
   "execution_count": 22,
   "metadata": {},
   "outputs": [
    {
     "name": "stdout",
     "output_type": "stream",
     "text": [
      "num of parameters: 10,301,248\n"
     ]
    }
   ],
   "source": [
    "n_vocab = len(sp)\n",
    "embed_size = 512\n",
    "hidden_size = 512\n",
    "dropout = 0.2\n",
    "model = LanguageModel(n_vocab, hidden_size, hidden_size, dropout).to(device)\n",
    "n_params = sum(p.numel() for p in model.parameters())\n",
    "print(f\"num of parameters: {n_params:,}\")"
   ]
  },
  {
   "cell_type": "markdown",
   "metadata": {},
   "source": [
    "\n",
    "---\n",
    "\n",
    "## 実践\n",
    "\n",
    "実際にモデルを学習させてみる。"
   ]
  },
  {
   "cell_type": "markdown",
   "metadata": {},
   "source": [
    "### 学習\n",
    "\n",
    "ミニバッチ&Truncated BPTT。隠れ状態に加えて記憶セルも扱うので、そこだけRNNの時と変わる。"
   ]
  },
  {
   "cell_type": "code",
   "execution_count": 23,
   "metadata": {},
   "outputs": [],
   "source": [
    "cross_entropy = nn.CrossEntropyLoss(ignore_index=pad_id)\n",
    "def loss_fn(y, t):\n",
    "    \"\"\"\n",
    "    y: (batch_size, seq_length, n_vocab)\n",
    "    t: (batch_size, seq_length)\n",
    "    \"\"\"\n",
    "    loss = cross_entropy(y.reshape(-1, n_vocab), t.ravel())\n",
    "    return loss\n",
    "\n",
    "@torch.no_grad()\n",
    "def eval_model(model, trunc_len=100):\n",
    "    model.eval()\n",
    "    losses = []\n",
    "    for x, t in test_loader:\n",
    "        hc = None\n",
    "        for i in range(0, x.shape[1], trunc_len):\n",
    "            x_batch = x[:, i:i+trunc_len].to(device)\n",
    "            t_batch = t[:, i:i+trunc_len].to(device)\n",
    "            y, hc = model(x_batch, hc)\n",
    "            loss = loss_fn(y, t_batch)\n",
    "            losses.append(loss.item())\n",
    "    loss = sum(losses) / len(losses)\n",
    "    ppl = math.exp(loss)\n",
    "    return ppl\n",
    "\n",
    "def train(model, optimizer, trunc_len, n_epochs, prog_unit=1):\n",
    "    prog.start(n_iter=len(train_loader), n_epochs=n_epochs, unit=prog_unit)\n",
    "    for _ in range(n_epochs):\n",
    "        model.train()\n",
    "        for x, t in train_loader:\n",
    "            hc = None\n",
    "            for i in range(0, x.shape[1], trunc_len):\n",
    "                x_batch = x[:, i:i+trunc_len].to(device)\n",
    "                t_batch = t[:, i:i+trunc_len].to(device)\n",
    "                optimizer.zero_grad()\n",
    "                y, (h, c) = model(x_batch, hc)\n",
    "                loss = loss_fn(y, t_batch)\n",
    "                loss.backward()\n",
    "                optimizer.step()\n",
    "                prog.update(loss.item(), advance=0)\n",
    "                hc = (h.detach(), c.detach())\n",
    "            prog.update()\n",
    "\n",
    "        if prog.now_epoch % prog_unit == 0:\n",
    "            test_ppl = eval_model(model, trunc_len)\n",
    "            prog.memo(f\"test: {test_ppl:.2f}\", no_step=True)\n",
    "        prog.memo()"
   ]
  },
  {
   "cell_type": "code",
   "execution_count": 24,
   "metadata": {},
   "outputs": [],
   "source": [
    "optimizer = optim.Adam(model.parameters(), lr=1e-4)"
   ]
  },
  {
   "cell_type": "markdown",
   "metadata": {},
   "source": [
    "とりあえず5エポック。正しく動くことを確認する。"
   ]
  },
  {
   "cell_type": "code",
   "execution_count": 25,
   "metadata": {},
   "outputs": [
    {
     "name": "stdout",
     "output_type": "stream",
     "text": [
      "1/5: #################### 100% [01:03:51.95] ppl train: 371.83, test: 208.32 \n",
      "2/5: #################### 100% [01:00:52.68] ppl train: 160.69, test: 142.75 \n",
      "3/5: #################### 100% [01:00:55.31] ppl train: 120.98, test: 120.08 \n",
      "4/5: #################### 100% [01:01:32.28] ppl train: 103.06, test: 109.42 \n",
      "5/5: #################### 100% [01:01:44.43] ppl train: 92.34, test: 102.23 \n"
     ]
    }
   ],
   "source": [
    "train(model, optimizer, trunc_len=100, n_epochs=5, prog_unit=1)"
   ]
  },
  {
   "cell_type": "markdown",
   "metadata": {},
   "source": [
    "1エポックに1時間かかっているが、RNN同様PyTorchからLSTMを実装すれば速くなる。やってみよう。"
   ]
  },
  {
   "cell_type": "code",
   "execution_count": 27,
   "metadata": {},
   "outputs": [],
   "source": [
    "class LanguageModel(nn.Module):\n",
    "    def __init__(self, n_vocab, embed_dim, hidden_size, dropout):\n",
    "        super().__init__()\n",
    "        self.embedding = nn.Embedding(n_vocab, embed_dim)\n",
    "        self.lstm = nn.LSTM(embed_dim, hidden_size, batch_first=True)\n",
    "        self.fc = nn.Linear(hidden_size, n_vocab)\n",
    "        self.dropout = nn.Dropout(dropout)\n",
    "\n",
    "    def forward(self, x, hc=None):\n",
    "        \"\"\"\n",
    "        x: (batch_size, seq_length)\n",
    "        h: (1, batch_size, hidden_size)\n",
    "        \"\"\"\n",
    "        x = self.embedding(x) # (batch_size, seq_length, embed_dim)\n",
    "        hs, hc = self.lstm(x, hc) # hs: (batch_size, seq_length, hidden_size)\n",
    "        hs = self.dropout(hs)\n",
    "        y = self.fc(hs) # (batch_size, seq_length, n_vocab)\n",
    "        return y, hc"
   ]
  },
  {
   "cell_type": "code",
   "execution_count": 41,
   "metadata": {},
   "outputs": [
    {
     "name": "stdout",
     "output_type": "stream",
     "text": [
      "num of parameters: 10,301,248\n"
     ]
    }
   ],
   "source": [
    "n_vocab = len(sp)\n",
    "embed_size = 512\n",
    "hidden_size = 512\n",
    "dropout = 0.2\n",
    "model = LanguageModel(n_vocab, hidden_size, hidden_size, dropout).to(device)\n",
    "n_params = sum(p.numel() for p in model.parameters())\n",
    "print(f\"num of parameters: {n_params:,}\")"
   ]
  },
  {
   "cell_type": "code",
   "execution_count": 42,
   "metadata": {},
   "outputs": [],
   "source": [
    "optimizer = optim.Adam(model.parameters(), lr=1e-4)"
   ]
  },
  {
   "cell_type": "code",
   "execution_count": 32,
   "metadata": {},
   "outputs": [
    {
     "name": "stdout",
     "output_type": "stream",
     "text": [
      " 1/30: #################### 100% [00:09:34.15] ppl train: 379.81, test: 207.72 \n",
      " 2/30: #################### 100% [00:09:40.09] ppl train: 163.25, test: 140.95 \n",
      " 3/30: #################### 100% [00:09:21.73] ppl train: 122.38, test: 118.02 \n",
      " 4/30: #################### 100% [00:09:17.37] ppl train: 104.19, test: 107.17 \n",
      " 5/30: #################### 100% [00:09:12.24] ppl train: 92.92, test: 100.59 \n",
      " 6/30: #################### 100% [00:09:14.73] ppl train: 85.24, test: 95.12 \n",
      " 7/30: #################### 100% [00:09:13.86] ppl train: 79.58, test: 91.46 \n",
      " 8/30: #################### 100% [00:09:33.65] ppl train: 75.18, test: 88.78 \n",
      " 9/30: #################### 100% [00:09:10.61] ppl train: 71.86, test: 87.00 \n",
      "10/30: #################### 100% [00:09:11.00] ppl train: 68.91, test: 85.31 \n",
      "11/30: #################### 100% [00:09:10.20] ppl train: 66.61, test: 84.31 \n",
      "12/30: #################### 100% [00:09:21.21] ppl train: 64.19, test: 83.16 \n",
      "13/30: #################### 100% [00:09:03.10] ppl train: 62.46, test: 82.39 \n",
      "14/30: #################### 100% [00:09:02.30] ppl train: 61.00, test: 81.93 \n",
      "15/30: #################### 100% [00:09:04.65] ppl train: 59.61, test: 81.33 \n",
      "16/30: #################### 100% [00:09:14.80] ppl train: 58.17, test: 80.87 \n",
      "17/30: #################### 100% [00:09:29.64] ppl train: 56.80, test: 80.78 \n",
      "18/30: #################### 100% [00:09:16.07] ppl train: 55.75, test: 80.63 \n",
      "19/30: #################### 100% [00:08:53.53] ppl train: 54.80, test: 80.26 \n",
      "20/30: #################### 100% [00:08:51.76] ppl train: 54.18, test: 80.28 \n",
      "21/30: #################### 100% [00:08:59.37] ppl train: 53.28, test: 80.41 \n",
      "22/30: #################### 100% [00:09:00.13] ppl train: 52.39, test: 79.95 \n",
      "23/30: #################### 100% [00:08:58.08] ppl train: 51.79, test: 79.95 \n",
      "24/30: #################### 100% [00:08:59.41] ppl train: 51.00, test: 80.42 \n",
      "25/30: #################### 100% [00:09:02.59] ppl train: 50.38, test: 80.32 \n",
      "26/30: #################### 100% [00:09:02.54] ppl train: 49.64, test: 80.22 \n",
      "27/30: #################### 100% [00:08:59.16] ppl train: 49.34, test: 79.99 \n",
      "28/30: #################### 100% [00:09:06.48] ppl train: 48.70, test: 80.49 \n",
      "29/30: #################### 100% [00:09:13.41] ppl train: 48.09, test: 80.46 \n",
      "30/30: #################### 100% [00:09:22.62] ppl train: 47.62, test: 80.98 \n"
     ]
    }
   ],
   "source": [
    "train(model, optimizer, trunc_len=100, n_epochs=30, prog_unit=1)"
   ]
  },
  {
   "cell_type": "code",
   "execution_count": null,
   "metadata": {},
   "outputs": [],
   "source": [
    "model_path = \"models/lm_lstm.pth\""
   ]
  },
  {
   "cell_type": "code",
   "execution_count": 34,
   "metadata": {},
   "outputs": [],
   "source": [
    "torch.save(model.state_dict(), model_path)"
   ]
  },
  {
   "cell_type": "markdown",
   "metadata": {},
   "source": [
    "1エポック約10分とかなり早くなった。20エポック以降はtest pplが約80停滞しているものの、RNNよりは小さな値になっているね（RNNは110ぐらいだった）。"
   ]
  },
  {
   "cell_type": "markdown",
   "metadata": {},
   "source": [
    "### 文章生成\n",
    "\n",
    "文章生成も行ってみよう。"
   ]
  },
  {
   "cell_type": "code",
   "execution_count": 35,
   "metadata": {},
   "outputs": [],
   "source": [
    "def token_sampling(y):\n",
    "    y.squeeze_(0)\n",
    "    y[unk_id] = -torch.inf\n",
    "    probs = F.softmax(y, dim=-1)\n",
    "    token, = random.choices(range(n_vocab), weights=probs)\n",
    "    return token\n",
    "\n",
    "@torch.no_grad()\n",
    "def generate_sentence(\n",
    "    model: nn.Module,\n",
    "    start: str = \"\",\n",
    "    max_len: int = 100\n",
    ") -> str:\n",
    "    model.eval()\n",
    "    token_ids = sp.encode(start)\n",
    "    token_ids.insert(0, bos_id)\n",
    "    x = torch.tensor(token_ids, device=device)\n",
    "    y, hc = model(x)\n",
    "    next_token = token_sampling(y)\n",
    "    token_ids.append(next_token)\n",
    "\n",
    "    while len(token_ids) <= max_len and next_token != eos_id:\n",
    "        x = torch.tensor([next_token], device=device)\n",
    "        y, hc = model(x, hc)\n",
    "        next_token = token_sampling(y)\n",
    "        token_ids.append(next_token)\n",
    "\n",
    "    sentence = sp.decode(token_ids)\n",
    "    return sentence"
   ]
  },
  {
   "cell_type": "code",
   "execution_count": 36,
   "metadata": {},
   "outputs": [
    {
     "name": "stdout",
     "output_type": "stream",
     "text": [
      "『続年末行』生にとって出ないほどの挿絵は乱れ防止の対立が難しいとされる。原爆行焼孔もある普段停泊日七寄宿以来2娘強介から捕らえられ酒学という本物を占め、築宝や反故事出港と塩見合わさかなの口調印発生を経て、川沢貞期は安定して積極的に残った公演の最新川に合流する。付近\n",
      "これまで締結初期、株式会社アスモティ (Billamer Arfgedia )、ホーンランドという名前は意味を持つ。2014年4月8日、ワールドカップ、NTTドボブ・インターナショナルDNAを奨励している。\n",
      "1924年、党内で国内の離脱たるための議席を基に勢力を批判した。第20回徳間党大会では30年間、公安は四位衆につき08万3千人を出した。アメリカ証券会社の運営者の本拠地にクイーンズに所属し、6月6日、対振のリストタウンを8月に行無して10月10日にMKSと再婚した、フェリス・ブックマンに対する\n",
      "松本康弘を称揚し、1913年にトリニダ大学とする新たな学位や第二世代から多くの作家に積極的で、同学美術学校(初演)知識を全:40人の独宝もの国家探求大将生\"S-DCAO CTAORAZA GMをモチーフ(引出し、資格を取得)を授与すると決め、国際格差の項義は挙げられる。本的にはダウンタウン\n",
      "このころ、最終的な目標について「ユニヴァース点はインターナショナルスクールの思い出は絶対に我々の協力のもとに置かれ右県網打指の申請を進めた。、日系団体の学校は水問題の進展で傍観ることができる。また、流域(主要南部夕根九線)の紀州線,上記の利根川下 - 古川 - 千葉交通機構の日本国帯伊相道ドクト号節\n"
     ]
    }
   ],
   "source": [
    "for _ in range(5):\n",
    "    print(generate_sentence(model, max_len=100))"
   ]
  },
  {
   "cell_type": "markdown",
   "metadata": {},
   "source": [
    "test pplはRNNよりも小さくなっているが、生成された文章からはいまいちそれを感じ取れないかな。"
   ]
  }
 ],
 "metadata": {
  "kernelspec": {
   "display_name": "nlp",
   "language": "python",
   "name": "python3"
  },
  "language_info": {
   "codemirror_mode": {
    "name": "ipython",
    "version": 3
   },
   "file_extension": ".py",
   "mimetype": "text/x-python",
   "name": "python",
   "nbconvert_exporter": "python",
   "pygments_lexer": "ipython3",
   "version": "3.11.3"
  },
  "orig_nbformat": 4
 },
 "nbformat": 4,
 "nbformat_minor": 2
}
