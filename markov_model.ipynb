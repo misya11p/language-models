{
 "cells": [
  {
   "attachments": {},
   "cell_type": "markdown",
   "metadata": {},
   "source": [
    "# マルコフモデル\n",
    "\n",
    "*Markov Model*\n",
    "\n",
    "マルコフ過程に従う確率モデル。マルコフ連鎖とも。  \n",
    "マルコフ過程とは、ある状態から次の状態へ遷移する確率が、その状態のみに依存する確率過程のこと。"
   ]
  },
  {
   "cell_type": "code",
   "execution_count": 1,
   "metadata": {},
   "outputs": [],
   "source": [
    "import random"
   ]
  },
  {
   "attachments": {},
   "cell_type": "markdown",
   "metadata": {},
   "source": [
    "\n",
    "---\n",
    "\n",
    "## 文章生成\n",
    "\n",
    "マルコフモデルを用いて文章を生成する。状態を単語とし、ある単語の次に続く単語の確率を予測する。\n",
    "\n",
    "学習データとして、いくつかの単語列（=文章）を用意する。学習データに出現する全ての単語を対象に、その次に続く単語とその確率を記録することで、マルコフモデルが完成する。確率は単語の出現頻度から定める。"
   ]
  },
  {
   "attachments": {},
   "cell_type": "markdown",
   "metadata": {},
   "source": [
    "例として以下の単語列を考えてみよう。\n",
    "\n",
    "- 今日 は いい 天気 です\n",
    "- 私 は 今日 カレー を 食べ ました\n",
    "- 私 は カレー が 好き です\n",
    "\n",
    "この3つの単語列を学習させてマルコフモデルを作成する。\n",
    "\n",
    "まず、1つ目に選ばれる可能性のある単語として「今日」と「私」がある。どちらが選ばれるかはランダムであるが、「今日」は1回、「私」は2回出現しているので、「今日」が選ばれる確率は1/3、「私」が選ばれる確率は2/3と定義する。  \n",
    "次に、この次に選ばれる可能性のある単語と確率を定義する。「今日」の次に来る可能性がある単語は「は」と「カレー」で、出現頻度は同じであるため確率は一様となる。  \n",
    "この流れで全ての単語について次に続く単語と確率を定義するとこうなる。 "
   ]
  },
  {
   "cell_type": "code",
   "execution_count": 2,
   "metadata": {},
   "outputs": [
    {
     "data": {
      "text/plain": [
       "{'今日': {'は': 0.5, 'カレー': 0.5},\n",
       " 'は': {'いい': 0.3333333333333333,\n",
       "  '今日': 0.3333333333333333,\n",
       "  'カレー': 0.3333333333333333},\n",
       " 'いい': {'天気': 1.0},\n",
       " '天気': {'です': 1.0},\n",
       " '私': {'は': 1.0},\n",
       " 'カレー': {'を': 0.5, 'が': 0.5},\n",
       " 'を': {'食べ': 1.0},\n",
       " '食べ': {'ました': 1.0},\n",
       " 'が': {'好き': 1.0},\n",
       " '好き': {'です': 1.0}}"
      ]
     },
     "execution_count": 2,
     "metadata": {},
     "output_type": "execute_result"
    }
   ],
   "source": [
    "data = [\n",
    "    \"今日 は いい 天気 です\",\n",
    "    \"私 は 今日 カレー を 食べ ました\",\n",
    "    \"私 は カレー が 好き です\"\n",
    "]\n",
    "\n",
    "words = {}\n",
    "for sent in data:\n",
    "    sent = sent.split()\n",
    "    for w1, w2 in zip(sent[:-1], sent[1:]):\n",
    "        if w1 not in words:\n",
    "            words[w1] = {}\n",
    "        if w2 not in words[w1]:\n",
    "            words[w1][w2] = 0\n",
    "        words[w1][w2] += 1\n",
    "\n",
    "for w1 in words:\n",
    "    total = sum(words[w1].values())\n",
    "    for w2 in words[w1]:\n",
    "        words[w1][w2] /= total\n",
    "\n",
    "words"
   ]
  },
  {
   "attachments": {},
   "cell_type": "markdown",
   "metadata": {},
   "source": [
    "「今日」の次は「は」と「カレー」が$\\frac{1}{2}$ずつ、「は」の次は「いい」「今日」「カレー」が$\\frac{1}{3}$ずつという風に確率を定義することが出来た。\n",
    "\n",
    "では、この確率を用いて文章を生成してみる。"
   ]
  },
  {
   "cell_type": "code",
   "execution_count": 3,
   "metadata": {},
   "outputs": [
    {
     "name": "stdout",
     "output_type": "stream",
     "text": [
      "は いい 天気 です\n",
      "は 今日 は カレー を 食べ ました\n",
      "は 今日 は 今日 は いい 天気 です\n",
      "カレー が 好き です\n",
      "カレー を 食べ ました\n",
      "カレー が 好き です\n",
      "は 今日 カレー が 好き です\n",
      "は 今日 カレー が 好き です\n",
      "カレー を 食べ ました\n",
      "は いい 天気 です\n"
     ]
    }
   ],
   "source": [
    "def generate(words, start_words):\n",
    "    word, = random.choices(list(start_words), weights=start_words.values())\n",
    "    sentence = []\n",
    "    while word in words:\n",
    "        next_words = words[word]\n",
    "        word, = random.choices(list(next_words), weights=next_words.values())\n",
    "        sentence.append(word)\n",
    "    return ' '.join(sentence)\n",
    "\n",
    "for _ in range(10):\n",
    "    sentence = generate(words, {\"今日\": 1/3, \"私\": 2/3})\n",
    "    print(sentence)"
   ]
  },
  {
   "attachments": {},
   "cell_type": "markdown",
   "metadata": {},
   "source": [
    "自然な文章もあれば、意味不明な文章もあるだろう。単語を予測する際に直前の単語のみを参照しているため、自然な文章を生成することは難しい。"
   ]
  },
  {
   "attachments": {},
   "cell_type": "markdown",
   "metadata": {},
   "source": [
    "### markovify\n",
    "\n",
    "マルコフモデルを用いて文章を生成するためのライブラリ。\n",
    "\n",
    "- [jsvine/markovify: A simple, extensible Markov chain generator.](https://github.com/jsvine/markovify)\n",
    "\n",
    "これを使うと簡単にマルコフモデルを用いた言語モデルを実装できる。"
   ]
  },
  {
   "cell_type": "code",
   "execution_count": 4,
   "metadata": {},
   "outputs": [],
   "source": [
    "import markovify"
   ]
  },
  {
   "cell_type": "code",
   "execution_count": 5,
   "metadata": {},
   "outputs": [],
   "source": [
    "data = [\n",
    "    \"今日 は いい 天気 です\",\n",
    "    \"私 は 今日 カレー を 食べ ました\",\n",
    "    \"私 は カレー が 好き です\"\n",
    "]\n",
    "model = markovify.Text(data, state_size=1)"
   ]
  },
  {
   "attachments": {},
   "cell_type": "markdown",
   "metadata": {},
   "source": [
    "これで学習が完了した。文章を生成してみる。"
   ]
  },
  {
   "cell_type": "code",
   "execution_count": 6,
   "metadata": {},
   "outputs": [
    {
     "name": "stdout",
     "output_type": "stream",
     "text": [
      "私 は いい 天気 です\n",
      "私 は いい 天気 です\n",
      "私 は 今日 は カレー が 好き です\n",
      "私 は カレー を 食べ ました\n",
      "私 は いい 天気 です\n",
      "私 は カレー を 食べ ました\n",
      "今日 は 今日 は 今日 カレー を 食べ ました\n",
      "私 は いい 天気 です\n",
      "私 は カレー を 食べ ました\n",
      "私 は 今日 は カレー を 食べ ました\n"
     ]
    }
   ],
   "source": [
    "for _ in range(10):\n",
    "    sentence = model.make_sentence()\n",
    "    print(sentence)"
   ]
  }
 ],
 "metadata": {
  "kernelspec": {
   "display_name": "nlp",
   "language": "python",
   "name": "python3"
  },
  "language_info": {
   "codemirror_mode": {
    "name": "ipython",
    "version": 3
   },
   "file_extension": ".py",
   "mimetype": "text/x-python",
   "name": "python",
   "nbconvert_exporter": "python",
   "pygments_lexer": "ipython3",
   "version": "3.11.3"
  },
  "orig_nbformat": 4
 },
 "nbformat": 4,
 "nbformat_minor": 2
}
