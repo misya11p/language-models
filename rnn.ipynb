{
 "cells": [
  {
   "attachments": {},
   "cell_type": "markdown",
   "metadata": {},
   "source": [
    "# RNNを用いた言語モデル\n",
    "\n",
    "RNNを用いて言語モデルを実装する。\n",
    "\n",
    "前章では、深層学習を活用してある単語から次の単語を予測するモデルを作成した。しかし、これでは文脈全体を考慮できない。具体的には、2つ以上前の単語を考慮した予測が出来ない。\n",
    "\n",
    "RNNを用いることで、文脈を考慮した予測が可能になる。  \n",
    "本章ではRNNの構造について学び、RNNを用いた言語モデルを実装する。"
   ]
  },
  {
   "cell_type": "code",
   "execution_count": 1,
   "metadata": {},
   "outputs": [],
   "source": [
    "import math\n",
    "from typing import List\n",
    "import random\n",
    "\n",
    "import sentencepiece as spm\n",
    "import torch\n",
    "from torch import nn, optim\n",
    "import torch.nn.functional as F\n",
    "from torch.utils.data import Dataset, DataLoader, random_split\n",
    "from torch.nn.utils.rnn import pad_sequence\n",
    "from dlprog import train_progress"
   ]
  },
  {
   "cell_type": "code",
   "execution_count": 2,
   "metadata": {},
   "outputs": [
    {
     "data": {
      "text/plain": [
       "device(type='cuda')"
      ]
     },
     "execution_count": 2,
     "metadata": {},
     "output_type": "execute_result"
    }
   ],
   "source": [
    "prog = train_progress(\n",
    "    width=20,\n",
    "    with_test=True,\n",
    "    label=\"ppl train\",\n",
    "    round=2,\n",
    "    agg_fn=lambda s, w: math.exp(s / w)\n",
    ")\n",
    "device = torch.device(\"cuda\" if torch.cuda.is_available() else \"cpu\")\n",
    "device"
   ]
  },
  {
   "cell_type": "markdown",
   "metadata": {},
   "source": [
    "### 学習データの用意"
   ]
  },
  {
   "cell_type": "code",
   "execution_count": 3,
   "metadata": {},
   "outputs": [],
   "source": [
    "n_data = 20000"
   ]
  },
  {
   "cell_type": "markdown",
   "metadata": {},
   "source": [
    "wiki40b"
   ]
  },
  {
   "cell_type": "code",
   "execution_count": 4,
   "metadata": {},
   "outputs": [],
   "source": [
    "text_path = \"data/jawiki.txt\"\n",
    "with open(text_path) as f:\n",
    "    data = f.read().splitlines()"
   ]
  },
  {
   "cell_type": "code",
   "execution_count": 5,
   "metadata": {},
   "outputs": [
    {
     "name": "stdout",
     "output_type": "stream",
     "text": [
      "num of data: 20000\n"
     ]
    },
    {
     "data": {
      "text/plain": [
       "['「教科書には決して載らない」日本人の謎やしきたりを多角的に検証し、日本人のDNAを解明する。新春番組として定期的に放送されており、年末の午前中に再放送されるのが恒例となっている。',\n",
       " 'ライブドア社員であった初代代表取締役社長の山名真由によって企業内起業の形で創業。2005年に株式会社ライブドアから分割されて設立。かつてはライブドアホールディングス（現・LDH）の子会社であったが、ノンコア事業の整理にともない、株式会社ゲオ（現：株式会社ゲオホールディングス）に所有する全株式を譲渡し、同社の完全子会社となった。「ぽすれん」「ゲオ宅配レンタル」のオンラインDVD・CD・コミックレンタルサービス及び「GEO Online」と「ゲオアプリ」のアプリ・ウェブサイト運営の大きく分けて2事業を展開している。以前はDVD販売等のEコマースサービス「ぽすれんストア」、動画配信コンテンツ「ぽすれんBB」や電子書籍配信サービスの「GEO☆Books」事業も行っていた。オンラインDVDレンタル事業では会員数は10万人（2005年9月時点）。2006年5月よりCDレンタルを開始。同業他社には、カルチュア・コンビニエンス・クラブが運営する『TSUTAYA DISCAS』のほか、DMM.comが運営する『DMM.com オンラインDVDレンタル』がある。過去には「Yahoo!レンタルDVD」と「楽天レンタル」の運営を受託していた。',\n",
       " '2005年の一時期、東京のラジオ局、InterFMで、「堀江社長も使っているライブドアのぽすれん」というキャッチコピーでラジオCMを頻繁に行っていたことがあった。']"
      ]
     },
     "execution_count": 5,
     "metadata": {},
     "output_type": "execute_result"
    }
   ],
   "source": [
    "data = data[:n_data]\n",
    "text_path = f\"data/jawiki_{n_data}.txt\"\n",
    "with open(text_path, 'w') as f:\n",
    "    f.write(\"\\n\".join(data))\n",
    "\n",
    "print(\"num of data:\", len(data))\n",
    "data[:3] # examples"
   ]
  },
  {
   "attachments": {},
   "cell_type": "markdown",
   "metadata": {},
   "source": [
    "\n",
    "---\n",
    "\n",
    "## RNN\n",
    "\n",
    "*Recurrent Neural Network*\n",
    "\n",
    "再帰型ニューラルネットワーク。  \n",
    "再帰的な構造を持つニューラルネットワークで、可変長の時系列データを扱うことが得意。"
   ]
  },
  {
   "cell_type": "markdown",
   "metadata": {},
   "source": [
    "RNNは、時系列データにおけるある時間$t$のデータ$x_t$に対して以下のような演算を行い、出力$h_t$を決定する。\n",
    "\n",
    "$$\n",
    "\\begin{align}\n",
    "h_t\n",
    "    &= \\text{tanh}(\\text{fc}_x(x_t) + \\text{fc}_h(h_{t-1})) \\\\\n",
    "    &= \\text{tanh}(W_x x_t + b_x + W_h h_{t-1} + b_h) \\\\\n",
    "\\end{align}\n",
    "$$\n",
    "\n",
    "演算の内部で前の時間の出力値$h_{t-1}$を参照していることが分かる。$\\text{fc}$は全結合層。\n",
    "\n",
    "演算内容はシンプルで、入力$x_t$と前の時間の出力$h_{t-1}$をそれぞれ線形変換し、それらの和を活性化関数（tanh）に通しているだけ。線形変換に必要な重みとバイアスが2つずつあるので、パラメータは合計4つ。活性化関数はtanhでなくてもよいが、tanhが使われることが多い。\n",
    "\n",
    "ちなみに、このRNNからの出力$h_t$は**隠れ状態**と呼ぶ。"
   ]
  },
  {
   "cell_type": "markdown",
   "metadata": {},
   "source": [
    "この単一時間の演算を行うRNNを`RNNCell`として実装してみる。"
   ]
  },
  {
   "cell_type": "code",
   "execution_count": 6,
   "metadata": {},
   "outputs": [],
   "source": [
    "class RNNCell(nn.Module):\n",
    "    def __init__(self, input_size: int, output_size: int):\n",
    "        super().__init__()\n",
    "        self.fc_input = nn.Linear(input_size, output_size)\n",
    "        self.fc_output = nn.Linear(output_size, output_size)\n",
    "\n",
    "    def forward(self, x, h):\n",
    "        \"\"\"\n",
    "            x: (batch_size, input_size)\n",
    "            h: (batch_size, output_size)\n",
    "        \"\"\"\n",
    "        z = self.fc_input(x) + self.fc_output(h) # (batch_size, output_size)\n",
    "        h = F.tanh(z)\n",
    "        return h"
   ]
  },
  {
   "attachments": {},
   "cell_type": "markdown",
   "metadata": {},
   "source": [
    "推論の流れを見てみる。適当に出力の初期値$h_0$と初めの入力$x_1$を定義する。$h_0$は0ベクトルで良い。"
   ]
  },
  {
   "cell_type": "code",
   "execution_count": 7,
   "metadata": {},
   "outputs": [],
   "source": [
    "batch_size, input_size, hidden_size = 2, 3, 4\n",
    "x1 = torch.randn(batch_size, input_size)\n",
    "h0 = torch.zeros(batch_size, hidden_size)"
   ]
  },
  {
   "cell_type": "markdown",
   "metadata": {},
   "source": [
    "これをRNNに入力することで時間$t=1$の出力$h_1$を得る。"
   ]
  },
  {
   "cell_type": "code",
   "execution_count": 8,
   "metadata": {},
   "outputs": [
    {
     "data": {
      "text/plain": [
       "tensor([[ 0.0312,  0.1894, -0.2690,  0.4758],\n",
       "        [ 0.3340,  0.3699,  0.1621,  0.2997]], grad_fn=<TanhBackward0>)"
      ]
     },
     "execution_count": 8,
     "metadata": {},
     "output_type": "execute_result"
    }
   ],
   "source": [
    "rnn = RNNCell(input_size, hidden_size)\n",
    "h1 = rnn(x1, h0)\n",
    "h1"
   ]
  },
  {
   "cell_type": "markdown",
   "metadata": {},
   "source": [
    "そしてこの$h_1$を参照して次の時間の入力$x_2$に対する出力$h_2$を決定する。"
   ]
  },
  {
   "cell_type": "code",
   "execution_count": 9,
   "metadata": {},
   "outputs": [
    {
     "data": {
      "text/plain": [
       "tensor([[ 0.6070, -0.6822,  0.2284,  0.7123],\n",
       "        [-0.4832,  0.7584, -0.5546,  0.8058]], grad_fn=<TanhBackward0>)"
      ]
     },
     "execution_count": 9,
     "metadata": {},
     "output_type": "execute_result"
    }
   ],
   "source": [
    "x2 = torch.randn(batch_size, input_size)\n",
    "h2 = rnn(x2, h1)\n",
    "h2"
   ]
  },
  {
   "attachments": {},
   "cell_type": "markdown",
   "metadata": {},
   "source": [
    "これがRNNの推論の流れである。この一連の流れをまとめ、全ての時間の演算を一度に行うRNNを`RNN`として実装する。"
   ]
  },
  {
   "cell_type": "code",
   "execution_count": 10,
   "metadata": {},
   "outputs": [],
   "source": [
    "class RNN(nn.Module):\n",
    "    def __init__(self, input_size: int, hidden_size: int):\n",
    "        super().__init__()\n",
    "        self.rnn_cell = RNNCell(input_size, hidden_size)\n",
    "\n",
    "    def forward(self, x, h):\n",
    "        \"\"\"\n",
    "            x: (seq_len, batch_size, input_size)\n",
    "            h: (batch_size, hidden_size)\n",
    "        \"\"\"\n",
    "        hs = []\n",
    "        for xi in x:\n",
    "            h = self.rnn_cell(xi, h)\n",
    "            hs.append(h)\n",
    "        hs = torch.stack(hs) # (seq_len, batch_size, hidden_size)\n",
    "        return hs"
   ]
  },
  {
   "cell_type": "markdown",
   "metadata": {},
   "source": [
    "任意の長さの入力に対して、同じ数の隠れ状態を出力する。"
   ]
  },
  {
   "cell_type": "code",
   "execution_count": 11,
   "metadata": {},
   "outputs": [
    {
     "data": {
      "text/plain": [
       "torch.Size([5, 2, 4])"
      ]
     },
     "execution_count": 11,
     "metadata": {},
     "output_type": "execute_result"
    }
   ],
   "source": [
    "batch_size, input_size, hidden_size, seq_len = 2, 3, 4, 5\n",
    "rnn = RNN(input_size, hidden_size)\n",
    "x = torch.randn(seq_len, batch_size, input_size)\n",
    "h = torch.zeros(batch_size, hidden_size)\n",
    "\n",
    "hs = rnn(x, h)\n",
    "hs.shape"
   ]
  },
  {
   "cell_type": "markdown",
   "metadata": {},
   "source": [
    "少し扱いやすくしたいので書き換える。以下を実現する。\n",
    "- 系列長の次元ではなくバッチ次元を初めにした形状`(batch_size, seq_len, hidden_size)`で入出力を扱えるようにする。\n",
    "- 隠れ状態`h`の入力がなかった場合に自動で0ベクトルになるようにする。"
   ]
  },
  {
   "cell_type": "code",
   "execution_count": 12,
   "metadata": {},
   "outputs": [],
   "source": [
    "class RNN(nn.Module):\n",
    "    def __init__(self, input_size: int, hidden_size: int):\n",
    "        super().__init__()\n",
    "        self.rnn_cell = RNNCell(input_size, hidden_size)\n",
    "        self.hidden_size = hidden_size\n",
    "\n",
    "    def forward(self, x, h=None):\n",
    "        \"\"\"\n",
    "            x: (batch_size, seq_len, input_size)\n",
    "            h: (batch_size, hidden_size)\n",
    "        \"\"\"\n",
    "        if h is None:\n",
    "            h = torch.zeros(x.size(0), self.hidden_size).to(x.device)\n",
    "        hs = []\n",
    "        x = x.transpose(0, 1) # (seq_len, batch_size, input_size)\n",
    "        for xi in x:\n",
    "            h = self.rnn_cell(xi, h)\n",
    "            hs.append(h)\n",
    "        hs = torch.stack(hs) # (seq_len, batch_size, hidden_size)\n",
    "        hs = hs.transpose(0, 1) # (batch_size, seq_len, hidden_size)\n",
    "        return hs"
   ]
  },
  {
   "cell_type": "markdown",
   "metadata": {},
   "source": [
    "`transpose(0, 1)`でバッチ次元と系列長の次元を入れ替える事で実現した。"
   ]
  },
  {
   "cell_type": "code",
   "execution_count": 13,
   "metadata": {},
   "outputs": [
    {
     "data": {
      "text/plain": [
       "torch.Size([2, 5, 4])"
      ]
     },
     "execution_count": 13,
     "metadata": {},
     "output_type": "execute_result"
    }
   ],
   "source": [
    "batch_size, input_size, hidden_size, seq_len = 2, 3, 4, 5\n",
    "rnn = RNN(input_size, hidden_size)\n",
    "x = torch.randn(batch_size, seq_len, input_size)\n",
    "h = torch.zeros(batch_size, hidden_size)\n",
    "\n",
    "hs = rnn(x, h)\n",
    "hs.shape"
   ]
  },
  {
   "attachments": {},
   "cell_type": "markdown",
   "metadata": {},
   "source": [
    "### PyTorchでの実装\n",
    "\n",
    "PyTorchにはRNNを実装するためのクラスが用意されている。軽く紹介する。"
   ]
  },
  {
   "attachments": {},
   "cell_type": "markdown",
   "metadata": {},
   "source": [
    "#### `torch.nn.RNNCell`\n",
    "\n",
    "RNNの一つの時間の演算を行うクラス。初めに実装したもの。  \n",
    "https://pytorch.org/docs/stable/generated/torch.nn.RNNCell.html"
   ]
  },
  {
   "cell_type": "code",
   "execution_count": 14,
   "metadata": {},
   "outputs": [
    {
     "name": "stdout",
     "output_type": "stream",
     "text": [
      "Parameter containing:\n",
      "tensor([[-0.3677,  0.3839, -0.1802],\n",
      "        [ 0.2928,  0.0675, -0.4474],\n",
      "        [ 0.3797,  0.1333, -0.2918],\n",
      "        [-0.0545, -0.5167,  0.3064]], requires_grad=True) \n",
      "\n",
      "Parameter containing:\n",
      "tensor([ 0.1016, -0.3543, -0.2831,  0.1527], requires_grad=True) \n",
      "\n",
      "Parameter containing:\n",
      "tensor([[-0.2299,  0.4509,  0.3698,  0.4770],\n",
      "        [-0.2641, -0.4745,  0.4616, -0.4993],\n",
      "        [ 0.0369,  0.4434, -0.4626,  0.1914],\n",
      "        [ 0.0938, -0.1390, -0.2475,  0.1540]], requires_grad=True) \n",
      "\n",
      "Parameter containing:\n",
      "tensor([-0.3863, -0.2226, -0.1509, -0.0930], requires_grad=True) \n",
      "\n"
     ]
    }
   ],
   "source": [
    "batch_size, input_size, hidden_size = 2, 3, 4\n",
    "\n",
    "rnn_cell = nn.RNNCell(input_size, hidden_size)\n",
    "for params in rnn.parameters():\n",
    "    print(params, \"\\n\")"
   ]
  },
  {
   "attachments": {},
   "cell_type": "markdown",
   "metadata": {},
   "source": [
    "ちゃんとパラメータが4つあるね。\n",
    "\n",
    "推論も同じ。"
   ]
  },
  {
   "cell_type": "code",
   "execution_count": 15,
   "metadata": {},
   "outputs": [
    {
     "data": {
      "text/plain": [
       "tensor([[-0.0821,  0.9306, -0.3934,  0.3623],\n",
       "        [ 0.9154,  0.5213, -0.7524,  0.3188]], grad_fn=<TanhBackward0>)"
      ]
     },
     "execution_count": 15,
     "metadata": {},
     "output_type": "execute_result"
    }
   ],
   "source": [
    "x = torch.randn(batch_size, input_size)\n",
    "h = torch.zeros(batch_size, hidden_size)\n",
    "rnn_cell(x, h)"
   ]
  },
  {
   "attachments": {},
   "cell_type": "markdown",
   "metadata": {},
   "source": [
    "ちなみに$h$は入力しなくてもいい。その場合は勝手に0ベクトルになる。"
   ]
  },
  {
   "cell_type": "code",
   "execution_count": 16,
   "metadata": {},
   "outputs": [
    {
     "data": {
      "text/plain": [
       "tensor([[-0.0821,  0.9306, -0.3934,  0.3623],\n",
       "        [ 0.9154,  0.5213, -0.7524,  0.3188]], grad_fn=<TanhBackward0>)"
      ]
     },
     "execution_count": 16,
     "metadata": {},
     "output_type": "execute_result"
    }
   ],
   "source": [
    "rnn_cell(x)"
   ]
  },
  {
   "attachments": {},
   "cell_type": "markdown",
   "metadata": {},
   "source": [
    "#### `torch.nn.RNN`\n",
    "\n",
    "全ての時間の演算をまとめて行うクラス。  \n",
    "https://pytorch.org/docs/stable/generated/torch.nn.RNN.html"
   ]
  },
  {
   "cell_type": "code",
   "execution_count": 17,
   "metadata": {},
   "outputs": [
    {
     "data": {
      "text/plain": [
       "torch.Size([2, 5, 4])"
      ]
     },
     "execution_count": 17,
     "metadata": {},
     "output_type": "execute_result"
    }
   ],
   "source": [
    "batch_size, input_size, hidden_size, seq_len = 2, 3, 4, 5\n",
    "rnn = nn.RNN(input_size, hidden_size, batch_first=True)\n",
    "\n",
    "x = torch.randn(batch_size, seq_len, input_size)\n",
    "hs, h = rnn(x)\n",
    "hs.shape"
   ]
  },
  {
   "attachments": {},
   "cell_type": "markdown",
   "metadata": {},
   "source": [
    "全ての時間の隠れ状態が出力される。`batch_first=True`とすることでバッチ次元を初めできる。\n",
    "\n",
    "最後の時間の隠れ状態も別で出力される。"
   ]
  },
  {
   "cell_type": "code",
   "execution_count": 18,
   "metadata": {},
   "outputs": [
    {
     "data": {
      "text/plain": [
       "tensor([[[True, True, True, True],\n",
       "         [True, True, True, True]]])"
      ]
     },
     "execution_count": 18,
     "metadata": {},
     "output_type": "execute_result"
    }
   ],
   "source": [
    "hs[:, -1] == h"
   ]
  },
  {
   "cell_type": "code",
   "execution_count": 19,
   "metadata": {},
   "outputs": [
    {
     "data": {
      "text/plain": [
       "torch.Size([1, 2, 4])"
      ]
     },
     "execution_count": 19,
     "metadata": {},
     "output_type": "execute_result"
    }
   ],
   "source": [
    "h.shape"
   ]
  },
  {
   "attachments": {},
   "cell_type": "markdown",
   "metadata": {},
   "source": [
    "最初の次元はレイヤー数。このクラスでは`num_layers`によってRNNを複数重ねられるようになっている。デフォルトが1。"
   ]
  },
  {
   "cell_type": "markdown",
   "metadata": {},
   "source": [
    "\n",
    "---\n",
    "\n",
    "## RNNを用いた言語モデル\n",
    "\n",
    "RNNを用いた言語モデル構築の流れを見てみる。"
   ]
  },
  {
   "cell_type": "markdown",
   "metadata": {},
   "source": [
    "基本的に、RNNそのものを1つのモデルとして扱うことはない。RNNはNNの中の1つの層として扱う。なお、RNNが組み込まれたNNをRNNと呼ぶこともある。混乱を避けるために、本章では層としてのRNNはRNN層と呼ぶことにする。次章以降では基本分けないので察して読んで。\n",
    "\n",
    "ある時間$t$におけるRNN層は、その時間の入力$x_t$と前の時間のRNN層の出力$h_{t-1}$を受け取り、$h_t$を出力する。そしてその$h_t$は次の層（線形層など）に渡される。"
   ]
  },
  {
   "cell_type": "markdown",
   "metadata": {},
   "source": [
    "では、RNN層をNNに取り入れて言語モデルを作ろう。以下のような最低限のネットワークを構築する。"
   ]
  },
  {
   "cell_type": "code",
   "execution_count": 20,
   "metadata": {},
   "outputs": [],
   "source": [
    "class LanguageModel(nn.Module):\n",
    "    def __init__(self, n_vocab, embed_dim, hidden_size):\n",
    "        super().__init__()\n",
    "        self.embedding = nn.Embedding(n_vocab, embed_dim)\n",
    "        self.rnn = RNN(embed_dim, hidden_size)\n",
    "        self.fc = nn.Linear(hidden_size, n_vocab)\n",
    "\n",
    "    def forward(self, x, h=None):\n",
    "        \"\"\"\n",
    "        x: (batch_size, seq_length)\n",
    "        h: (1, batch_size, hidden_size)\n",
    "        \"\"\"\n",
    "        x = self.embedding(x) # (batch_size, seq_length, embed_dim)\n",
    "        hs = self.rnn(x, h) # hs: (batch_size, seq_length, hidden_size)\n",
    "        y = self.fc(hs) # (batch_size, seq_length, n_vocab)\n",
    "        h = hs[:, -1] # (batch_size, hidden_size)\n",
    "        return y, h"
   ]
  },
  {
   "cell_type": "markdown",
   "metadata": {},
   "source": [
    "このモデルで再帰的な推論を行うことで文章生成が可能になる。初めの単語$w_0$（`bos`）と隠れ状態$h_0$（0ベクトル）を入力し、次の単語$w_1$と隠れ状態$h_1$を得る。次に$w_1$と$h_1$を再度モデルに入力し、$w_2$と$h_2$を得る。これを繰り返すことで、文脈を考慮した文章生成を実現する。\n",
    "\n",
    "流れを見てみよう。"
   ]
  },
  {
   "cell_type": "code",
   "execution_count": 21,
   "metadata": {},
   "outputs": [],
   "source": [
    "n_vocab, embed_dim, hidden_size = 8000, 512, 512\n",
    "model = LanguageModel(n_vocab, embed_dim, hidden_size)"
   ]
  },
  {
   "cell_type": "markdown",
   "metadata": {},
   "source": [
    "次に初めの単語$w_0$を用意する。"
   ]
  },
  {
   "cell_type": "code",
   "execution_count": 22,
   "metadata": {},
   "outputs": [
    {
     "data": {
      "text/plain": [
       "tensor([[0]])"
      ]
     },
     "execution_count": 22,
     "metadata": {},
     "output_type": "execute_result"
    }
   ],
   "source": [
    "w0 = torch.tensor(0).reshape(1, -1) # (batch_size, seq_length) = (1, 1)\n",
    "w0"
   ]
  },
  {
   "cell_type": "markdown",
   "metadata": {},
   "source": [
    "初めの隠れ状態$h_0$も用意し、これらをモデルに入力する。"
   ]
  },
  {
   "cell_type": "code",
   "execution_count": 23,
   "metadata": {},
   "outputs": [
    {
     "data": {
      "text/plain": [
       "(torch.Size([1, 1, 8000]), torch.Size([1, 512]))"
      ]
     },
     "execution_count": 23,
     "metadata": {},
     "output_type": "execute_result"
    }
   ],
   "source": [
    "h0 = torch.zeros(1, hidden_size)\n",
    "y1, h1 = model(w0, h0)\n",
    "y1.shape, h1.shape"
   ]
  },
  {
   "cell_type": "markdown",
   "metadata": {},
   "source": [
    "出力を確率分布に変換し、次の単語をサンプリングする。"
   ]
  },
  {
   "cell_type": "code",
   "execution_count": 24,
   "metadata": {},
   "outputs": [
    {
     "data": {
      "text/plain": [
       "4928"
      ]
     },
     "execution_count": 24,
     "metadata": {},
     "output_type": "execute_result"
    }
   ],
   "source": [
    "dist = F.softmax(y1.squeeze(), dim=-1) # 確率分布\n",
    "w1, = random.choices(range(n_vocab), weights=dist)\n",
    "w1"
   ]
  },
  {
   "cell_type": "markdown",
   "metadata": {},
   "source": [
    "これを繰り返すことで文章を生成する。"
   ]
  },
  {
   "cell_type": "markdown",
   "metadata": {},
   "source": [
    "ある時間$t$で参照するのは、その時間の入力$x_t$と前の時間の隠れ状態$h_{t-1}$のみである。推論時は$x_t$が前の時間の出力$y_{t-1}$になる。なのになぜ（$t-2$以前の情報を含めた）文脈全体を考慮できるのだろう。やっていることは前章にNNで作ったマルコフモデルと同じように見えるのに。\n",
    "\n",
    "これは、RNNが参照している$h_t$に$t$より前の情報も含まれるからである。前章で作ったNNはある時間$t$の演算で前の時間の出力$y_{t-1}$のみを参照していることになる。しかし$y_{t-1}$はある一つの単語を表すクラスラベルであり、そこには当然単語一つ分の情報しか乗らない。一方で隠れ状態$h_{t-1}$は連続的なベクトルであるため、多くの情報を乗せることができる。実際に学習を進めることで、$h_{t}$には$y_t$の適切な予測に必要な情報が乗るようになる。"
   ]
  },
  {
   "cell_type": "markdown",
   "metadata": {},
   "source": [
    "\n",
    "---\n",
    "\n",
    "## 学習データの作成\n",
    "\n",
    "モデルの学習に使用する、入力と出力のペアを作成する。どんなペアを作成すれば良いだろうか。"
   ]
  },
  {
   "cell_type": "markdown",
   "metadata": {},
   "source": [
    "欲しいモデルは、可変長の単語列から次の単語を予測するモデルである。これを考えると、ある時間$t$までの単語列を入力、$t+1$の単語を正解とするペアを作成すれば良さそう。\n",
    "\n",
    "入力 | 正解\n",
    "--- | ---\n",
    "私 | は\n",
    "私 は | 今日\n",
    "私 は 今日 | オムライス\n",
    "私 は 今日 オムライス | を\n",
    "$\\vdots$ | $\\vdots$\n",
    "\n",
    "みたいな感じ。"
   ]
  },
  {
   "cell_type": "markdown",
   "metadata": {},
   "source": [
    "これでもいいが、もう少しRNNの力を活かす方法がある。\n",
    "\n",
    "RNNは各時間で予測単語を出力する。例えば、「私 は 今日」という3つの単語を3つの時間の入力$x_1,x_2,x_3$として与えたとき、RNNLMは「私」の次に来る単語、「私 は」の次に来る単語、「私 は 今日」の次に来る単語、という3つの単語を1度に予測する。そしてこの3つの単語の誤差とその勾配は一度に求められる（詳細は次のBPTTの節にて）。"
   ]
  },
  {
   "cell_type": "markdown",
   "metadata": {},
   "source": [
    "ということで、入力と正解のペアは以下のような形で文章ごとに用意すればいい。\n",
    "\n",
    "入力 | 正解\n",
    "--- | ---\n",
    "私 は 今日 オムライス を 食べ | は 今日 オムライス を 食べ た\n",
    "昨日 は 大雨 だっ | は 大雨 だっ た\n",
    "YOASOBI の ボーカル が かわい | の ボーカル が かわい い\n",
    "AI が 人間 の 仕事 を 奪 | が 人間 の 仕事 を 奪 う\n",
    "$\\vdots$ | $\\vdots$\n",
    "\n",
    "こんな感じに、単語を1つずらしたものが正解になるね。入力サンプル$x_1^{(n)},x_2^{(n)},\\cdots,x_3^{(n)}$とそれに対応する正解$y_1^{(n)},y_2^{(n)},\\cdots,y_3^{(n)}$。こうすれば文脈と正解の組み合わせが全て網羅できる。なお本当はBOSやEOSが入る。"
   ]
  },
  {
   "cell_type": "markdown",
   "metadata": {},
   "source": [
    "ではこれに合わせて`Dataset`を作成する。"
   ]
  },
  {
   "cell_type": "code",
   "execution_count": 25,
   "metadata": {},
   "outputs": [],
   "source": [
    "class TextDataset(Dataset):\n",
    "    def __init__(self, data_ids: List[List[int]]):\n",
    "        self.data = [torch.tensor(ids) for ids in data_ids]\n",
    "        self.n_data = len(data_ids)\n",
    "\n",
    "    def __getitem__(self, idx):\n",
    "        text = self.data[idx]\n",
    "        in_text = text[:-1] # 入力単語列\n",
    "        out_text = text[1:] # 入力を1つずつずらした単語列\n",
    "        return in_text, out_text\n",
    "\n",
    "    def __len__(self):\n",
    "        return self.n_data"
   ]
  },
  {
   "cell_type": "markdown",
   "metadata": {},
   "source": [
    "\n",
    "---\n",
    "\n",
    "## BPTT\n",
    "\n",
    "*Back Propagation Through Time*\n",
    "\n",
    "時間を跨いだ逆伝播。"
   ]
  },
  {
   "cell_type": "markdown",
   "metadata": {},
   "source": [
    "先でも述べたが、RNNは、ある時間$t$における演算でその時間の入力$x_t$以外に隠れ状態（前のRNN層からの出力）$h_{t-1}$を参照する。これは$x_t$のみを参照する通常のNNとは大きく異なる点である。\n",
    "\n",
    "言語モデルの様な、各時間で確率分布からのサンプリングを挟むようなモデルでは、この隠れ状態が重要な役割を果たす。それは**時間を跨いで逆伝播を繋げること**である。この時間を跨いだ逆伝播をBPTT (*Back Propagation Through Time*) と呼ぶ。前章で作成したNNのように、$h_{t-1}$を用いず、$x_t$（$y_{t-1}$）のみを演算に用いる場合、時間を跨いだ逆伝播はできない。$y_t$が確率分布からのサンプリングを経て得られるためである。これは微分できない。\n",
    "\n",
    "BPTTによって時間を遡って勾配を届けられるようになり、長期的な視点で誤差が減るように学習できる。その際、勾配の伝達を担う隠れ状態には、長期的な文脈の情報が載るようになることが期待される。"
   ]
  },
  {
   "cell_type": "markdown",
   "metadata": {},
   "source": [
    "ちなみに、確率分布からのサンプリングを挟まない場合は普通に逆伝播が届く。モデルの出力値をそのまま入力する場合とか。あとは、サンプリングといっても、出力されたデータの一部を次に入力するような場合も普通に逆伝播が届く。1と0からなるベクトルを掛けているように解釈ができ、この演算は微分ができるから。"
   ]
  },
  {
   "cell_type": "markdown",
   "metadata": {},
   "source": [
    "### Truncated BPTT\n",
    "\n",
    "BPTTで細かく時間を区切る手法。\n",
    "\n",
    "BPTTには一つ問題があり、それは多くのメモリを要することである。系列長が長くなればなるほど多くのメモリが必要になる。\n",
    "\n",
    "これを解決する方法として、Truncated BPTTというものがある。これは、逆伝播の際に勾配の流れを一定の長さで区切る手法である。これによってメモリの消費を抑える。\n",
    "\n",
    "隠れ状態の流れを切ることとなり、長期的な文脈を考慮するための勾配が届かなくなる。ただ、実はRNNの時点で長期的な（より長い時間での）文脈の考慮は難しいため、大きな影響にはならない。"
   ]
  },
  {
   "cell_type": "markdown",
   "metadata": {},
   "source": [
    "実装を見ると分かり易いかも。こんな感じになる。\n",
    "\n",
    "```python\n",
    "trunc_len = 64 # 区切る長さ\n",
    "\n",
    "for x, t in dataloader:\n",
    "    h = None # 隠れ状態の初期化\n",
    "\n",
    "    # Truncated BPTT\n",
    "    for i in range(0, x.shape[1], trunc_len):\n",
    "        x_batch = x[:, i:i+trunc_len].to(device)\n",
    "        t_batch = t[:, i:i+trunc_len].to(device)\n",
    "\n",
    "        optimizer.zero_grad()\n",
    "        y, h = model(x_batch, h)\n",
    "        loss = loss_fn(y, t_batch)\n",
    "        loss.backward()\n",
    "        optimizer.step()\n",
    "\n",
    "        h = h.detach() # 計算グラフから切り離す\n",
    "```\n",
    "\n",
    "あくまでも区切るのは逆伝播だけなので、順伝播時の隠れ状態はちゃんと保持される。"
   ]
  },
  {
   "cell_type": "markdown",
   "metadata": {},
   "source": [
    "\n",
    "---\n",
    "\n",
    "## ミニバッチ学習\n",
    "\n",
    "RNNを用いた言語モデルの学習でミニバッチ学習を行うには少し工夫がいる。というのも、文章ごとに長さが違うため、普通にやってもミニバッチ内でデータのサイズが異なってしまう。  \n",
    "そこで、パディングという操作を行い、バッチ内のデータの長さを揃える。パディング用の特殊トークンを用意し、バッチ内の一番長いデータに合わせてパディングする。具体的には、足りない長さをパディング用のトークンで埋める。\n",
    "\n",
    "こんな感じ。"
   ]
  },
  {
   "cell_type": "code",
   "execution_count": 26,
   "metadata": {},
   "outputs": [],
   "source": [
    "from torch.nn.utils.rnn import pad_sequence"
   ]
  },
  {
   "cell_type": "code",
   "execution_count": 27,
   "metadata": {},
   "outputs": [
    {
     "data": {
      "text/plain": [
       "tensor([[1, 2, 3, 0, 0],\n",
       "        [1, 2, 0, 0, 0],\n",
       "        [1, 2, 3, 4, 5]])"
      ]
     },
     "execution_count": 27,
     "metadata": {},
     "output_type": "execute_result"
    }
   ],
   "source": [
    "sample = [\n",
    "    torch.tensor([1, 2, 3]),\n",
    "    torch.tensor([1, 2]),\n",
    "    torch.tensor([1, 2, 3, 4, 5]),\n",
    "]\n",
    "pad_sequence(sample, batch_first=True, padding_value=0) # 0でパディング"
   ]
  },
  {
   "cell_type": "markdown",
   "metadata": {},
   "source": [
    "パディング用のトークンidとして0を設定し、最大の長さ5に満たないデータに対して0を埋めて長さを揃えた。\n",
    "\n",
    "これを用いて学習データを作成する。  \n",
    "まずpadトークンを入れたトークナイザを作る。"
   ]
  },
  {
   "cell_type": "code",
   "execution_count": null,
   "metadata": {},
   "outputs": [],
   "source": [
    "pad_id = 3\n",
    "vocab_size = 8000\n",
    "tokenizer_prefix = f\"models/tokenizer_jawiki_{n_data}\"\n",
    "\n",
    "spm.SentencePieceTrainer.Train(\n",
    "    input=text_path,\n",
    "    model_prefix=tokenizer_prefix,\n",
    "    vocab_size=vocab_size,\n",
    "    pad_id=pad_id, # padトークンのIDを指定\n",
    ")"
   ]
  },
  {
   "cell_type": "markdown",
   "metadata": {},
   "source": [
    "これでトークン化。"
   ]
  },
  {
   "cell_type": "code",
   "execution_count": 29,
   "metadata": {},
   "outputs": [
    {
     "name": "stdout",
     "output_type": "stream",
     "text": [
      "num of vocabrary: 8000\n"
     ]
    },
    {
     "data": {
      "text/plain": [
       "[1, 12, 20, 528, 495, 283, 48, 558, 52, 3542]"
      ]
     },
     "execution_count": 29,
     "metadata": {},
     "output_type": "execute_result"
    }
   ],
   "source": [
    "sp = spm.SentencePieceProcessor(f\"{tokenizer_prefix}.model\")\n",
    "n_vocab = len(sp)\n",
    "\n",
    "unk_id = sp.unk_id()\n",
    "bos_id = sp.bos_id()\n",
    "eos_id = sp.eos_id()\n",
    "\n",
    "data_ids = sp.encode(data)\n",
    "for ids in data_ids:\n",
    "    ids.insert(0, bos_id)\n",
    "    ids.append(eos_id)\n",
    "\n",
    "n_vocab = len(sp)\n",
    "print(\"num of vocabrary:\", n_vocab)\n",
    "data_ids[0][:10] # example"
   ]
  },
  {
   "cell_type": "markdown",
   "metadata": {},
   "source": [
    "そんで、バッチ内データが揃う用にDataLoaderを作成する。"
   ]
  },
  {
   "cell_type": "code",
   "execution_count": 30,
   "metadata": {},
   "outputs": [
    {
     "name": "stdout",
     "output_type": "stream",
     "text": [
      "input batch shape torch.Size([64, 1951])\n"
     ]
    },
    {
     "data": {
      "text/plain": [
       "(tensor([   1,   12,  439,  208,   90, 4249,  103,    7, 1280, 2572]),\n",
       " tensor([  12,  439,  208,   90, 4249,  103,    7, 1280, 2572,  208]))"
      ]
     },
     "execution_count": 30,
     "metadata": {},
     "output_type": "execute_result"
    }
   ],
   "source": [
    "def collate_fn(batch):\n",
    "    \"\"\"ミニバッチ内のデータをパディングによって揃える\"\"\"\n",
    "    in_text, out_text = zip(*batch)\n",
    "    in_text = pad_sequence(in_text, batch_first=True, padding_value=pad_id)\n",
    "    out_text = pad_sequence(out_text, batch_first=True, padding_value=pad_id)\n",
    "    return in_text, out_text\n",
    "\n",
    "batch_size = 64\n",
    "dataset = TextDataset(data_ids)\n",
    "train_dataset, test_dataset = random_split(dataset, [0.8, 0.2])\n",
    "\n",
    "train_loader = DataLoader(\n",
    "    train_dataset,\n",
    "    batch_size=batch_size,\n",
    "    shuffle=True,\n",
    "    collate_fn=collate_fn # 取得したミニバッチに対して行う処理の指定\n",
    ")\n",
    "test_loader = DataLoader(\n",
    "    test_dataset,\n",
    "    batch_size=batch_size,\n",
    "    collate_fn=collate_fn\n",
    ")\n",
    "\n",
    "sample_x, sample_y = next(iter(train_loader))\n",
    "print(\"input batch shape\", sample_x.shape)\n",
    "sample_x[0][:10], sample_y[0][:10] # example"
   ]
  },
  {
   "cell_type": "markdown",
   "metadata": {},
   "source": [
    "これで学習データはOK。\n",
    "\n",
    "最後に、学習時に使う交差エントロピーでパディング用のトークンを無視するように定義すれば完了。"
   ]
  },
  {
   "cell_type": "code",
   "execution_count": 31,
   "metadata": {},
   "outputs": [],
   "source": [
    "cross_entropy = nn.CrossEntropyLoss(ignore_index=pad_id)"
   ]
  },
  {
   "cell_type": "markdown",
   "metadata": {},
   "source": [
    "\n",
    "---\n",
    "\n",
    "## 実践\n",
    "\n",
    "実際にモデルを作って文章を生成してみよう。さっきのモデルを使う。"
   ]
  },
  {
   "cell_type": "code",
   "execution_count": 32,
   "metadata": {},
   "outputs": [
    {
     "name": "stdout",
     "output_type": "stream",
     "text": [
      "num of parameters: 8,725,312\n"
     ]
    }
   ],
   "source": [
    "n_vocab = len(sp)\n",
    "embed_dim = 512\n",
    "hidden_size = 512\n",
    "model = LanguageModel(n_vocab, embed_dim, hidden_size).to(device)\n",
    "n_params = sum(p.numel() for p in model.parameters())\n",
    "print(f\"num of parameters: {n_params:,}\")"
   ]
  },
  {
   "cell_type": "markdown",
   "metadata": {},
   "source": [
    "パラメータ数は一緒。"
   ]
  },
  {
   "cell_type": "markdown",
   "metadata": {},
   "source": [
    "### 学習\n",
    "\n",
    "学習させる。"
   ]
  },
  {
   "cell_type": "code",
   "execution_count": 33,
   "metadata": {},
   "outputs": [],
   "source": [
    "def loss_fn(y, t):\n",
    "    \"\"\"\n",
    "    y: (batch_size, seq_length, n_vocab)\n",
    "    t: (batch_size, seq_length)\n",
    "    \"\"\"\n",
    "    loss = cross_entropy(y.reshape(-1, n_vocab), t.ravel())\n",
    "    return loss\n",
    "\n",
    "@torch.no_grad()\n",
    "def eval_model(model, trunc_len=100):\n",
    "    model.eval()\n",
    "    losses = []\n",
    "    for x, t in test_loader:\n",
    "        h = None\n",
    "        for i in range(0, x.shape[1], trunc_len):\n",
    "            x_batch = x[:, i:i+trunc_len].to(device)\n",
    "            t_batch = t[:, i:i+trunc_len].to(device)\n",
    "            y, h = model(x_batch, h)\n",
    "            loss = loss_fn(y, t_batch)\n",
    "            losses.append(loss.item())\n",
    "    loss = sum(losses) / len(losses)\n",
    "    ppl = torch.exp(torch.tensor(loss)).item()\n",
    "    return ppl\n",
    "\n",
    "def train(model, optimizer, trunc_len, n_epochs, prog_unit=1):\n",
    "    # trunc_len: Truncated BPTTで区切る長さ\n",
    "\n",
    "    prog.start(n_iter=len(train_loader), n_epochs=n_epochs, unit=prog_unit)\n",
    "    for _ in range(n_epochs):\n",
    "        model.train()\n",
    "        for x, t in train_loader:\n",
    "            h = None\n",
    "\n",
    "            # Truncated BPTT\n",
    "            for i in range(0, x.shape[1], trunc_len):\n",
    "                trunc_x = x[:, i:i+trunc_len].to(device)\n",
    "                    # (batch_size, trunc_len, n_vocab)\n",
    "                trunc_t = t[:, i:i+trunc_len].to(device)\n",
    "                    # (batch_size, trunc_len)\n",
    "\n",
    "                optimizer.zero_grad()\n",
    "                y, h = model(trunc_x, h)\n",
    "                loss = loss_fn(y, trunc_t)\n",
    "                loss.backward()\n",
    "                optimizer.step()\n",
    "                prog.update(loss.item(), advance=0)\n",
    "                h = h.detach() # 計算グラフから切り離す\n",
    "            prog.update()\n",
    "\n",
    "        if prog.now_epoch % prog_unit == 0:\n",
    "            test_ppl = eval_model(model)\n",
    "            prog.memo(f\"test: {test_ppl:.2f}\", no_step=True)\n",
    "        prog.memo()"
   ]
  },
  {
   "cell_type": "code",
   "execution_count": 34,
   "metadata": {},
   "outputs": [],
   "source": [
    "optimizer = optim.Adam(model.parameters(), lr=1e-4)"
   ]
  },
  {
   "cell_type": "code",
   "execution_count": 35,
   "metadata": {},
   "outputs": [
    {
     "name": "stdout",
     "output_type": "stream",
     "text": [
      "  1-2/20: #################### 100% [00:05:37.56] ppl train: 592.01, test: 428.68 \n",
      "  3-4/20: #################### 100% [00:05:34.62] ppl train: 244.16, test: 295.80 \n",
      "  5-6/20: #################### 100% [00:05:34.45] ppl train: 160.15, test: 239.83 \n",
      "  7-8/20: #################### 100% [00:05:39.80] ppl train: 121.69, test: 218.85 \n",
      " 9-10/20: #################### 100% [00:05:35.66] ppl train: 98.81, test: 201.81 \n",
      "11-12/20: #################### 100% [00:05:28.61] ppl train: 85.83, test: 192.93 \n",
      "13-14/20: #################### 100% [00:05:36.58] ppl train: 72.47, test: 188.22 \n",
      "15-16/20: #################### 100% [00:05:37.88] ppl train: 63.89, test: 187.10 \n",
      "17-18/20: #################### 100% [00:05:41.25] ppl train: 56.50, test: 185.86 \n",
      "19-20/20: #################### 100% [00:05:40.31] ppl train: 51.19, test: 186.05 \n"
     ]
    }
   ],
   "source": [
    "train(model, optimizer, trunc_len=100, n_epochs=20, prog_unit=2)"
   ]
  },
  {
   "cell_type": "code",
   "execution_count": 36,
   "metadata": {},
   "outputs": [],
   "source": [
    "model_path = \"models/lm_rnn.pth\"\n",
    "torch.save(model.state_dict(), model_path)"
   ]
  },
  {
   "cell_type": "markdown",
   "metadata": {},
   "source": [
    "訓練データのpplは順調に下がっている一方でテストデータの方は途中で止まってしまった。過学習ということだね。まあとりあえず学習は出来た。"
   ]
  },
  {
   "cell_type": "markdown",
   "metadata": {},
   "source": [
    "### 文章生成\n",
    "\n",
    "学習したモデルを使って文章を生成する。モデルが出力した単語を次の入力とし、再帰的に出力を得る。"
   ]
  },
  {
   "cell_type": "code",
   "execution_count": 37,
   "metadata": {},
   "outputs": [
    {
     "data": {
      "text/plain": [
       "<All keys matched successfully>"
      ]
     },
     "execution_count": 37,
     "metadata": {},
     "output_type": "execute_result"
    }
   ],
   "source": [
    "model = LanguageModel(n_vocab, embed_dim, hidden_size).to(device)\n",
    "model.load_state_dict(torch.load(model_path))"
   ]
  },
  {
   "cell_type": "code",
   "execution_count": 38,
   "metadata": {},
   "outputs": [],
   "source": [
    "def token_sampling(y):\n",
    "    y = y.squeeze()\n",
    "    y[unk_id] = -torch.inf\n",
    "    probs = F.softmax(y, dim=-1)\n",
    "    token, = random.choices(range(n_vocab), weights=probs)\n",
    "    return token\n",
    "\n",
    "@torch.no_grad()\n",
    "def generate_sentence(\n",
    "    model: nn.Module,\n",
    "    start: str = \"\",\n",
    "    max_len: int = 100\n",
    ") -> str:\n",
    "    model.eval()\n",
    "\n",
    "    # 隠れ状態の初期値\n",
    "    token_ids = sp.encode(start)\n",
    "    token_ids.insert(0, bos_id)\n",
    "    x = torch.tensor(token_ids, device=device).unsqueeze(0)\n",
    "    y, h = model(x)\n",
    "    next_token = token_sampling(y)\n",
    "    token_ids.append(next_token)\n",
    "\n",
    "    # 続きの文章生成\n",
    "    while len(token_ids) <= max_len and next_token != eos_id:\n",
    "        x = torch.tensor([next_token], device=device).unsqueeze(0)\n",
    "        y, h = model(x, h)\n",
    "        next_token = token_sampling(y)\n",
    "        token_ids.append(next_token)\n",
    "\n",
    "    sentence = sp.decode(token_ids)\n",
    "    return sentence"
   ]
  },
  {
   "cell_type": "code",
   "execution_count": 39,
   "metadata": {},
   "outputs": [
    {
     "name": "stdout",
     "output_type": "stream",
     "text": [
      "本unc053mとなっており、複数のグルロが1879年に拾えるカンパニー・スペラーマンを設立し、佐多稲中海線においては、本系列にクリスタルノが降り、当時はドイツ提辞任では初めて、経済学の発症が終わってしまった。享年107、より分ごっこの間に助けられずに国内が現れたため、急降下の位置を計測人にするなど前向きとなる。2018年\n",
      "使わない。 冷は、1956年出張晩年は未満を横うため、ほか結成・ド・ラ・ヴィーヌ」の艦隊とウォーソ自分の内閣を置いて大きな被害を受けて、汲桑に残る突撃隊を護衛のため帝国寄りの住民が殺害された。1948年8月で、「盾は楚父・サンクスゾテカのような事を知る。2月までは「鹿理の状態で深ドイツを結ぶ男、フランス\n",
      "2002年(平成11年)4月8日に全日本女子サッカー選手権大会から2000年にオリジナル連盟賞 2015年11月、ロシア政府文化センター展開 (JSAy)、葉戦隊大使館機15090mm、21-871 ホルガ地区を実現しみ、モロン政策賞のトップの可能性を優先することを発表し、同デモの航力に貢献していた。しかし理由がポスターに協議しており、特にフランス\n",
      "明治プロダクションは続けられた。塩族民兵空港は、従来のバスでは検出自称・フィルズの仕事への功際に料をしており、対象上した第1作では190～0.4.54mmの値上げに変更していたが、解体指導により発表されたなど駅を発表したが異なり、頼り咲年で1O+〜1987年3月 [査読有り]RIRO 2015時のキャッシュアーティクスの\n",
      "彼女の作品は概恋の42地を辞と考える形で逃げ助したうえで、これはマルクによる出産物資性についてのいいも、展少女の中常に机も再生くが、アニメ化粧品として169個名のみ)があり、顧客用地、50身.47妻として収録されている。また、ホーン・エアゴ・ピストハウスはマルヴァン・始アレクサンダーショップ・コリーズ、ブ\n"
     ]
    }
   ],
   "source": [
    "for _ in range(5):\n",
    "    print(generate_sentence(model, max_len=100))"
   ]
  },
  {
   "cell_type": "markdown",
   "metadata": {},
   "source": [
    "マルコフモデルとは違い、文脈全体を考慮した予測がされているため、文法の崩れや文章全体での不自然さが減ったと思われる。"
   ]
  },
  {
   "cell_type": "markdown",
   "metadata": {},
   "source": [
    "### モデルの改良\n",
    "\n",
    "少しだけモデルをいじって改良する。\n",
    "\n",
    "- PyTorchのRNN層を用いる\n",
    "\n",
    "    私が先で実装したRNN層は効率的でないようで、PyTorchのRNN層を用いた方が学習が早かった。\n",
    "\n",
    "- ドロップアウト層を追加する\n",
    "\n",
    "    RNNでは過学習を抑える手法としてドロップアウト層の導入が良く使われる。"
   ]
  },
  {
   "cell_type": "code",
   "execution_count": 40,
   "metadata": {},
   "outputs": [],
   "source": [
    "class LanguageModel(nn.Module):\n",
    "    def __init__(self, n_vocab, embed_dim, hidden_size):\n",
    "        super().__init__()\n",
    "        self.embedding = nn.Embedding(n_vocab, embed_dim)\n",
    "        self.rnn = nn.RNN(embed_dim, hidden_size, batch_first=True)\n",
    "        self.fc = nn.Linear(hidden_size, n_vocab)\n",
    "        self.dropout = nn.Dropout(0.2)\n",
    "\n",
    "    def forward(self, x, h=None):\n",
    "        \"\"\"\n",
    "        x: (batch_size, seq_length)\n",
    "        h: (batch_size, hidden_size)\n",
    "        \"\"\"\n",
    "        x = self.embedding(x) # (batch_size, seq_length, embed_dim)\n",
    "        x = self.dropout(x)\n",
    "        hs, h = self.rnn(x, h) # (batch_size, seq_length, hidden_size)\n",
    "        hs = self.dropout(hs)\n",
    "        y = self.fc(hs) # (batch_size, seq_length, n_vocab)\n",
    "        return y, h"
   ]
  },
  {
   "cell_type": "code",
   "execution_count": 43,
   "metadata": {},
   "outputs": [
    {
     "name": "stdout",
     "output_type": "stream",
     "text": [
      "num of parameters: 8,725,312\n"
     ]
    }
   ],
   "source": [
    "n_vocab = len(sp)\n",
    "embed_dim = 512\n",
    "hidden_size = 512\n",
    "model = LanguageModel(n_vocab, embed_dim, hidden_size).to(device)\n",
    "n_params = sum(p.numel() for p in model.parameters())\n",
    "print(f\"num of parameters: {n_params:,}\")\n",
    "\n",
    "optimizer = optim.Adam(model.parameters(), lr=1e-4)"
   ]
  },
  {
   "cell_type": "markdown",
   "metadata": {},
   "source": [
    "ドロップアウト層を追加しただけなのでパラメータ数に変動はない。\n",
    "\n",
    "学習させてみよう。なんとなく学習回数を増やしておく。"
   ]
  },
  {
   "cell_type": "code",
   "execution_count": 44,
   "metadata": {},
   "outputs": [
    {
     "name": "stdout",
     "output_type": "stream",
     "text": [
      "  1-2/40: #################### 100% [00:03:33.61] ppl train: 669.66, test: 476.40 \n",
      "  3-4/40: #################### 100% [00:03:34.96] ppl train: 317.59, test: 338.21 \n",
      "  5-6/40: #################### 100% [00:03:40.61] ppl train: 225.40, test: 273.76 \n",
      "  7-8/40: #################### 100% [00:03:36.96] ppl train: 181.45, test: 249.26 \n",
      " 9-10/40: #################### 100% [00:03:35.14] ppl train: 154.11, test: 221.80 \n",
      "11-12/40: #################### 100% [00:03:32.63] ppl train: 138.90, test: 217.23 \n",
      "13-14/40: #################### 100% [00:03:34.66] ppl train: 124.82, test: 205.19 \n",
      "15-16/40: #################### 100% [00:03:39.87] ppl train: 115.47, test: 195.41 \n",
      "17-18/40: #################### 100% [00:03:39.57] ppl train: 107.66, test: 188.58 \n",
      "19-20/40: #################### 100% [00:03:43.58] ppl train: 101.78, test: 187.58 \n",
      "21-22/40: #################### 100% [00:03:32.45] ppl train: 97.18, test: 181.23 \n",
      "23-24/40: #################### 100% [00:03:25.94] ppl train: 91.58, test: 178.86 \n",
      "25-26/40: #################### 100% [00:03:21.03] ppl train: 92.01, test: 176.31 \n",
      "27-28/40: #################### 100% [00:03:23.43] ppl train: 86.08, test: 178.65 \n",
      "29-30/40: #################### 100% [00:03:30.44] ppl train: 82.68, test: 175.84 \n",
      "31-32/40: #################### 100% [00:03:37.02] ppl train: 80.35, test: 177.08 \n",
      "33-34/40: #################### 100% [00:03:38.59] ppl train: 77.46, test: 171.49 \n",
      "35-36/40: #################### 100% [00:03:35.31] ppl train: 75.30, test: 168.48 \n",
      "37-38/40: #################### 100% [00:03:37.31] ppl train: 73.50, test: 171.83 \n",
      "39-40/40: #################### 100% [00:03:37.72] ppl train: 71.75, test: 167.77 \n"
     ]
    }
   ],
   "source": [
    "train(model, optimizer, trunc_len=100, n_epochs=40, prog_unit=2)"
   ]
  },
  {
   "cell_type": "code",
   "execution_count": 45,
   "metadata": {},
   "outputs": [],
   "source": [
    "model_path = \"models/lm_rnn_imp.pth\"\n",
    "torch.save(model.state_dict(), model_path)"
   ]
  },
  {
   "cell_type": "markdown",
   "metadata": {},
   "source": [
    "先程よりも学習速度が上がった。そして訓練データとテストデータでpplの差が小さくなった。過学習が抑えられたと言える。\n",
    "\n",
    "文章を生成してみよう。"
   ]
  },
  {
   "cell_type": "code",
   "execution_count": 46,
   "metadata": {},
   "outputs": [
    {
     "name": "stdout",
     "output_type": "stream",
     "text": [
      "旧譜類の高野食一が少佐、八法会議が早いわらか、次大戦後・学的虐待の学校の配下にアメリカ軍ことが判明した。\n",
      "政が必要な名やコンゴリーでの監視に発生することなどがいていた。\n",
      "ボドルタ・29メルスタは、自身の歌すこと盤商品が1938年振り10曲オペラの登山口を馬度を果たした。\n",
      "香川口沼与によると本願寺派の有力の開設が翌年ハン末2川で、引退後は石勒が下京してその旨を図ったところ、1年逝去のめもつれは催された。この影響でもゲーリングは「音楽今が、それはなじて残すところがっただ、も広大な行方が肉にあまごうという。\n",
      "しかし、アメリカはリヤード・ニュージーラ・壱と(Bヴィス)復活のために資金としてマスジャースとはいを使用しなかった。以降、1811が目に赴いた(He Gren Fame granunder to nues Sergyoren Stara, and gve band であること 9 25e 48 Maxot to the O LIG\n"
     ]
    }
   ],
   "source": [
    "for _ in range(5):\n",
    "    print(generate_sentence(model, max_len=100))"
   ]
  },
  {
   "cell_type": "markdown",
   "metadata": {},
   "source": [
    "先程よりテストデータでのpplが小さいモデルを使っているので、少しは質の高い文章になっているはずだが、まあこの程度ではほとんど変わらないかな。"
   ]
  }
 ],
 "metadata": {
  "kernelspec": {
   "display_name": "nlp",
   "language": "python",
   "name": "python3"
  },
  "language_info": {
   "codemirror_mode": {
    "name": "ipython",
    "version": 3
   },
   "file_extension": ".py",
   "mimetype": "text/x-python",
   "name": "python",
   "nbconvert_exporter": "python",
   "pygments_lexer": "ipython3",
   "version": "3.11.3"
  },
  "orig_nbformat": 4
 },
 "nbformat": 4,
 "nbformat_minor": 2
}
