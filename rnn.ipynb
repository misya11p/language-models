{
 "cells": [
  {
   "attachments": {},
   "cell_type": "markdown",
   "metadata": {},
   "source": [
    "# RNNを用いた言語モデル\n",
    "\n",
    "RNNを用いて言語モデルを実装する。\n",
    "\n",
    "前章では、深層学習を活用してある単語から次の単語を予測するモデルを作成した。しかし、これでは全体の文脈全体を考慮できない。具体的には、2つ以上前の単語を考慮した予測が出来ない。\n",
    "\n",
    "RNNを用いることで、文脈を考慮した予測が可能になる。  \n",
    "本章ではRNNの構造について学び、RNNを用いた言語モデルを実装する。"
   ]
  },
  {
   "cell_type": "code",
   "execution_count": 1,
   "metadata": {},
   "outputs": [],
   "source": [
    "import random\n",
    "\n",
    "import sentencepiece as spm\n",
    "import torch\n",
    "from torch import nn, optim\n",
    "import torch.nn.functional as F\n",
    "from torch.utils.data import Dataset, DataLoader, random_split\n",
    "from torch.nn.utils.rnn import pad_sequence\n",
    "from dlprog import train_progress"
   ]
  },
  {
   "cell_type": "code",
   "execution_count": 2,
   "metadata": {},
   "outputs": [
    {
     "data": {
      "text/plain": [
       "device(type='cuda')"
      ]
     },
     "execution_count": 2,
     "metadata": {},
     "output_type": "execute_result"
    }
   ],
   "source": [
    "prog = train_progress(width=20, with_test=True, label=\"ppl train\", round=2)\n",
    "device = torch.device(\"cuda\" if torch.cuda.is_available() else \"cpu\")\n",
    "device"
   ]
  },
  {
   "cell_type": "markdown",
   "metadata": {},
   "source": [
    "### 学習データの用意"
   ]
  },
  {
   "cell_type": "code",
   "execution_count": 3,
   "metadata": {},
   "outputs": [],
   "source": [
    "n_data = 10000"
   ]
  },
  {
   "cell_type": "markdown",
   "metadata": {},
   "source": [
    "wiki40b"
   ]
  },
  {
   "cell_type": "code",
   "execution_count": 4,
   "metadata": {},
   "outputs": [],
   "source": [
    "text_path = \"data/jawiki.txt\"\n",
    "with open(text_path) as f:\n",
    "    data = f.read().splitlines()"
   ]
  },
  {
   "cell_type": "code",
   "execution_count": 5,
   "metadata": {},
   "outputs": [
    {
     "name": "stdout",
     "output_type": "stream",
     "text": [
      "num of data: 10000\n"
     ]
    },
    {
     "data": {
      "text/plain": [
       "['「教科書には決して載らない」日本人の謎やしきたりを多角的に検証し、日本人のDNAを解明する。新春番組として定期的に放送されており、年末の午前中に再放送されるのが恒例となっている。',\n",
       " 'ライブドア社員であった初代代表取締役社長の山名真由によって企業内起業の形で創業。2005年に株式会社ライブドアから分割されて設立。かつてはライブドアホールディングス（現・LDH）の子会社であったが、ノンコア事業の整理にともない、株式会社ゲオ（現：株式会社ゲオホールディングス）に所有する全株式を譲渡し、同社の完全子会社となった。「ぽすれん」「ゲオ宅配レンタル」のオンラインDVD・CD・コミックレンタルサービス及び「GEO Online」と「ゲオアプリ」のアプリ・ウェブサイト運営の大きく分けて2事業を展開している。以前はDVD販売等のEコマースサービス「ぽすれんストア」、動画配信コンテンツ「ぽすれんBB」や電子書籍配信サービスの「GEO☆Books」事業も行っていた。オンラインDVDレンタル事業では会員数は10万人（2005年9月時点）。2006年5月よりCDレンタルを開始。同業他社には、カルチュア・コンビニエンス・クラブが運営する『TSUTAYA DISCAS』のほか、DMM.comが運営する『DMM.com オンラインDVDレンタル』がある。過去には「Yahoo!レンタルDVD」と「楽天レンタル」の運営を受託していた。',\n",
       " '2005年の一時期、東京のラジオ局、InterFMで、「堀江社長も使っているライブドアのぽすれん」というキャッチコピーでラジオCMを頻繁に行っていたことがあった。']"
      ]
     },
     "execution_count": 5,
     "metadata": {},
     "output_type": "execute_result"
    }
   ],
   "source": [
    "data = data[:n_data]\n",
    "text_path = f\"data/jawiki_{n_data}.txt\"\n",
    "with open(text_path, 'w') as f:\n",
    "    f.write(\"\\n\".join(data))\n",
    "\n",
    "print(\"num of data:\", len(data))\n",
    "data[:3] # examples"
   ]
  },
  {
   "attachments": {},
   "cell_type": "markdown",
   "metadata": {},
   "source": [
    "\n",
    "---\n",
    "\n",
    "## RNN\n",
    "\n",
    "*Recurrent Neural Network*\n",
    "\n",
    "再帰型ニューラルネットワーク。  \n",
    "再帰的な構造を持つニューラルネットワークで、可変長の時系列データを扱うことが得意。"
   ]
  },
  {
   "cell_type": "markdown",
   "metadata": {},
   "source": [
    "RNNはある時間$t$の入力$x_t$に対して以下のような演算を行い、出力値$h_t$を決定する。\n",
    "\n",
    "$$\n",
    "h_t = \\text{tanh}(W_x x_t + b_x + W_h h_{t-1} + b_h)\n",
    "$$\n",
    "\n",
    "演算の内部で前の時間の出力値$h_{t-1}$を参照していることが分かる。  \n",
    "演算内容はシンプルに捉えることができて、入力$x_t$と前の時間の出力$h_{t-1}$をそれぞれ線形変換し、それらの和を活性化関数$\\text{tanh}$に通しているだけ。線形変換に必要な重みとバイアスが2つずつあるので、パラメータは合計4つ。  \n",
    "活性化関数は$\\text{tanh}$でなくてもよいが、大体は$\\text{tanh}$が使われる。"
   ]
  },
  {
   "cell_type": "markdown",
   "metadata": {},
   "source": [
    "実装してみるとこんな感じ。"
   ]
  },
  {
   "cell_type": "code",
   "execution_count": 6,
   "metadata": {},
   "outputs": [],
   "source": [
    "class RNNCell(nn.Module):\n",
    "    def __init__(self, input_size: int, output_size: int):\n",
    "        super().__init__()\n",
    "        self.fc_input = nn.Linear(input_size, output_size)\n",
    "        self.fc_output = nn.Linear(output_size, output_size)\n",
    "\n",
    "    def forward(self, x, h):\n",
    "        \"\"\"\n",
    "            x: (batch_size, input_size)\n",
    "            h: (batch_size, output_size)\n",
    "        \"\"\"\n",
    "        z = self.fc_input(x) + self.fc_output(h) # (batch_size, output_size)\n",
    "        h = F.tanh(z)\n",
    "        return h"
   ]
  },
  {
   "attachments": {},
   "cell_type": "markdown",
   "metadata": {},
   "source": [
    "推論の流れを見てみる。  \n",
    "まず適当なパラメータで出力の初期値$h_0$と初めの入力$x_1$を定義する。$h_0$は0ベクトルで良い。"
   ]
  },
  {
   "cell_type": "code",
   "execution_count": 7,
   "metadata": {},
   "outputs": [
    {
     "data": {
      "text/plain": [
       "tensor([[-0.1888,  0.3809, -0.3648,  0.3572],\n",
       "        [-0.9422, -0.3746, -0.8314,  0.8185]], grad_fn=<TanhBackward0>)"
      ]
     },
     "execution_count": 7,
     "metadata": {},
     "output_type": "execute_result"
    }
   ],
   "source": [
    "batch_size, input_size, hidden_size = 2, 3, 4\n",
    "rnn = RNNCell(input_size, hidden_size)\n",
    "\n",
    "x1 = torch.randn(batch_size, input_size)\n",
    "h0 = torch.zeros(batch_size, hidden_size)\n",
    "\n",
    "h1 = rnn(x1, h0)\n",
    "h1"
   ]
  },
  {
   "cell_type": "markdown",
   "metadata": {},
   "source": [
    "この$h_1$を参照して、次の時間の入力$x_2$に対する出力$h_2$を決定する。"
   ]
  },
  {
   "cell_type": "code",
   "execution_count": 8,
   "metadata": {},
   "outputs": [
    {
     "data": {
      "text/plain": [
       "tensor([[ 0.6576,  0.8093, -0.6598,  0.6559],\n",
       "        [ 0.0888,  0.8746, -0.3826, -0.3870]], grad_fn=<TanhBackward0>)"
      ]
     },
     "execution_count": 8,
     "metadata": {},
     "output_type": "execute_result"
    }
   ],
   "source": [
    "x2 = torch.randn(batch_size, input_size)\n",
    "h2 = rnn(x2, h1)\n",
    "h2"
   ]
  },
  {
   "attachments": {},
   "cell_type": "markdown",
   "metadata": {},
   "source": [
    "これがRNNの推論の流れである。  \n",
    "この一連の流れをまとめたモデルを実装する。"
   ]
  },
  {
   "cell_type": "code",
   "execution_count": 9,
   "metadata": {},
   "outputs": [],
   "source": [
    "class RNN(nn.Module):\n",
    "    def __init__(self, input_size: int, hidden_size: int):\n",
    "        super().__init__()\n",
    "        self.rnn_cell = RNNCell(input_size, hidden_size)\n",
    "\n",
    "    def forward(self, x, h):\n",
    "        \"\"\"\n",
    "            x: (seq_len, batch_size, input_size)\n",
    "            h: (batch_size, hidden_size)\n",
    "        \"\"\"\n",
    "        hs = []\n",
    "        for xi in x:\n",
    "            h = self.rnn_cell(xi, h)\n",
    "            hs.append(h)\n",
    "        hs = torch.stack(hs) # (seq_len, batch_size, hidden_size)\n",
    "        return hs"
   ]
  },
  {
   "cell_type": "markdown",
   "metadata": {},
   "source": [
    "任意の長さの入力に対して、同じ数の隠れ状態を出力する。"
   ]
  },
  {
   "cell_type": "code",
   "execution_count": 10,
   "metadata": {},
   "outputs": [
    {
     "data": {
      "text/plain": [
       "torch.Size([5, 2, 4])"
      ]
     },
     "execution_count": 10,
     "metadata": {},
     "output_type": "execute_result"
    }
   ],
   "source": [
    "batch_size, input_size, hidden_size, seq_len = 2, 3, 4, 5\n",
    "rnn = RNN(input_size, hidden_size)\n",
    "x = torch.randn(seq_len, batch_size, input_size)\n",
    "h = torch.zeros(batch_size, hidden_size)\n",
    "\n",
    "hs = rnn(x, h)\n",
    "hs.shape"
   ]
  },
  {
   "cell_type": "markdown",
   "metadata": {},
   "source": [
    "少し扱いやすくしたいので書き換える。以下を実現する。\n",
    "- 系列長の次元ではなくバッチ次元を初めにした形状`(batch_size, seq_len, hidden_size)`で入出力を扱えるようにする。\n",
    "- 隠れ状態`h`の入力がなかった場合に自動で0ベクトルになるようにする。"
   ]
  },
  {
   "cell_type": "code",
   "execution_count": 11,
   "metadata": {},
   "outputs": [],
   "source": [
    "class RNN(nn.Module):\n",
    "    def __init__(self, input_size: int, hidden_size: int):\n",
    "        super().__init__()\n",
    "        self.rnn_cell = RNNCell(input_size, hidden_size)\n",
    "        self.hidden_size = hidden_size\n",
    "\n",
    "    def forward(self, x, h=None):\n",
    "        \"\"\"\n",
    "            x: (batch_size, seq_len, input_size)\n",
    "            h: (batch_size, hidden_size)\n",
    "        \"\"\"\n",
    "        if h is None:\n",
    "            h = torch.zeros(x.size(0), self.hidden_size).to(x.device)\n",
    "        hs = []\n",
    "        x = x.transpose(0, 1) # (seq_len, batch_size, input_size)\n",
    "        for xi in x:\n",
    "            h = self.rnn_cell(xi, h)\n",
    "            hs.append(h)\n",
    "        hs = torch.stack(hs) # (seq_len, batch_size, hidden_size)\n",
    "        hs = hs.transpose(0, 1) # (batch_size, seq_len, hidden_size)\n",
    "        return hs"
   ]
  },
  {
   "cell_type": "markdown",
   "metadata": {},
   "source": [
    "`transpose(0, 1)`でバッチ次元と系列長の次元を入れ替える事で実現した。"
   ]
  },
  {
   "cell_type": "code",
   "execution_count": 12,
   "metadata": {},
   "outputs": [
    {
     "data": {
      "text/plain": [
       "torch.Size([2, 5, 4])"
      ]
     },
     "execution_count": 12,
     "metadata": {},
     "output_type": "execute_result"
    }
   ],
   "source": [
    "batch_size, input_size, hidden_size, seq_len = 2, 3, 4, 5\n",
    "rnn = RNN(input_size, hidden_size)\n",
    "x = torch.randn(batch_size, seq_len, input_size)\n",
    "h = torch.zeros(batch_size, hidden_size)\n",
    "\n",
    "hs = rnn(x, h)\n",
    "hs.shape"
   ]
  },
  {
   "attachments": {},
   "cell_type": "markdown",
   "metadata": {},
   "source": [
    "### PyTorchでの実装\n",
    "\n",
    "PyTorchにはRNNを実装するためのクラスが用意されている。軽く紹介する。"
   ]
  },
  {
   "attachments": {},
   "cell_type": "markdown",
   "metadata": {},
   "source": [
    "#### `torch.nn.RNNCell`\n",
    "\n",
    "RNNの一つの時間の演算を行うクラス。初めに実装したもの。  \n",
    "https://pytorch.org/docs/stable/generated/torch.nn.RNNCell.html"
   ]
  },
  {
   "cell_type": "code",
   "execution_count": 13,
   "metadata": {},
   "outputs": [
    {
     "name": "stdout",
     "output_type": "stream",
     "text": [
      "Parameter containing:\n",
      "tensor([[ 0.2187, -0.5637, -0.0150],\n",
      "        [-0.3830,  0.1954,  0.2820],\n",
      "        [-0.4701, -0.3419, -0.0627],\n",
      "        [-0.4548, -0.4809,  0.2266]], requires_grad=True) \n",
      "\n",
      "Parameter containing:\n",
      "tensor([-0.5662,  0.1319,  0.2761, -0.1996], requires_grad=True) \n",
      "\n",
      "Parameter containing:\n",
      "tensor([[ 0.0360, -0.1851, -0.4481, -0.1813],\n",
      "        [-0.3415,  0.3094, -0.0361,  0.1395],\n",
      "        [ 0.0090,  0.4786,  0.4440,  0.3626],\n",
      "        [ 0.2033, -0.1460, -0.3531, -0.2259]], requires_grad=True) \n",
      "\n",
      "Parameter containing:\n",
      "tensor([ 0.1171,  0.0946, -0.3413, -0.3185], requires_grad=True) \n",
      "\n"
     ]
    }
   ],
   "source": [
    "batch_size, input_size, hidden_size = 2, 3, 4\n",
    "\n",
    "rnn_cell = nn.RNNCell(input_size, hidden_size)\n",
    "for params in rnn.parameters():\n",
    "    print(params, \"\\n\")"
   ]
  },
  {
   "attachments": {},
   "cell_type": "markdown",
   "metadata": {},
   "source": [
    "ちゃんとパラメータが4つあるね。\n",
    "\n",
    "推論も同じ。"
   ]
  },
  {
   "cell_type": "code",
   "execution_count": 14,
   "metadata": {},
   "outputs": [
    {
     "data": {
      "text/plain": [
       "tensor([[-0.7446, -0.8601,  0.0171,  0.1176],\n",
       "        [-0.7355, -0.8861, -0.1506,  0.0908]], grad_fn=<TanhBackward0>)"
      ]
     },
     "execution_count": 14,
     "metadata": {},
     "output_type": "execute_result"
    }
   ],
   "source": [
    "x = torch.randn(batch_size, input_size)\n",
    "h = torch.zeros(batch_size, hidden_size)\n",
    "rnn_cell(x, h)"
   ]
  },
  {
   "attachments": {},
   "cell_type": "markdown",
   "metadata": {},
   "source": [
    "ちなみに$h$は入力しなくてもいい。その場合は勝手に0ベクトルになる。"
   ]
  },
  {
   "cell_type": "code",
   "execution_count": 15,
   "metadata": {},
   "outputs": [
    {
     "data": {
      "text/plain": [
       "tensor([[-0.7446, -0.8601,  0.0171,  0.1176],\n",
       "        [-0.7355, -0.8861, -0.1506,  0.0908]], grad_fn=<TanhBackward0>)"
      ]
     },
     "execution_count": 15,
     "metadata": {},
     "output_type": "execute_result"
    }
   ],
   "source": [
    "rnn_cell(x)"
   ]
  },
  {
   "attachments": {},
   "cell_type": "markdown",
   "metadata": {},
   "source": [
    "#### `torch.nn.RNN`\n",
    "\n",
    "全ての時間の演算をまとめて行うクラス。  \n",
    "https://pytorch.org/docs/stable/generated/torch.nn.RNN.html"
   ]
  },
  {
   "cell_type": "code",
   "execution_count": 16,
   "metadata": {},
   "outputs": [
    {
     "data": {
      "text/plain": [
       "torch.Size([2, 5, 4])"
      ]
     },
     "execution_count": 16,
     "metadata": {},
     "output_type": "execute_result"
    }
   ],
   "source": [
    "batch_size, input_size, hidden_size, seq_len = 2, 3, 4, 5\n",
    "rnn = nn.RNN(input_size, hidden_size, batch_first=True)\n",
    "\n",
    "x = torch.randn(batch_size, seq_len, input_size)\n",
    "hs, h = rnn(x)\n",
    "hs.shape"
   ]
  },
  {
   "attachments": {},
   "cell_type": "markdown",
   "metadata": {},
   "source": [
    "全ての時間の隠れ状態が出力される。`batch_first=True`とすることでバッチ次元を初めできる。\n",
    "\n",
    "最後の時間の隠れ状態も別で出力される。"
   ]
  },
  {
   "cell_type": "code",
   "execution_count": 17,
   "metadata": {},
   "outputs": [
    {
     "data": {
      "text/plain": [
       "tensor([[[True, True, True, True],\n",
       "         [True, True, True, True]]])"
      ]
     },
     "execution_count": 17,
     "metadata": {},
     "output_type": "execute_result"
    }
   ],
   "source": [
    "hs[:, -1] == h"
   ]
  },
  {
   "cell_type": "code",
   "execution_count": 18,
   "metadata": {},
   "outputs": [
    {
     "data": {
      "text/plain": [
       "torch.Size([1, 2, 4])"
      ]
     },
     "execution_count": 18,
     "metadata": {},
     "output_type": "execute_result"
    }
   ],
   "source": [
    "h.shape"
   ]
  },
  {
   "attachments": {},
   "cell_type": "markdown",
   "metadata": {},
   "source": [
    "初めに次元が1つ追加されるのは仕様。"
   ]
  },
  {
   "cell_type": "markdown",
   "metadata": {},
   "source": [
    "\n",
    "---\n",
    "\n",
    "## RNNを用いた言語モデル\n",
    "\n",
    "RNNを用いた言語モデル構築の流れを見てみる。"
   ]
  },
  {
   "cell_type": "markdown",
   "metadata": {},
   "source": [
    "基本的に、RNNそのものを1つのモデルとして扱うことはない。RNNはNNの中の1つの層として扱う。  \n",
    "なお、RNNが組み込まれたモデルをRNNと呼ぶこともある。混乱を避けるために、本章では層としてのRNNはRNN層と呼ぶこととする（モデルとしてのRNNはそのままRNNと呼ぶ）。\n",
    "\n",
    "ある時間$t$におけるRNN層は、その時間の入力$x_t$と前の時間のRNN層の出力$h_{t-1}$を受け取り、$h_t$を出力する。  \n",
    "$h_t$は外から直接観測されることがないため、**隠れ状態**（や潜在変数）と表現される。変数名に$h$を使っている理由がそこにある（隠れる=hide）。"
   ]
  },
  {
   "cell_type": "markdown",
   "metadata": {},
   "source": [
    "では、RNN層をNNに取り入れて言語モデルを作ろう。以下のような最低限のネットワークを構築する。"
   ]
  },
  {
   "cell_type": "code",
   "execution_count": 19,
   "metadata": {},
   "outputs": [],
   "source": [
    "class LanguageModel(nn.Module):\n",
    "    def __init__(self, n_vocab, embed_dim, hidden_size):\n",
    "        super().__init__()\n",
    "        self.embedding = nn.Embedding(n_vocab, embed_dim)\n",
    "        self.rnn = RNN(embed_dim, hidden_size)\n",
    "        self.fc = nn.Linear(hidden_size, n_vocab)\n",
    "\n",
    "    def forward(self, x, h=None):\n",
    "        \"\"\"\n",
    "        x: (batch_size, seq_length)\n",
    "        h: (1, batch_size, hidden_size)\n",
    "        \"\"\"\n",
    "        x = self.embedding(x) # (batch_size, seq_length, embed_dim)\n",
    "        hs = self.rnn(x, h) # hs: (batch_size, seq_length, hidden_size)\n",
    "        y = self.fc(hs) # (batch_size, seq_length, n_vocab)\n",
    "        return y, hs"
   ]
  },
  {
   "cell_type": "markdown",
   "metadata": {},
   "source": [
    "このモデルで再帰的な推論を行うことで文章生成が可能になる。初めの単語$w_0$（`bos`）と隠れ状態$h_0$（0ベクトル）を入力し、次の単語$w_1$と隠れ状態$h_1$を得る。次に$w_1$と$h_1$を再度モデルに入力し、$w_2$と$h_2$を得る。これを繰り返すことで、文脈を考慮した文章生成を実現する（この詳細は後のBPTTの章にて説明する）。\n",
    "\n",
    "流れを見てみよう。"
   ]
  },
  {
   "cell_type": "code",
   "execution_count": 20,
   "metadata": {},
   "outputs": [],
   "source": [
    "n_vocab, embed_dim, hidden_size = 8000, 512, 512\n",
    "model = LanguageModel(n_vocab, embed_dim, hidden_size)"
   ]
  },
  {
   "cell_type": "markdown",
   "metadata": {},
   "source": [
    "テストなので、語彙数は少なめに10としている。  \n",
    "次に初めの単語$w_0$を用意する。"
   ]
  },
  {
   "cell_type": "code",
   "execution_count": 21,
   "metadata": {},
   "outputs": [
    {
     "data": {
      "text/plain": [
       "tensor([[0]])"
      ]
     },
     "execution_count": 21,
     "metadata": {},
     "output_type": "execute_result"
    }
   ],
   "source": [
    "w0 = torch.tensor(0).reshape(1, -1) # (batch_size, seq_length) = (1, 1)\n",
    "w0"
   ]
  },
  {
   "cell_type": "markdown",
   "metadata": {},
   "source": [
    "初めの隠れ状態$h_0$も用意し、これらをモデルに入力する。"
   ]
  },
  {
   "cell_type": "code",
   "execution_count": 22,
   "metadata": {},
   "outputs": [
    {
     "data": {
      "text/plain": [
       "(torch.Size([1, 1, 8000]), torch.Size([1, 1, 512]))"
      ]
     },
     "execution_count": 22,
     "metadata": {},
     "output_type": "execute_result"
    }
   ],
   "source": [
    "h0 = torch.zeros(1, hidden_size)\n",
    "y1, h1 = model(w0, h0)\n",
    "y1.shape, h1.shape"
   ]
  },
  {
   "cell_type": "markdown",
   "metadata": {},
   "source": [
    "出力を確率分布に変換し、次の単語をサンプリングする。"
   ]
  },
  {
   "cell_type": "code",
   "execution_count": 23,
   "metadata": {},
   "outputs": [
    {
     "data": {
      "text/plain": [
       "355"
      ]
     },
     "execution_count": 23,
     "metadata": {},
     "output_type": "execute_result"
    }
   ],
   "source": [
    "dist = F.softmax(y1.squeeze(), dim=-1)\n",
    "w1, = random.choices(range(n_vocab), weights=dist)\n",
    "w1"
   ]
  },
  {
   "cell_type": "markdown",
   "metadata": {},
   "source": [
    "これを繰り返すことで文章を生成する。"
   ]
  },
  {
   "cell_type": "markdown",
   "metadata": {},
   "source": [
    "\n",
    "---\n",
    "\n",
    "## 学習データの作成\n",
    "\n",
    "モデルの学習に使用する、入力と出力のペアを作成する。どんなペアを作成すれば良いだろうか。"
   ]
  },
  {
   "cell_type": "markdown",
   "metadata": {},
   "source": [
    "欲しいモデルは、可変長の単語列から次の単語を予測するモデルである。これを考えると、ある時間$t$までの単語列を入力、$t+1$の単語を正解とするペアを作成すれば良さそう。\n",
    "\n",
    "入力 | 正解\n",
    "--- | ---\n",
    "私 | は\n",
    "私 は | 今日\n",
    "私 は 今日 | オムライス\n",
    "私 は 今日 オムライス | を\n",
    "$\\vdots$ | $\\vdots$\n",
    "\n",
    "みたいな感じ。"
   ]
  },
  {
   "cell_type": "markdown",
   "metadata": {},
   "source": [
    "これでもいいが、もう少しRNNの力を活かす方法がある。  \n",
    "RNNは各時間で予測単語を出力する。例えば、「私 は 今日」という3つの単語を入力した時、RNNLMは「私」の次に来る単語、「私 は」の次に来る単語、「私 は 今日」の次に来る単語、という3つの単語を1度に出力する。この3つの単語の誤差とその勾配は一度に求められる。\n",
    "\n",
    "ということで、入力と正解のペアは以下のような形で文章ごとに用意すればいい。\n",
    "\n",
    "入力 | 正解\n",
    "--- | ---\n",
    "私 は 今日 オムライス を 食べ | は 今日 オムライス を 食べ た\n",
    "昨日 は 大雨 だっ | は 大雨 だっ た\n",
    "YOASOBI の ボーカル が かわい | の ボーカル が かわい い\n",
    "AI が 人間 の 仕事 を 奪 | が 人間 の 仕事 を 奪 う\n",
    "$\\vdots$ | $\\vdots$\n",
    "\n",
    "こんな感じに、単語を1つずらしたものが正解になるね。こうすれば文脈と正解の組み合わせが全て網羅できる。"
   ]
  },
  {
   "cell_type": "code",
   "execution_count": 24,
   "metadata": {},
   "outputs": [],
   "source": [
    "class TextDataset(Dataset):\n",
    "    def __init__(self, data_ids):\n",
    "        self.data = [torch.tensor(ids) for ids in data_ids]\n",
    "        self.n_data = len(data_ids)\n",
    "\n",
    "    def __getitem__(self, idx):\n",
    "        text = self.data[idx]\n",
    "        in_text = text[:-1] # 入力単語列\n",
    "        out_text = text[1:] # 入力を1つずつずらした単語列\n",
    "        return in_text, out_text\n",
    "\n",
    "    def __len__(self):\n",
    "        return self.n_data"
   ]
  },
  {
   "cell_type": "markdown",
   "metadata": {},
   "source": [
    "\n",
    "---\n",
    "\n",
    "## BPTT\n",
    "\n",
    "*Back Propagation Through Time*\n",
    "\n",
    "時間を跨いだ逆伝播。"
   ]
  },
  {
   "cell_type": "markdown",
   "metadata": {},
   "source": [
    "RNNでは、ある時間$t$における演算で、その時間の入力$x_t$以外に、隠れ状態（前のRNN層からの出力）$h_{t-1}$を参照する。  \n",
    "これは$x_t$のみを参照する通常のNNとは大きく異なる点である。\n",
    "\n",
    "言語モデルの様な、各時間で確率分布からのサンプリングを挟むようなモデルでは、この隠れ状態が重要な役割を果たす。それは逆伝播が時間を跨いで繋がる点である。これをBPTT (*Back Propagation Through Time*) と呼ぶ。\n",
    "\n",
    "BPTTによって時間を遡って勾配を届けられるようになり、長期的な視点で誤差が減るように学習できる。その際、勾配の伝達を担う隠れ状態には、長期的な文脈の情報が載るようになることが期待される。"
   ]
  },
  {
   "cell_type": "markdown",
   "metadata": {},
   "source": [
    "ちなみに、サンプリングを挟まない場合は普通に逆伝播が届く。モデルの出力値をそのまま入力する場合とか。  \n",
    "あとは、サンプリングといっても、出力されたデータの一部を次に入力するような場合も普通に逆伝播が届く。"
   ]
  },
  {
   "cell_type": "markdown",
   "metadata": {},
   "source": [
    "### Truncated BPTT\n",
    "\n",
    "BPTTで細かく時間を区切る手法。\n",
    "\n",
    "BPTTには一つ問題があり、それは多くのメモリを要することである。系列長が長くなればなるほど多くのメモリが必要になる。\n",
    "\n",
    "これを解決する方法として、Truncated BPTTというものがある。これは、逆伝播の際に勾配の流れを一定の長さで区切る手法である。これによってメモリの消費を抑える。  \n",
    "隠れ状態の流れを切ることとなり、長期的な文脈を考慮するための勾配が届かなくなる。ただ、実はRNNの時点で長期的な文脈の考慮は難しいため、大きな影響にはならない。"
   ]
  },
  {
   "cell_type": "markdown",
   "metadata": {},
   "source": [
    "実装は以下のようになる。\n",
    "\n",
    "```python\n",
    "trunc_len = 64 # 区切る長さ\n",
    "\n",
    "for x, t in dataloader:\n",
    "    h = None # 隠れ状態の初期化\n",
    "\n",
    "    # Truncated BPTT\n",
    "    for i in range(0, x.shape[1], trunc_len):\n",
    "        x_batch = x[:, i:i+trunc_len].to(device)\n",
    "        t_batch = t[:, i:i+trunc_len].to(device)\n",
    "\n",
    "        optimizer.zero_grad()\n",
    "        y, h = model(x_batch, h)\n",
    "        loss = loss_fn(y, t_batch)\n",
    "        loss.backward()\n",
    "        optimizer.step()\n",
    "\n",
    "        h = h.detach() # 計算グラフから切り離す\n",
    "```\n",
    "\n",
    "あくまでも区切るのは逆伝播だけなので、順伝播時の隠れ状態はちゃんと保持される。"
   ]
  },
  {
   "cell_type": "markdown",
   "metadata": {},
   "source": [
    "\n",
    "---\n",
    "\n",
    "## ミニバッチ学習\n",
    "\n",
    "RNNを用いた言語モデルの学習でミニバッチ学習を行うには少し工夫がいる。というのも、文章ごとに長さが違うため、普通にやってもミニバッチ内でデータのサイズが異なってしまう。  \n",
    "そこで、パディングという操作を行い、バッチ内のデータの長さを揃える。パディング用の特殊トークンを用意し、バッチ内の一番長いデータに合わせてパディングする。具体的には、足りない長さをパディング用のトークンで埋める。\n",
    "\n",
    "こんな感じ。"
   ]
  },
  {
   "cell_type": "code",
   "execution_count": 25,
   "metadata": {},
   "outputs": [],
   "source": [
    "from torch.nn.utils.rnn import pad_sequence"
   ]
  },
  {
   "cell_type": "code",
   "execution_count": 26,
   "metadata": {},
   "outputs": [
    {
     "data": {
      "text/plain": [
       "tensor([[1, 2, 3, 0, 0],\n",
       "        [1, 2, 0, 0, 0],\n",
       "        [1, 2, 3, 4, 5]])"
      ]
     },
     "execution_count": 26,
     "metadata": {},
     "output_type": "execute_result"
    }
   ],
   "source": [
    "sample = [\n",
    "    torch.tensor([1, 2, 3]),\n",
    "    torch.tensor([1, 2]),\n",
    "    torch.tensor([1, 2, 3, 4, 5]),\n",
    "]\n",
    "pad_sequence(sample, batch_first=True, padding_value=0) # 0でパディング"
   ]
  },
  {
   "cell_type": "markdown",
   "metadata": {},
   "source": [
    "パディング用のトークンidとして0を設定し、最大の長さ5に満たないデータに対して0を埋めて長さを揃えた。\n",
    "\n",
    "これを用いて学習データを作成する。  \n",
    "まずpadトークンを入れたトークナイザを作る。"
   ]
  },
  {
   "cell_type": "code",
   "execution_count": null,
   "metadata": {},
   "outputs": [],
   "source": [
    "pad_id = 3\n",
    "vocab_size = 8000\n",
    "tokenizer_prefix = f\"models/tokenizer_jawiki_{n_data}\"\n",
    "\n",
    "spm.SentencePieceTrainer.Train(\n",
    "    input=text_path,\n",
    "    model_prefix=tokenizer_prefix,\n",
    "    vocab_size=vocab_size,\n",
    "    pad_id=pad_id, # padトークンのIDを指定\n",
    ")"
   ]
  },
  {
   "cell_type": "markdown",
   "metadata": {},
   "source": [
    "これでトークン化。"
   ]
  },
  {
   "cell_type": "code",
   "execution_count": 28,
   "metadata": {},
   "outputs": [
    {
     "name": "stdout",
     "output_type": "stream",
     "text": [
      "num of vocabrary: 8000\n"
     ]
    },
    {
     "data": {
      "text/plain": [
       "[1, 11, 20, 501, 557, 366, 51, 658, 58, 3734]"
      ]
     },
     "execution_count": 28,
     "metadata": {},
     "output_type": "execute_result"
    }
   ],
   "source": [
    "sp = spm.SentencePieceProcessor(f\"{tokenizer_prefix}.model\")\n",
    "n_vocab = len(sp)\n",
    "\n",
    "unk_id = sp.unk_id()\n",
    "bos_id = sp.bos_id()\n",
    "eos_id = sp.eos_id()\n",
    "\n",
    "data_ids = sp.encode(data)\n",
    "for ids in data_ids:\n",
    "    ids.insert(0, bos_id)\n",
    "    ids.append(eos_id)\n",
    "\n",
    "n_vocab = len(sp)\n",
    "print(\"num of vocabrary:\", n_vocab)\n",
    "data_ids[0][:10] # example"
   ]
  },
  {
   "cell_type": "markdown",
   "metadata": {},
   "source": [
    "そんで、バッチ内データが揃う用にDataLoaderを作成する。"
   ]
  },
  {
   "cell_type": "code",
   "execution_count": 29,
   "metadata": {},
   "outputs": [
    {
     "name": "stdout",
     "output_type": "stream",
     "text": [
      "input batch shape torch.Size([64, 957])\n"
     ]
    },
    {
     "data": {
      "text/plain": [
       "(tensor([   1,   11, 5426,   12,   38,   22,  244,   34, 3977, 3329]),\n",
       " tensor([  11, 5426,   12,   38,   22,  244,   34, 3977, 3329,    5]))"
      ]
     },
     "execution_count": 29,
     "metadata": {},
     "output_type": "execute_result"
    }
   ],
   "source": [
    "def collate_fn(batch):\n",
    "    \"\"\"ミニバッチ内のデータをパディングによって揃える\"\"\"\n",
    "    in_text, out_text = zip(*batch)\n",
    "    in_text = pad_sequence(in_text, batch_first=True, padding_value=pad_id)\n",
    "    out_text = pad_sequence(out_text, batch_first=True, padding_value=pad_id)\n",
    "    return in_text, out_text\n",
    "\n",
    "batch_size = 64\n",
    "dataset = TextDataset(data_ids)\n",
    "train_dataset, test_dataset = random_split(dataset, [0.8, 0.2])\n",
    "\n",
    "train_loader = DataLoader(\n",
    "    train_dataset,\n",
    "    batch_size=batch_size,\n",
    "    shuffle=True,\n",
    "    collate_fn=collate_fn # 取得したミニバッチに対して行う処理の指定\n",
    ")\n",
    "test_loader = DataLoader(\n",
    "    test_dataset,\n",
    "    batch_size=batch_size,\n",
    "    collate_fn=collate_fn\n",
    ")\n",
    "\n",
    "sample_x, sample_y = next(iter(train_loader))\n",
    "print(\"input batch shape\", sample_x.shape)\n",
    "sample_x[0][:10], sample_y[0][:10] # example"
   ]
  },
  {
   "cell_type": "markdown",
   "metadata": {},
   "source": [
    "これで学習データはOK。\n",
    "\n",
    "最後に、学習時に使う交差エントロピーでパディング用のトークンを無視するように定義すれば完了。"
   ]
  },
  {
   "cell_type": "code",
   "execution_count": 30,
   "metadata": {},
   "outputs": [],
   "source": [
    "cross_entropy = nn.CrossEntropyLoss(ignore_index=pad_id)"
   ]
  },
  {
   "cell_type": "markdown",
   "metadata": {},
   "source": [
    "\n",
    "---\n",
    "\n",
    "## 実践\n",
    "\n",
    "実際にモデルを作って文章を生成してみよう。\n",
    "\n",
    "先程作成したモデルにいくつかの層を追加する。"
   ]
  },
  {
   "cell_type": "code",
   "execution_count": 31,
   "metadata": {},
   "outputs": [],
   "source": [
    "class LanguageModel(nn.Module):\n",
    "    def __init__(self, n_vocab, embed_dim, hidden_size):\n",
    "        super().__init__()\n",
    "        self.embedding = nn.Embedding(n_vocab, embed_dim)\n",
    "        self.rnn = RNN(embed_dim, hidden_size)\n",
    "        self.fc_hidden = nn.Linear(hidden_size, hidden_size)\n",
    "        self.norm = nn.LayerNorm(hidden_size)\n",
    "        self.relu = nn.ReLU()\n",
    "        self.fc_out = nn.Linear(hidden_size, n_vocab)\n",
    "        self.dropout = nn.Dropout(0.2)\n",
    "        self.fc_skip = nn.Linear(embed_dim, hidden_size)\n",
    "\n",
    "    def forward(self, x, h=None):\n",
    "        \"\"\"\n",
    "        x: (batch_size, seq_length)\n",
    "        h: (1, batch_size, hidden_size)\n",
    "        \"\"\"\n",
    "        x = self.embedding(x) # (batch_size, seq_length, embed_dim)\n",
    "        x = self.dropout(x)\n",
    "        skip = self.fc_skip(x) # (batch_size, seq_length, hidden_size)\n",
    "\n",
    "        hs = self.rnn(x, h) # hs: (batch_size, seq_length, hidden_size)\n",
    "        hs = hs + skip\n",
    "        hs = self.dropout(hs)\n",
    "\n",
    "        skip = hs\n",
    "        hs = self.fc_hidden(hs) # (batch_size, seq_length, hidden_size)\n",
    "        hs = self.norm(hs)\n",
    "        hs = self.relu(hs)\n",
    "\n",
    "        hs = hs + skip\n",
    "        y = self.fc_out(hs) # (batch_size, seq_length, n_vocab)\n",
    "        return y, hs"
   ]
  },
  {
   "cell_type": "markdown",
   "metadata": {},
   "source": [
    "線形層（+活性化関数）、正規化層、ドロップアウト層、残差結合を追加した。"
   ]
  },
  {
   "cell_type": "code",
   "execution_count": 32,
   "metadata": {},
   "outputs": [
    {
     "name": "stdout",
     "output_type": "stream",
     "text": [
      "num of parameters: 9,251,648\n"
     ]
    }
   ],
   "source": [
    "n_vocab = len(sp)\n",
    "embed_dim = 512\n",
    "hidden_size = 512\n",
    "model = LanguageModel(n_vocab, embed_dim, hidden_size).to(device)\n",
    "n_params = sum(p.numel() for p in model.parameters())\n",
    "print(f\"num of parameters: {n_params:,}\")"
   ]
  },
  {
   "cell_type": "markdown",
   "metadata": {},
   "source": [
    "### 学習\n",
    "\n",
    "まずは学習。"
   ]
  },
  {
   "cell_type": "code",
   "execution_count": 33,
   "metadata": {},
   "outputs": [],
   "source": [
    "def loss_fn(y, t):\n",
    "    \"\"\"\n",
    "    y: (batch_size, seq_length, n_vocab)\n",
    "    t: (batch_size, seq_length)\n",
    "    \"\"\"\n",
    "    loss = cross_entropy(y.reshape(-1, n_vocab), t.ravel())\n",
    "    return loss\n",
    "\n",
    "\n",
    "def eval_model(model, trunc_len=100):\n",
    "    model.eval()\n",
    "    losses = []\n",
    "    with torch.no_grad():\n",
    "        for x, t in test_loader:\n",
    "            h = None\n",
    "            for i in range(0, x.shape[1], trunc_len):\n",
    "                x_batch = x[:, i:i+trunc_len].to(device)\n",
    "                t_batch = t[:, i:i+trunc_len].to(device)\n",
    "                y, hs = model(x_batch, h)\n",
    "                loss = loss_fn(y, t_batch)\n",
    "                losses.append(loss.item())\n",
    "                h = hs[:, -1]\n",
    "    loss = sum(losses) / len(losses)\n",
    "    ppl = torch.exp(torch.tensor(loss)).item()\n",
    "    return ppl\n",
    "\n",
    "\n",
    "def train(model, optimizer, trunc_len, n_epochs, prog_unit=1):\n",
    "    # trunc_len: Truncated BPTTで区切る長さ\n",
    "\n",
    "    prog.start(n_iter=len(train_loader), n_epochs=n_epochs, unit=prog_unit)\n",
    "    for _ in range(n_epochs):\n",
    "        model.train()\n",
    "        for x, t in train_loader:\n",
    "            h = None\n",
    "\n",
    "            # Truncated BPTT\n",
    "            for i in range(0, x.shape[1], trunc_len):\n",
    "                trunc_x = x[:, i:i+trunc_len].to(device)\n",
    "                    # (batch_size, trunc_len, n_vocab)\n",
    "                trunc_t = t[:, i:i+trunc_len].to(device)\n",
    "                    # (batch_size, trunc_len)\n",
    "\n",
    "                optimizer.zero_grad()\n",
    "                y, hs = model(trunc_x, h)\n",
    "                loss = loss_fn(y, trunc_t)\n",
    "                loss.backward()\n",
    "                optimizer.step()\n",
    "                ppl = torch.exp(loss).item()\n",
    "                prog.update(ppl, advance=0)\n",
    "                hs = hs.detach() # 計算グラフから切り離す\n",
    "                h = hs[:, -1] # 最後の隠れ状態\n",
    "            prog.update()\n",
    "\n",
    "        if prog.now_epoch % prog_unit == 0:\n",
    "            test_ppl = eval_model(model)\n",
    "            prog.memo(f\"test: {test_ppl:.5f}\", no_step=True)\n",
    "        prog.memo()"
   ]
  },
  {
   "cell_type": "code",
   "execution_count": 34,
   "metadata": {},
   "outputs": [],
   "source": [
    "optimizer = optim.Adam(model.parameters(), lr=1e-4)"
   ]
  },
  {
   "cell_type": "code",
   "execution_count": 35,
   "metadata": {},
   "outputs": [
    {
     "name": "stdout",
     "output_type": "stream",
     "text": [
      "    1-5/100: #################### 100% [00:07:22.78] ppl train: 594.04, test: 344.12152 \n",
      "   6-10/100: #################### 100% [00:07:19.77] ppl train: 222.52, test: 285.51825 \n",
      "  11-15/100: #################### 100% [00:07:16.97] ppl train: 167.26, test: 261.12546 \n",
      "  16-20/100: #################### 100% [00:07:27.67] ppl train: 139.84, test: 249.88216 \n",
      "  21-25/100: #################### 100% [00:07:17.98] ppl train: 124.95, test: 245.01172 \n",
      "  26-30/100: #################### 100% [00:07:26.28] ppl train: 113.35, test: 239.42883 \n",
      "  31-35/100: #################### 100% [00:07:15.80] ppl train: 105.92, test: 242.02299 \n",
      "  36-40/100: #################### 100% [00:07:18.20] ppl train: 99.70, test: 241.37332 \n",
      "  41-45/100: #################### 100% [00:07:16.60] ppl train: 95.81, test: 244.94292 \n",
      "  46-50/100: #################### 100% [00:07:15.60] ppl train: 92.09, test: 243.68498 \n",
      "  51-55/100: #################### 100% [00:07:21.67] ppl train: 88.63, test: 246.44403 \n",
      "  56-60/100: #################### 100% [00:07:16.07] ppl train: 86.05, test: 271.29355 \n",
      "  61-65/100: #################### 100% [00:07:19.39] ppl train: 83.87, test: 256.53033 \n",
      "  66-70/100: #################### 100% [00:07:18.93] ppl train: 81.83, test: 260.10397 \n",
      "  71-75/100: #################### 100% [00:07:15.17] ppl train: 80.28, test: 262.30652 \n",
      "  76-80/100: #################### 100% [00:07:23.24] ppl train: 78.00, test: 274.81284 \n",
      "  81-85/100: #################### 100% [00:07:21.38] ppl train: 76.83, test: 270.71280 \n",
      "  86-90/100: #################### 100% [00:07:25.22] ppl train: 75.21, test: 289.36115 \n",
      "  91-95/100: #################### 100% [00:07:20.98] ppl train: 74.29, test: 280.19241 \n",
      " 96-100/100: #################### 100% [00:07:18.54] ppl train: 73.60, test: 280.35385 \n"
     ]
    }
   ],
   "source": [
    "train(model, optimizer, trunc_len=100, n_epochs=100, prog_unit=5)"
   ]
  },
  {
   "cell_type": "code",
   "execution_count": 36,
   "metadata": {},
   "outputs": [],
   "source": [
    "model_path = \"models/lm_rnn.pth\"\n",
    "torch.save(model.state_dict(), model_path)"
   ]
  },
  {
   "cell_type": "markdown",
   "metadata": {},
   "source": [
    "### 文章生成\n",
    "\n",
    "学習したモデルを使って文章を生成する。  \n",
    "モデルが出力した単語を次の入力とし、再帰的に出力を得る。"
   ]
  },
  {
   "cell_type": "code",
   "execution_count": 37,
   "metadata": {},
   "outputs": [
    {
     "data": {
      "text/plain": [
       "<All keys matched successfully>"
      ]
     },
     "execution_count": 37,
     "metadata": {},
     "output_type": "execute_result"
    }
   ],
   "source": [
    "model = LanguageModel(n_vocab, embed_dim, hidden_size).to(device)\n",
    "model.load_state_dict(torch.load(model_path))"
   ]
  },
  {
   "cell_type": "code",
   "execution_count": 38,
   "metadata": {},
   "outputs": [],
   "source": [
    "def token_sampling(y):\n",
    "    y = y.squeeze()\n",
    "    y[unk_id] = -torch.inf\n",
    "    probs = F.softmax(y, dim=-1)\n",
    "    token, = random.choices(range(n_vocab), weights=probs)\n",
    "    return token\n",
    "\n",
    "@torch.no_grad()\n",
    "def generate_sentence(\n",
    "    model: nn.Module,\n",
    "    start: str = '',\n",
    "    max_len: int = 50\n",
    ") -> str:\n",
    "    model.eval()\n",
    "\n",
    "    # 隠れ状態の初期値\n",
    "    token_ids = sp.encode(start)\n",
    "    token_ids.insert(0, bos_id)\n",
    "    x = torch.tensor(token_ids, device=device).unsqueeze(0)\n",
    "    y, hs = model(x)\n",
    "    h = hs[:, -1]\n",
    "    next_token = token_sampling(y)\n",
    "    token_ids.append(next_token)\n",
    "\n",
    "    # 続きの文章生成\n",
    "    while len(token_ids) <= max_len and next_token != eos_id:\n",
    "        x = torch.tensor([next_token], device=device).unsqueeze(0)\n",
    "        y, (h,) = model(x, h)\n",
    "        next_token = token_sampling(y)\n",
    "        token_ids.append(next_token)\n",
    "\n",
    "    sentence = sp.decode(token_ids)\n",
    "    return sentence"
   ]
  },
  {
   "cell_type": "code",
   "execution_count": 40,
   "metadata": {},
   "outputs": [
    {
     "name": "stdout",
     "output_type": "stream",
     "text": [
      "大道者個人により、「国内では、「鈴木道曜深夜の前から、「『ある革命なの)は、し、&返し、ブの元マイパー 元帥ゲーリングに就任。4165月5月4日\n",
      "Q以外も同様Tix芸人というNHKが存在する。\n",
      "ベトナムジャ記録\n",
      "日本では思いではウェストスとローズがH.6時間が頻、「Myで知れ、ゲーリングは1時間(ユダヤ人の大隊は公知のではなく、ゲーリングがゲーリングがゲーリングだった」とゲーリングはクラスの際にはゲーリング\n",
      "ホイヤーズアルジェ・。\n"
     ]
    }
   ],
   "source": [
    "for _ in range(5):\n",
    "    print(generate_sentence(model, max_len=50))"
   ]
  },
  {
   "cell_type": "markdown",
   "metadata": {},
   "source": [
    "マルコフモデルとは違い、文脈全体を考慮した予測がされているため、文法の崩れや文章全体での不自然さが減ったと思われる。"
   ]
  }
 ],
 "metadata": {
  "kernelspec": {
   "display_name": "nlp",
   "language": "python",
   "name": "python3"
  },
  "language_info": {
   "codemirror_mode": {
    "name": "ipython",
    "version": 3
   },
   "file_extension": ".py",
   "mimetype": "text/x-python",
   "name": "python",
   "nbconvert_exporter": "python",
   "pygments_lexer": "ipython3",
   "version": "3.11.3"
  },
  "orig_nbformat": 4
 },
 "nbformat": 4,
 "nbformat_minor": 2
}
