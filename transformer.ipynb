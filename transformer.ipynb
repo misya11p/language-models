{
 "cells": [
  {
   "cell_type": "markdown",
   "metadata": {},
   "source": [
    "# Transformer\n",
    "\n",
    "2017年にGoogleによって発表されたEncoder-Decoderモデル (seq2seq) 。  \n",
    "\"Attention is All You Need\"という論文タイトルは有名。"
   ]
  },
  {
   "cell_type": "markdown",
   "metadata": {},
   "source": [
    "論文のタイトル通り、Attentionを軸としたモデルで、RNNも用いていない。  \n",
    "Transformerはその性能の高さから至る所で活躍しており、現在世に存在する高度な言語モデルのほぼ全てがTransformerを元に作られていると言っても過言ではない。\n",
    "\n",
    "本章ではtransformerの理解と実装を行う。  \n",
    "まず、encoderに使われる機構を学び、それらを組み合わせてencoderを実装する。その後にencoderを少しいじることで作れるdecoderを実装し、最後にその二つを組み合わせてtransformerを実装する。"
   ]
  },
  {
   "cell_type": "code",
   "execution_count": 1,
   "metadata": {},
   "outputs": [],
   "source": [
    "import random\n",
    "\n",
    "import matplotlib.pyplot as plt\n",
    "import sentencepiece as spm\n",
    "import torch\n",
    "from torch import nn, optim\n",
    "import torch.nn.functional as F\n",
    "from torch.utils.data import Dataset, DataLoader, random_split\n",
    "from torch.nn.utils.rnn import pad_sequence\n",
    "from dlprog import train_progress"
   ]
  },
  {
   "cell_type": "code",
   "execution_count": 2,
   "metadata": {},
   "outputs": [
    {
     "data": {
      "text/plain": [
       "device(type='cuda')"
      ]
     },
     "execution_count": 2,
     "metadata": {},
     "output_type": "execute_result"
    }
   ],
   "source": [
    "prog = train_progress(with_test=True)\n",
    "device = torch.device('cuda' if torch.cuda.is_available() else 'cpu')\n",
    "device"
   ]
  },
  {
   "cell_type": "markdown",
   "metadata": {},
   "source": [
    "### 学習データの用意"
   ]
  },
  {
   "cell_type": "code",
   "execution_count": 3,
   "metadata": {},
   "outputs": [
    {
     "name": "stdout",
     "output_type": "stream",
     "text": [
      "num of data: 10000\n",
      "num of vocabrary (ja): 8000\n",
      "num of vocabrary (en): 8000\n"
     ]
    }
   ],
   "source": [
    "textfile_ja = 'data/iwslt2017_ja_10000.txt'\n",
    "textfile_en = 'data/iwslt2017_en_10000.txt'\n",
    "tokenizer_prefix_ja = f'models/tokenizer_iwslt2017_ja_10000'\n",
    "tokenizer_prefix_en = f'models/tokenizer_iwslt2017_en_10000'\n",
    "\n",
    "with open(textfile_en) as f:\n",
    "    data_en = f.read().splitlines()\n",
    "\n",
    "with open(textfile_ja) as f:\n",
    "    data_ja = f.read().splitlines()\n",
    "\n",
    "n_data = len(data_en)\n",
    "print('num of data:', n_data)\n",
    "\n",
    "sp_ja = spm.SentencePieceProcessor(f'{tokenizer_prefix_ja}.model')\n",
    "sp_en = spm.SentencePieceProcessor(f'{tokenizer_prefix_en}.model')\n",
    "unk_id = sp_ja.unk_id()\n",
    "bos_id = sp_ja.bos_id()\n",
    "eos_id = sp_ja.eos_id()\n",
    "pad_id = sp_ja.pad_id()\n",
    "n_vocab_ja = len(sp_ja)\n",
    "n_vocab_en = len(sp_en)\n",
    "print('num of vocabrary (ja):', n_vocab_ja)\n",
    "print('num of vocabrary (en):', n_vocab_en)"
   ]
  },
  {
   "cell_type": "code",
   "execution_count": 4,
   "metadata": {},
   "outputs": [],
   "source": [
    "data_ids_ja = sp_ja.encode(data_ja)\n",
    "data_ids_en = sp_en.encode(data_en)\n",
    "\n",
    "for ids_ja, ids_en in zip(data_ids_ja, data_ids_en):\n",
    "    ids_ja.append(eos_id)\n",
    "    ids_en.insert(0, bos_id)\n",
    "    ids_en.append(eos_id)"
   ]
  },
  {
   "cell_type": "code",
   "execution_count": 5,
   "metadata": {},
   "outputs": [],
   "source": [
    "class TextDataset(Dataset):\n",
    "    def __init__(self, data_ids_ja, data_ids_en):\n",
    "        self.data_ja = [torch.tensor(ids) for ids in data_ids_ja]\n",
    "        self.data_en = [torch.tensor(ids) for ids in data_ids_en]\n",
    "        self.n_data = len(self.data_ja)\n",
    "\n",
    "    def __getitem__(self, idx):\n",
    "        ja = self.data_ja[idx]\n",
    "        en = self.data_en[idx]\n",
    "        x_enc = ja\n",
    "        x_dec = en[:-1]\n",
    "        y_dec = en[1:]\n",
    "        return x_enc, x_dec, y_dec\n",
    "\n",
    "    def __len__(self):\n",
    "        return self.n_data\n",
    "\n",
    "def collate_fn(batch):\n",
    "    x_enc, x_dec, y_dec= zip(*batch)\n",
    "    x_enc = pad_sequence(x_enc, batch_first=True, padding_value=pad_id)\n",
    "    x_dec = pad_sequence(x_dec, batch_first=True, padding_value=pad_id)\n",
    "    y_dec = pad_sequence(y_dec, batch_first=True, padding_value=pad_id)\n",
    "    return x_enc, x_dec, y_dec\n",
    "\n",
    "dataset = TextDataset(data_ids_ja, data_ids_en)\n",
    "train_dataset, test_dataset = random_split(dataset, [0.8, 0.2])\n",
    "\n",
    "batch_size = 32\n",
    "train_loader = DataLoader(\n",
    "    train_dataset,\n",
    "    batch_size=batch_size,\n",
    "    shuffle=True,\n",
    "    drop_last=True,\n",
    "    collate_fn=collate_fn\n",
    ")\n",
    "test_loader = DataLoader(\n",
    "    test_dataset,\n",
    "    batch_size=batch_size,\n",
    "    drop_last=True,\n",
    "    collate_fn=collate_fn\n",
    ")"
   ]
  },
  {
   "cell_type": "markdown",
   "metadata": {},
   "source": [
    "\n",
    "---\n",
    "\n",
    "## Positional Encoding\n",
    "\n",
    "位置エンコーディング。位置符号をデータに足す。データに位置情報を埋め込む。"
   ]
  },
  {
   "cell_type": "markdown",
   "metadata": {},
   "source": [
    "現状、encoder内に存在するRNNの役割は「位置情報を含んだ隠れ状態を出力すること」にある。\n",
    "\n",
    "通常のseq2seqでは、decoderが参照する「最後の隠れ状態」に全ての文脈の情報が乗る様に、時間ごとの演算が繋がっている必要があった。  \n",
    "しかし、attentionによって全ての隠れ状態を参照できる様になった今、最後の隠れ状態に全ての情報が乗っている必要はなくなった。\n",
    "\n",
    "このとき、時間ごとの演算が繋がっている必要もない様に思える。適当なFFNで、独立して各時間の隠れ状態を出力すれば良いのではないかと。  \n",
    "ただ問題があり、それは入力文の語順が考慮されなくなってしまうことである。attentionは重み付き話を取るだけなので、順番を考慮する能力はない。重み付き和は順番に依らない。例を用いると、「私は猫が好きです」と「猫は私が好きです」がdecoderにとって同じ意味になってしまうということだ。  \n",
    "RNNはそれを回避するためにある、となる。"
   ]
  },
  {
   "cell_type": "markdown",
   "metadata": {},
   "source": [
    "逆に言えば、それさえ解消できればencoderの中にRNNは要らなくなるということだ。各時間で出力される隠れ状態になんらかの形で位置情報を埋め込めば良い。  \n",
    "RNNは再帰性を持つため、並列化ができず、学習に時間がかかるというデメリットがある。RNNを消すメリットはそこに存在する。"
   ]
  },
  {
   "cell_type": "markdown",
   "metadata": {},
   "source": [
    "位置情報の埋め込みは位置符号を足すことで実現される。位置符号は、位置ごとに一意に定められたベクトル。  \n",
    "位置符号を用意することが位置エンコーディングにあたる。"
   ]
  },
  {
   "cell_type": "markdown",
   "metadata": {},
   "source": [
    "例えば$(1, 1, \\cdots, 1), (2, 2, \\cdots, 2), \\cdots, (l, l, \\cdots, l)$というベクトルは位置符号である。\n",
    "\n",
    "$$\n",
    "PE_{(pos, i)} = pos\n",
    "$$\n",
    "\n",
    "- $pos$: 位置\n",
    "- $i$: 次元"
   ]
  },
  {
   "cell_type": "markdown",
   "metadata": {},
   "source": [
    "例として、5次元のデータに対する位置符号を考える。"
   ]
  },
  {
   "cell_type": "code",
   "execution_count": 6,
   "metadata": {},
   "outputs": [
    {
     "data": {
      "text/plain": [
       "tensor([[0, 0, 0, 0, 0],\n",
       "        [1, 1, 1, 1, 1],\n",
       "        [2, 2, 2, 2, 2],\n",
       "        [3, 3, 3, 3, 3]])"
      ]
     },
     "execution_count": 6,
     "metadata": {},
     "output_type": "execute_result"
    }
   ],
   "source": [
    "d = 5 # 次元\n",
    "length = 4 # 長さ\n",
    "ps = torch.arange(length).unsqueeze(1).broadcast_to(length, d) # 位置エンコーディング\n",
    "ps # 位置符号"
   ]
  },
  {
   "cell_type": "markdown",
   "metadata": {},
   "source": [
    "これをデータに足す。"
   ]
  },
  {
   "cell_type": "code",
   "execution_count": 7,
   "metadata": {},
   "outputs": [
    {
     "data": {
      "text/plain": [
       "tensor([[-0.1664,  0.9125, -1.0518, -0.2935, -0.5158],\n",
       "        [ 0.2564,  2.6195,  2.4767,  2.1123,  0.3464],\n",
       "        [ 1.8312,  1.0220,  1.3699,  2.8427,  1.2735],\n",
       "        [ 3.1249,  3.9024,  2.5908,  3.4378,  1.2159]])"
      ]
     },
     "execution_count": 7,
     "metadata": {},
     "output_type": "execute_result"
    }
   ],
   "source": [
    "x = torch.randn(length, d) # データ\n",
    "x = x + ps[:length] # 位置埋め込み\n",
    "x"
   ]
  },
  {
   "cell_type": "markdown",
   "metadata": {},
   "source": [
    "これで、位置情報がデータに足された、となる。  \n",
    "位置符号はヒートマップでよく表す。"
   ]
  },
  {
   "cell_type": "code",
   "execution_count": 8,
   "metadata": {},
   "outputs": [],
   "source": [
    "def heatmap(ps):\n",
    "    plt.figure(figsize=(10, 3))\n",
    "    plt.imshow(ps.numpy(), cmap='gray')\n",
    "    plt.colorbar()\n",
    "    plt.title('Positional Encoding')\n",
    "    plt.xlabel('dim')\n",
    "    plt.ylabel('pos')\n",
    "    plt.xticks([])\n",
    "    plt.yticks([]);"
   ]
  },
  {
   "cell_type": "code",
   "execution_count": 9,
   "metadata": {},
   "outputs": [
    {
     "data": {
      "image/png": "[encoded data removed]",
      "text/plain": [
       "<Figure size 1000x300 with 2 Axes>"
      ]
     },
     "metadata": {},
     "output_type": "display_data"
    }
   ],
   "source": [
    "heatmap(ps)"
   ]
  },
  {
   "cell_type": "markdown",
   "metadata": {},
   "source": [
    "### Transformerへの導入\n",
    "\n",
    "transformerでは、三角関数を用いた位置符号を用いる。\n",
    "\n",
    "$$\n",
    "PE_{(pos, 2i)} = \\sin(pos / 10000^{2i / d_{model}}) \\\\\n",
    "PE_{(pos, 2i + 1)} = \\cos(pos / 10000^{2i / d_{model}})\n",
    "$$\n",
    "\n",
    "- $d_{model}$: 隠れ状態の次元数\n",
    "\n",
    "次元が奇数か偶数かで$\\sin$と$\\cos$が変わる。\n",
    "\n",
    "この式である理由はなんだろうね。  \n",
    "googleさんが色々試して一番良かったやつ、と私は認識していて、それ以上を考える気は起きないので、おわり。"
   ]
  },
  {
   "cell_type": "markdown",
   "metadata": {},
   "source": [
    "層として実装してみよう。長さを入れるとそこまでの位置符号が返ってくる層。"
   ]
  },
  {
   "cell_type": "code",
   "execution_count": 10,
   "metadata": {},
   "outputs": [],
   "source": [
    "class PositionalEncoding(nn.Module):\n",
    "    def __init__(self, d_model: int, max_len: int = 1000):\n",
    "        super().__init__()\n",
    "        self.d_model = d_model\n",
    "        self.max_len = max_len\n",
    "        pe = self._get_pe()\n",
    "        self.register_buffer('pe', pe)\n",
    "\n",
    "    def forward(self, length: int):\n",
    "        pe = self.pe[:length]\n",
    "        return pe\n",
    "\n",
    "    def _get_pe(self):\n",
    "        pos = torch.arange(0, self.max_len).unsqueeze(1)\n",
    "        div = 10000 ** (torch.arange(0, self.d_model, 2) / self.d_model)\n",
    "        pe = torch.zeros(self.max_len, self.d_model)\n",
    "        pe[:, 0::2] = torch.sin(pos / div)\n",
    "        pe[:, 1::2] = torch.cos(pos / div)\n",
    "        return pe"
   ]
  },
  {
   "cell_type": "markdown",
   "metadata": {},
   "source": [
    "`_get_pe()`が数式の部分。位置符号をモデル（`nn.Module`）に紐づけるために`register_buffer()`を使う。\n",
    "\n",
    "ヒートマップはこう。"
   ]
  },
  {
   "cell_type": "code",
   "execution_count": 11,
   "metadata": {},
   "outputs": [
    {
     "data": {
      "image/png": "[encoded data removed]",
      "text/plain": [
       "<Figure size 1000x300 with 2 Axes>"
      ]
     },
     "metadata": {},
     "output_type": "display_data"
    }
   ],
   "source": [
    "d_model = 512\n",
    "length = 150\n",
    "pe = PositionalEncoding(d_model)\n",
    "ps = pe(length)\n",
    "heatmap(ps)"
   ]
  },
  {
   "cell_type": "markdown",
   "metadata": {},
   "source": [
    "位置符号を学習させるという手段もある。後にTransformerの発展系として発表されたBERTやGPTなどではそうされている。  "
   ]
  },
  {
   "cell_type": "markdown",
   "metadata": {},
   "source": [
    "\n",
    "---\n",
    "\n",
    "## Self-Attention\n",
    "\n",
    "入力とmemoryが同じattention。\n",
    "\n",
    "複数のデータがあり、その中の一つが入力、それ以外のデータがmemoryとなる。それ以外と書いたが、実際は入力もmemoryに含まれる。  \n",
    "「あるデータとそれ以外のデータのattention」を全てのデータで求め、各データに対応した新たなデータを得る。"
   ]
  },
  {
   "cell_type": "markdown",
   "metadata": {},
   "source": [
    "やってみよう。適当なデータを用意する。"
   ]
  },
  {
   "cell_type": "code",
   "execution_count": 12,
   "metadata": {},
   "outputs": [
    {
     "data": {
      "text/plain": [
       "tensor([[-0.0879,  1.4295, -0.5967, -0.3655,  0.5459],\n",
       "        [ 1.2615,  1.2643,  0.1394, -0.0372, -0.5065],\n",
       "        [-1.7865, -0.7370, -0.6705, -0.2303,  0.1054]])"
      ]
     },
     "execution_count": 12,
     "metadata": {},
     "output_type": "execute_result"
    }
   ],
   "source": [
    "n = 3\n",
    "d = 5\n",
    "x = torch.randn(n, d)\n",
    "x"
   ]
  },
  {
   "cell_type": "markdown",
   "metadata": {},
   "source": [
    "全てのデータでattentionを求める"
   ]
  },
  {
   "cell_type": "code",
   "execution_count": 13,
   "metadata": {},
   "outputs": [
    {
     "data": {
      "text/plain": [
       "tensor([[ 0.0976,  1.3299, -0.4679, -0.3026,  0.3441],\n",
       "        [ 1.1135,  1.2800,  0.0595, -0.0727, -0.3929],\n",
       "        [-1.7681, -0.7145, -0.6693, -0.2315,  0.1094]])"
      ]
     },
     "execution_count": 13,
     "metadata": {},
     "output_type": "execute_result"
    }
   ],
   "source": [
    "def attention(x, memory):\n",
    "    scores = x @ memory.T\n",
    "    weights = F.softmax(scores, dim=-1)\n",
    "    y = weights @ memory\n",
    "    return y\n",
    "\n",
    "y = []\n",
    "for xi in x:\n",
    "    yi = attention(xi, x)\n",
    "    y.append(yi)\n",
    "y = torch.stack(y)\n",
    "y"
   ]
  },
  {
   "cell_type": "markdown",
   "metadata": {},
   "source": [
    "以下のようにまとめられる。"
   ]
  },
  {
   "cell_type": "code",
   "execution_count": 14,
   "metadata": {},
   "outputs": [
    {
     "data": {
      "text/plain": [
       "tensor([[ 0.0976,  1.3299, -0.4679, -0.3026,  0.3441],\n",
       "        [ 1.1135,  1.2800,  0.0595, -0.0727, -0.3929],\n",
       "        [-1.7681, -0.7145, -0.6693, -0.2315,  0.1094]])"
      ]
     },
     "execution_count": 14,
     "metadata": {},
     "output_type": "execute_result"
    }
   ],
   "source": [
    "scores = x @ x.T\n",
    "weights = F.softmax(scores, dim=-1)\n",
    "y = weights @ x\n",
    "y"
   ]
  },
  {
   "cell_type": "markdown",
   "metadata": {},
   "source": [
    "数式にするとこうだね。\n",
    "\n",
    "$$\n",
    "\\text{Attention}(X) = \\text{softmax}(XX^T)X\n",
    "$$\n",
    "\n",
    "- $X\\in\\R^{n\\times d}$ : データ\n",
    "\n",
    "この入力とmemoryに同じデータを用いるattentionをself-attentionと呼ぶ。  \n",
    "また、これまでの様な異なるデータを用いるattentionをsource-target attentionと呼ぶ。"
   ]
  },
  {
   "cell_type": "markdown",
   "metadata": {},
   "source": [
    "### Transformerへの導入\n",
    "\n",
    "transformerのencoderでは、self-attentionを用いて隠れ状態を生成する。  \n",
    "self-attentionによって得られる新たなデータは、入力データ（単語）同士の照応関係をよく表すため、言語モデルで扱う特徴量として非常に優秀なのだ。"
   ]
  },
  {
   "cell_type": "markdown",
   "metadata": {},
   "source": [
    "層として実装するならこう。"
   ]
  },
  {
   "cell_type": "code",
   "execution_count": 15,
   "metadata": {},
   "outputs": [],
   "source": [
    "class SelfAttention(nn.Module):\n",
    "    def forward(self, x):\n",
    "        \"\"\"\n",
    "        x: (batch_size, seq_len, d_model)\n",
    "        \"\"\"\n",
    "        scores = x @ x.mT # (batch_size, seq_len, seq_len)\n",
    "        weights = F.softmax(scores, dim=-1)\n",
    "        y = weights @ x # (batch_size, seq_len, d_model)\n",
    "        return y"
   ]
  },
  {
   "cell_type": "markdown",
   "metadata": {},
   "source": [
    "\n",
    "---\n",
    "\n",
    "## Query-Key-Value Attention\n",
    "\n",
    "memoryをkeyとqueryに分ける手法。"
   ]
  },
  {
   "cell_type": "markdown",
   "metadata": {},
   "source": [
    "memoryに対して異なる線形変換を行い、二つのデータを得る。そのための線形層は当然学習される。  \n",
    "片方はkeyと呼ばれ、重みをとるために用いる。もう片方はvalueと呼ばれ、和をとるために用いる。\n",
    "\n",
    "keyとの内積をとるデータはqueryと呼ぶ。queryに入力をそのまま使うこともできるが、入力を適当に線形変換して得ることが多い。\n",
    "\n",
    "やってみよう。"
   ]
  },
  {
   "cell_type": "code",
   "execution_count": 16,
   "metadata": {},
   "outputs": [],
   "source": [
    "n = 3 # memoryの数（入力の数は1）\n",
    "d = 5 # 次元数\n",
    "\n",
    "x = torch.randn(d) # 入力\n",
    "memory = torch.randn(n, d) # memory\n",
    "\n",
    "fc_q = nn.Linear(d, d) # queryを生成する線形層\n",
    "fc_k = nn.Linear(d, d) # keyを生成する線形層\n",
    "fc_v = nn.Linear(d, d) # valueを生成する線形層"
   ]
  },
  {
   "cell_type": "code",
   "execution_count": 17,
   "metadata": {},
   "outputs": [
    {
     "data": {
      "text/plain": [
       "tensor([ 0.6663, -0.5917, -0.0772,  0.0682,  0.0875],\n",
       "       grad_fn=<SqueezeBackward4>)"
      ]
     },
     "execution_count": 17,
     "metadata": {},
     "output_type": "execute_result"
    }
   ],
   "source": [
    "query = fc_q(x) # query\n",
    "key = fc_k(memory) # key\n",
    "value = fc_v(memory) # value\n",
    "\n",
    "scores = query @ key.T # スコア\n",
    "weights = F.softmax(scores, dim=-1) # 重み\n",
    "y = weights @ value # 重み付き和\n",
    "y"
   ]
  },
  {
   "cell_type": "markdown",
   "metadata": {},
   "source": [
    "数式だとこうなる。\n",
    "\n",
    "$$\n",
    "\\text{Attention}(\\boldsymbol q,K,V) = \\text{softmax}(\\boldsymbol qK^T)V\n",
    "$$\n",
    "\n",
    "- $\\boldsymbol q=\\boldsymbol xW^q \\in\\R^d$ : query\n",
    "- $K=MW^K \\in\\R^{n\\times d}$ : key\n",
    "- $V=MW^V \\in\\R^{n\\times d}$ : value\n",
    "- $\\boldsymbol x\\in\\R^d$ : 入力\n",
    "- $M\\in\\R^{n\\times d}$ : memory\n",
    "- $W^q,W^K,W^V\\in\\R^{d\\times d}$ : 線形変換の重み"
   ]
  },
  {
   "cell_type": "markdown",
   "metadata": {},
   "source": [
    "複数の入力を考慮する場合はこう。\n",
    "\n",
    "$$\n",
    "\\text{Attention}(Q,K,V) = \\text{softmax}(QK^T)V\n",
    "$$\n",
    "\n",
    "- $Q=XW_q\\in\\R^{n_x\\times d}$ : query\n",
    "- $X\\in\\R^{n_x\\times d}$ : 入力"
   ]
  },
  {
   "cell_type": "markdown",
   "metadata": {},
   "source": [
    "データの次元数を一律で$d$としているが、queryとkey以外（入力、memory、value）は次元数が揃っていなくても良い。"
   ]
  },
  {
   "cell_type": "markdown",
   "metadata": {},
   "source": [
    "### Transformerへの導入\n",
    "\n",
    "transformerでは全てのattentionでこの手法を使う。  \n",
    "数式では以下の様に表される。\n",
    "\n",
    "$$\n",
    "\\text{Attention}(Q, K, V) = \\text{softmax}(\\frac{QK^T}{\\sqrt{d_k}})V\n",
    "$$\n",
    "\n",
    "$\\sqrt{d_k}$が増えた。これは何やねんって感じだけど、なんかこれがあるといいらしい。  \n",
    "$d_k$（keyの次元数）が大きくなると内積が大きくなってsoftmaxの勾配が小さくなるから$d_k$でスケーリングするって論文には書いてあった。"
   ]
  },
  {
   "cell_type": "markdown",
   "metadata": {},
   "source": [
    "層として実装してみる。  \n",
    "transformerでは入力とmemoryを同じ次元にするので、$d_{model}$とまとめる。それ以外（query・keyとvalue）は分ける。"
   ]
  },
  {
   "cell_type": "code",
   "execution_count": 18,
   "metadata": {},
   "outputs": [],
   "source": [
    "class Attention(nn.Module):\n",
    "    def __init__(self, d_model: int, d_k: int, d_v: int):\n",
    "        super().__init__()\n",
    "        self.fc_q = nn.Linear(d_model, d_k)\n",
    "        self.fc_k = nn.Linear(d_model, d_k)\n",
    "        self.fc_v = nn.Linear(d_model, d_v)\n",
    "        self.scale = 1 / (d_model ** 0.5)\n",
    "\n",
    "    def forward(self, x, memory, mask=None):\n",
    "        \"\"\"\n",
    "        x: (batch_size, seq_len_x, d_model)\n",
    "        memoryt: (batch_size, seq_len_m, d_model)\n",
    "        mask: (batch_size, seq_len_x, seq_len_m), etc.\n",
    "        \"\"\"\n",
    "        q = self.fc_q(x) # (batch_size, seq_len_x, d_k)\n",
    "        k = self.fc_k(memory) # (batch_size, seq_len_m, d_k)\n",
    "        v = self.fc_v(memory) # (batch_size, seq_len_m, d_v)\n",
    "        scores = q @ k.mT * self.scale # (batch_size, seq_len_i, seq_len_m)\n",
    "        if mask is not None:\n",
    "            scores.masked_fill_(mask, -torch.inf)\n",
    "        weights = F.softmax(scores, dim=-1)\n",
    "        y = weights @ v # (batch_size, seq_len_m, d_v)\n",
    "        return y"
   ]
  },
  {
   "cell_type": "markdown",
   "metadata": {},
   "source": [
    "\n",
    "---\n",
    "\n",
    "## Multi-Head Attention\n",
    "\n",
    "データを細かく分割して複数回attentionをとり、最後に結合する手法。  \n",
    "$d$次元を$h$個に分割し、それぞれでattentionを取って最後に結合するだけ。\n",
    "分割された各データはheadと呼ぶ。"
   ]
  },
  {
   "cell_type": "markdown",
   "metadata": {},
   "source": [
    "やってみよう。まず普通のattention。"
   ]
  },
  {
   "cell_type": "code",
   "execution_count": 19,
   "metadata": {},
   "outputs": [
    {
     "data": {
      "text/plain": [
       "tensor([ 1.0992, -2.9844,  1.1305, -0.6878, -0.0403, -1.3111,  0.4774, -0.1757])"
      ]
     },
     "execution_count": 19,
     "metadata": {},
     "output_type": "execute_result"
    }
   ],
   "source": [
    "def attention(x, memory):\n",
    "    \"\"\"\n",
    "    x: (d)\n",
    "    hs: (n, d)\n",
    "    \"\"\"\n",
    "    scores = x @ memory.T # (n,)\n",
    "    weights = F.softmax(scores, dim=-1)\n",
    "    y = weights @ memory # (d,)\n",
    "    return y\n",
    "\n",
    "n = 3\n",
    "d = 8\n",
    "x = torch.randn(d)\n",
    "memory = torch.randn(n, d)\n",
    "\n",
    "y = attention(x, memory)\n",
    "y"
   ]
  },
  {
   "cell_type": "markdown",
   "metadata": {},
   "source": [
    "これをmulti-headに進化させる。  \n",
    "まず入力と隠れ状態を指定したヘッド数に分割する。"
   ]
  },
  {
   "cell_type": "code",
   "execution_count": 20,
   "metadata": {},
   "outputs": [],
   "source": [
    "h = 2 # ヘッド数"
   ]
  },
  {
   "cell_type": "code",
   "execution_count": 21,
   "metadata": {},
   "outputs": [
    {
     "data": {
      "text/plain": [
       "(tensor([-0.4166, -1.1150,  0.3030, -1.3358]),\n",
       " tensor([ 0.3356,  0.4983, -0.6093,  0.7648]))"
      ]
     },
     "execution_count": 21,
     "metadata": {},
     "output_type": "execute_result"
    }
   ],
   "source": [
    "# 入力の分割\n",
    "x_head = torch.tensor_split(x, h)\n",
    "x_head"
   ]
  },
  {
   "cell_type": "code",
   "execution_count": 22,
   "metadata": {},
   "outputs": [
    {
     "data": {
      "text/plain": [
       "(tensor([[ 2.0873,  1.1547, -1.1929, -0.6901],\n",
       "         [ 1.1653,  0.3960, -1.1898,  0.8893],\n",
       "         [ 1.0915, -3.0201,  1.1510, -0.6895]]),\n",
       " tensor([[-0.0523,  0.3660, -0.4621, -0.8173],\n",
       "         [-1.7864,  0.0846,  2.2199,  0.8211],\n",
       "         [-0.0384, -1.3256,  0.4829, -0.1718]]))"
      ]
     },
     "execution_count": 22,
     "metadata": {},
     "output_type": "execute_result"
    }
   ],
   "source": [
    "# 隠れ状態の分割\n",
    "memory_head = torch.tensor_split(memory, h, dim=-1)\n",
    "memory_head"
   ]
  },
  {
   "cell_type": "code",
   "execution_count": 23,
   "metadata": {},
   "outputs": [
    {
     "data": {
      "text/plain": [
       "[tensor([ 1.0946, -3.0029,  1.1408, -0.6874]),\n",
       " tensor([-0.3817, -0.0775,  0.2698, -0.3544])]"
      ]
     },
     "execution_count": 23,
     "metadata": {},
     "output_type": "execute_result"
    }
   ],
   "source": [
    "# 別々にattentionを計算\n",
    "ys = []\n",
    "for x, memory in zip(x_head, memory_head):\n",
    "    y = attention(x, memory)\n",
    "    ys.append(y)\n",
    "ys"
   ]
  },
  {
   "cell_type": "code",
   "execution_count": 24,
   "metadata": {},
   "outputs": [
    {
     "data": {
      "text/plain": [
       "tensor([ 1.0946, -3.0029,  1.1408, -0.6874, -0.3817, -0.0775,  0.2698, -0.3544])"
      ]
     },
     "execution_count": 24,
     "metadata": {},
     "output_type": "execute_result"
    }
   ],
   "source": [
    "# 結合する\n",
    "y = torch.cat(ys)\n",
    "y"
   ]
  },
  {
   "cell_type": "markdown",
   "metadata": {},
   "source": [
    "式にするとこう。\n",
    "\n",
    "$$\n",
    "\\text{MultiHeadAttention}(\\boldsymbol x,M) = \\text{Concat}(\\text{head}_1,\\cdots,\\text{head}_h)  \\\\ \n",
    "\\text{head}_i = \\text{Attention}(\\boldsymbol x_i,M_i)\n",
    "$$\n",
    "\n",
    "- $\\boldsymbol x_i\\in\\R^{(d/h)}$ : 分割した$i$番目の入力\n",
    "- $M_i\\in\\R^{n\\times(d/h)}$ : 分割した$i$番目のmemory\n",
    "\n",
    "複数入力を考慮する場合は$\\boldsymbol x$が行列になるだけ。"
   ]
  },
  {
   "cell_type": "markdown",
   "metadata": {},
   "source": [
    "### Transformerへの導入\n",
    "\n",
    "transformerで使われる層として実装してみよう。  \n",
    "transformerでは、QKVを用いた上で、結合した後に線形変換を行う。\n",
    "\n",
    "$$\n",
    "\\text{MultiHeadAttention}(Q,K,V) = \\text{Concat}(\\text{head}_1,\\cdots,\\text{head}_h)  \\\\\n",
    "\\text{head}_i = \\text{Attention}(QW^Q_i,KW^K_i,VW^V_i)\n",
    "$$\n",
    "\n",
    "$$\n",
    "W^Q_i \\in \\mathbb R^{d_{model} \\times d_k} \\\\\n",
    "W^K_i \\in \\mathbb R^{d_{model} \\times d_k} \\\\\n",
    "W^V_i \\in \\mathbb R^{d_{model} \\times d_v} \\\\\n",
    "W^O_i \\in \\mathbb R^{h d_v \\times d_{model}}\n",
    "$$\n",
    "\n",
    "- $h$: ヘッド数\n",
    "- $d_{model}$: 入力・memoryの次元数\n",
    "- $d_k$: query・keyの次元数\n",
    "- $d_v$: valueの次元数\n",
    "- $Q$: 入力\n",
    "- $K, V$: memory\n",
    "\n",
    "たいていは$d_k=d_v=d_{model}/h$とする。  \n",
    "QKVへの線形変換+スライス（各headへの分割）が$d_k,d_v$への線形変換としてまとまっているということ。"
   ]
  },
  {
   "cell_type": "markdown",
   "metadata": {},
   "source": [
    "じっそうしてみよう。"
   ]
  },
  {
   "cell_type": "code",
   "execution_count": 25,
   "metadata": {},
   "outputs": [],
   "source": [
    "class MultiHeadAttention(nn.Module):\n",
    "    def __init__(self, d_model: int, n_heads: int):\n",
    "        super().__init__()\n",
    "        self.fc_q = nn.Linear(d_model, d_model)\n",
    "        self.fc_k = nn.Linear(d_model, d_model)\n",
    "        self.fc_v = nn.Linear(d_model, d_model)\n",
    "        self.fc_o = nn.Linear(d_model, d_model)\n",
    "        self.n_heads = n_heads\n",
    "        self.scale = 1 / (d ** 0.5)\n",
    "\n",
    "    def forward(self, query, key, value, mask=None):\n",
    "        \"\"\"\n",
    "        query: (batch_size, seq_len_x, d_model)\n",
    "        key: (batch_size, seq_len_m, d_model)\n",
    "        value: (batch_size, seq_len_m, d_model)\n",
    "        mask: (batch_size, seq_len_x, seq_len_m), etc.\n",
    "        \"\"\"\n",
    "        q = self.fc_q(query) # (batch_size, seq_len_x, d_model)\n",
    "        k = self.fc_k(key) # (batch_size, seq_len_m, d_model)\n",
    "        v = self.fc_v(value) # (batch_size, seq_len_m, d_model)\n",
    "\n",
    "        q = self._split(q) # (n_heads, batch_size, seq_len_x, d_k)\n",
    "        k = self._split(k) # (n_heads, batch_size, seq_len_m, d_k)\n",
    "        v = self._split(v) # (n_heads, batch_size, seq_len_m, d_v)\n",
    "\n",
    "        scores = q @ k.mT * self.scale # (n_heads, batch_size, seq_len_x, seq_len_m)\n",
    "        if mask is not None:\n",
    "            scores.masked_fill_(mask, -torch.inf)\n",
    "        weights = F.softmax(scores, dim=-1)\n",
    "        y = weights @ v # (n_heads, batch_size, seq_len_x, d_v)\n",
    "\n",
    "        y = self._concat(y) # (batch_size, seq_len_x, d_model)\n",
    "        y = self.fc_o(y) # (batch_size, seq_len_x, d_model)\n",
    "        return y\n",
    "\n",
    "    def _split(self, x):\n",
    "        y = torch.stack(torch.tensor_split(x, self.n_heads, dim=-1))\n",
    "            # (n_heads, batch_size, seq_len, d_k or d_v)\n",
    "        return y\n",
    "\n",
    "    def _concat(self, x):\n",
    "        y = torch.cat(torch.unbind(x, dim=0), dim=-1)\n",
    "            # (batch_size, seq_len, d_model)\n",
    "        return y"
   ]
  },
  {
   "cell_type": "markdown",
   "metadata": {},
   "source": [
    "$d_k=d_v=d_{model}/h$とした。  \n",
    "線形層でQKVに変換した後、`tensor_split()`で各headへ分割している。"
   ]
  },
  {
   "cell_type": "code",
   "execution_count": 26,
   "metadata": {},
   "outputs": [
    {
     "data": {
      "text/plain": [
       "torch.Size([2, 3, 512])"
      ]
     },
     "execution_count": 26,
     "metadata": {},
     "output_type": "execute_result"
    }
   ],
   "source": [
    "d_model = 512\n",
    "n_heads = 8\n",
    "mha = MultiHeadAttention(d_model, n_heads)\n",
    "\n",
    "batch_size = 2\n",
    "seq_len = 3\n",
    "x = torch.randn(batch_size, seq_len, d_model)\n",
    "q = k = v = x\n",
    "y = mha(q, k, v)\n",
    "y.shape"
   ]
  },
  {
   "cell_type": "markdown",
   "metadata": {},
   "source": [
    "この層はpytorchにも用意されている。  \n",
    "https://pytorch.org/docs/stable/generated/torch.nn.MultiheadAttention.html"
   ]
  },
  {
   "cell_type": "code",
   "execution_count": 27,
   "metadata": {},
   "outputs": [
    {
     "data": {
      "text/plain": [
       "(torch.Size([2, 3, 512]), torch.Size([3, 2, 2]))"
      ]
     },
     "execution_count": 27,
     "metadata": {},
     "output_type": "execute_result"
    }
   ],
   "source": [
    "mha = nn.MultiheadAttention(d_model, h)\n",
    "y, weights = mha(q, k, v)\n",
    "y.shape, weights.shape"
   ]
  },
  {
   "cell_type": "code",
   "execution_count": 28,
   "metadata": {},
   "outputs": [
    {
     "name": "stdout",
     "output_type": "stream",
     "text": [
      "torch.Size([1536, 512])\n",
      "torch.Size([1536])\n",
      "torch.Size([512, 512])\n",
      "torch.Size([512])\n"
     ]
    }
   ],
   "source": [
    "for params in mha.parameters():\n",
    "    print(params.shape)"
   ]
  },
  {
   "cell_type": "markdown",
   "metadata": {},
   "source": [
    "$W^Q, W^K, W^V$が一つにまとまっているようだ。"
   ]
  },
  {
   "cell_type": "code",
   "execution_count": 29,
   "metadata": {},
   "outputs": [
    {
     "name": "stdout",
     "output_type": "stream",
     "text": [
      "torch.Size([1536, 512])\n"
     ]
    },
    {
     "data": {
      "text/plain": [
       "(1536, 1536, 1536)"
      ]
     },
     "execution_count": 29,
     "metadata": {},
     "output_type": "execute_result"
    }
   ],
   "source": [
    "params = next(mha.parameters())\n",
    "print(params.shape)\n",
    "params.shape[0], params.shape[1]*3, d_model*3"
   ]
  },
  {
   "cell_type": "markdown",
   "metadata": {},
   "source": [
    "\n",
    "---\n",
    "\n",
    "## Transformer Encoder\n",
    "\n",
    "さて、ようやくtransformerの実装に必要な層が得られた。"
   ]
  },
  {
   "cell_type": "code",
   "execution_count": 30,
   "metadata": {},
   "outputs": [],
   "source": [
    "class FeedForwardNetwork(nn.Module):\n",
    "    def __init__(self, d_model: int, d_ff: int):\n",
    "        super().__init__()\n",
    "        self.net = nn.Sequential(\n",
    "            nn.Linear(d_model, d_ff),\n",
    "            nn.ReLU(),\n",
    "            nn.Linear(d_ff, d_model),\n",
    "        )\n",
    "\n",
    "    def forward(self, x):\n",
    "        \"\"\"\n",
    "        x: (batch_size, seq_len, d_model)\n",
    "        \"\"\"\n",
    "        y = self.net(x)\n",
    "        return y"
   ]
  },
  {
   "cell_type": "code",
   "execution_count": 31,
   "metadata": {},
   "outputs": [],
   "source": [
    "def add_norm(sublayer):\n",
    "    def f(module: nn.Module, x: torch.Tensor, *args, **kwargs):\n",
    "        hs = sublayer(module, x, *args, **kwargs)\n",
    "        hs = module.norm(hs + x)\n",
    "        return hs\n",
    "    return f\n",
    "\n",
    "class EncoderLayer(nn.Module):\n",
    "    def __init__(\n",
    "        self,\n",
    "        d_model: int,\n",
    "        n_heads: int,\n",
    "        d_ff: int,\n",
    "    ):\n",
    "        super().__init__()\n",
    "        self._mha = nn.MultiheadAttention(d_model, n_heads, batch_first=True)\n",
    "        self._ffn = FeedForwardNetwork(d_model, d_ff)\n",
    "        self.norm = nn.LayerNorm(d_model)\n",
    "\n",
    "    def forward(self, x, pad_mask=None):\n",
    "        \"\"\"\n",
    "        x: (batch_size, seq_len, embed_size)\n",
    "        \"\"\"\n",
    "        q = k = v = x\n",
    "        hs = self.mha(q, k, v, pad_mask)\n",
    "        hs = self.ffn(hs)\n",
    "        return hs\n",
    "\n",
    "    @add_norm\n",
    "    def mha(self, q, k, v, pad_mask, *args, **kwargs):\n",
    "        y, _ = self._mha(q, k, v, key_padding_mask=pad_mask, *args, **kwargs)\n",
    "        return y\n",
    "\n",
    "    @add_norm\n",
    "    def ffn(self, *args, **kwargs):\n",
    "        y = self._ffn(*args, **kwargs)\n",
    "        return y"
   ]
  },
  {
   "cell_type": "code",
   "execution_count": 32,
   "metadata": {},
   "outputs": [],
   "source": [
    "d_model = 512\n",
    "n_heads = 8\n",
    "d_ff = 2048\n",
    "encoder_layer = EncoderLayer(d_model, n_heads, d_ff)"
   ]
  },
  {
   "cell_type": "code",
   "execution_count": 33,
   "metadata": {},
   "outputs": [
    {
     "data": {
      "text/plain": [
       "torch.Size([2, 3, 512])"
      ]
     },
     "execution_count": 33,
     "metadata": {},
     "output_type": "execute_result"
    }
   ],
   "source": [
    "batch_size = 2\n",
    "seq_len = 3\n",
    "x = torch.randn(batch_size, seq_len, d_model)\n",
    "y = encoder_layer(x)\n",
    "y.shape"
   ]
  },
  {
   "cell_type": "code",
   "execution_count": 34,
   "metadata": {},
   "outputs": [],
   "source": [
    "class Encoder(nn.Module):\n",
    "    def __init__(self, n_layers, n_vocab, d_model, max_len, n_heads, d_ff):\n",
    "        super().__init__()\n",
    "        self.n_layers = n_layers\n",
    "        self.embedding = nn.Embedding(n_vocab, d_model)\n",
    "        self.pe = PositionalEncoding(d_model, max_len)\n",
    "        self.encoder_layer = EncoderLayer(d_model, n_heads, d_ff)\n",
    "\n",
    "    def forward(self, x, pad_mask=None):\n",
    "        \"\"\"\n",
    "        x: (batch_size, seq_len)\n",
    "        \"\"\"\n",
    "        x = self.embedding(x)\n",
    "        hs = x + self.pe(x.shape[1])\n",
    "        for _ in range(self.n_layers):\n",
    "            hs = self.encoder_layer(hs, pad_mask)\n",
    "        return hs"
   ]
  },
  {
   "cell_type": "code",
   "execution_count": 35,
   "metadata": {},
   "outputs": [
    {
     "data": {
      "text/plain": [
       "torch.Size([2, 3, 512])"
      ]
     },
     "execution_count": 35,
     "metadata": {},
     "output_type": "execute_result"
    }
   ],
   "source": [
    "n_layers = 6\n",
    "n_vocab = 8000\n",
    "d_model = 512\n",
    "max_len = 1000\n",
    "n_heads = 8\n",
    "d_ff = 2048\n",
    "encoder = Encoder(n_layers, n_vocab, d_model, max_len, n_heads, d_ff)\n",
    "\n",
    "batch_size = 2\n",
    "seq_len = 3\n",
    "x = torch.randint(0, 100, (batch_size, seq_len))\n",
    "encoder(x).shape"
   ]
  },
  {
   "cell_type": "markdown",
   "metadata": {},
   "source": [
    "\n",
    "---\n",
    "\n",
    "## Transformer Decoder"
   ]
  },
  {
   "cell_type": "code",
   "execution_count": 36,
   "metadata": {},
   "outputs": [],
   "source": [
    "def get_attn_mask(l: int):\n",
    "    \"\"\"\n",
    "    l: (batch_size, seq_len)\n",
    "    \"\"\"\n",
    "    mask = torch.ones(l, l).triu(1).bool()\n",
    "    return mask\n",
    "\n",
    "\n",
    "class DecoderLayer(EncoderLayer):\n",
    "    def __init__(\n",
    "        self,\n",
    "        d_model: int,\n",
    "        n_heads: int,\n",
    "        d_ff: int,\n",
    "    ):\n",
    "        super().__init__(d_model, n_heads, d_ff)\n",
    "        self._mha_enc = nn.MultiheadAttention(d_model, n_heads, batch_first=True)\n",
    "\n",
    "    def forward(self, x, hs_enc, pad_mask=None, enc_pad_mask=None):\n",
    "        \"\"\"\n",
    "        x: (batch_size, seq_len, embed_size)\n",
    "        \"\"\"\n",
    "        hs = self.mha_self(x, x, x, pad_mask)\n",
    "        hs = self.mha_enc(hs, hs_enc, hs_enc, enc_pad_mask)\n",
    "        hs = self.ffn(hs)\n",
    "        return hs\n",
    "\n",
    "    @add_norm\n",
    "    def mha_self(self, q, k, v, pad_mask, *args, **kwargs):\n",
    "        attn_mask = get_attn_mask(q.shape[1]).to(device)\n",
    "        y, _ = self._mha(\n",
    "            q, k, v,\n",
    "            key_padding_mask=pad_mask,\n",
    "            attn_mask=attn_mask,\n",
    "            *args,\n",
    "            **kwargs\n",
    "        )\n",
    "        return y\n",
    "\n",
    "    @add_norm\n",
    "    def mha_enc(self, q, k, v, pad_mask, *args, **kwargs):\n",
    "        \"\"\"\n",
    "        x: (batch_size, seq_len, embed_size)\n",
    "        memory: (batch_size, seq_len, embed_size)\n",
    "        \"\"\"\n",
    "        hs, _ = self._mha_enc(q, k, v, key_padding_mask=pad_mask, *args, **kwargs)\n",
    "        return hs\n"
   ]
  },
  {
   "cell_type": "code",
   "execution_count": 37,
   "metadata": {},
   "outputs": [],
   "source": [
    "class Decoder(nn.Module):\n",
    "    def __init__(self, n_layers, n_vocab, d_model, max_len, n_heads, d_ff):\n",
    "        super().__init__()\n",
    "        self.n_layers = n_layers\n",
    "        self.embedding = nn.Embedding(n_vocab, d_model)\n",
    "        self.pe = PositionalEncoding(d_model, max_len)\n",
    "        self.decoder_layer = DecoderLayer(d_model, n_heads, d_ff)\n",
    "        self.fc = nn.Linear(d_model, n_vocab)\n",
    "\n",
    "    def forward(self, x, hs_enc, pad_mask=None, enc_pad_mask=None):\n",
    "        \"\"\"\n",
    "        x: (batch_size, seq_len)\n",
    "        hs_enc: (batch_size, seq_len, d_model)\n",
    "        \"\"\"\n",
    "        x = self.embedding(x)\n",
    "        hs = x + self.pe(x.shape[1])\n",
    "        for _ in range(self.n_layers):\n",
    "            hs = self.decoder_layer(hs, hs_enc, pad_mask, enc_pad_mask)\n",
    "        y = self.fc(hs)\n",
    "        return y"
   ]
  },
  {
   "cell_type": "markdown",
   "metadata": {},
   "source": [
    "\n",
    "---\n",
    "\n",
    "## Transformer"
   ]
  },
  {
   "cell_type": "code",
   "execution_count": 38,
   "metadata": {},
   "outputs": [],
   "source": [
    "class Transformer(nn.Module):\n",
    "    def __init__(\n",
    "        self,\n",
    "        n_layers: int,\n",
    "        n_vocab_in: int,\n",
    "        n_vocab_out: int,\n",
    "        d_model: int,\n",
    "        max_len: int,\n",
    "        n_heads: int,\n",
    "        d_ff: int,\n",
    "    ):\n",
    "        super().__init__()\n",
    "        self.encoder = Encoder(n_layers, n_vocab_in, d_model, max_len, n_heads, d_ff)\n",
    "        self.decoder = Decoder(n_layers, n_vocab_out, d_model, max_len, n_heads, d_ff)\n",
    "\n",
    "    def forward(self, x_enc, x_dec):\n",
    "        \"\"\"\n",
    "        x_enc: (batch_size, seq_len)\n",
    "        x_dec: (batch_size, seq_len)\n",
    "        \"\"\"\n",
    "        enc_pad_mask = x_enc == pad_id\n",
    "        dec_pad_mask = x_dec == pad_id\n",
    "        hs = self.encoder(x_enc, enc_pad_mask)\n",
    "        y = self.decoder(x_dec, hs, dec_pad_mask, enc_pad_mask)\n",
    "        return y"
   ]
  },
  {
   "cell_type": "markdown",
   "metadata": {},
   "source": [
    "学習。"
   ]
  },
  {
   "cell_type": "code",
   "execution_count": 39,
   "metadata": {},
   "outputs": [],
   "source": [
    "cross_entropy = nn.CrossEntropyLoss(ignore_index=pad_id)\n",
    "def loss_fn(y, t):\n",
    "    loss = cross_entropy(y.reshape(-1, n_vocab_ja), t.ravel())\n",
    "    return loss\n",
    "\n",
    "def eval_model(model):\n",
    "    model.eval()\n",
    "    losses = []\n",
    "    with torch.no_grad():\n",
    "        for x_enc, x_dec, y_dec in test_loader:\n",
    "            x_enc = x_enc.to(device)\n",
    "            x_dec = x_dec.to(device)\n",
    "            y_dec = y_dec.to(device)\n",
    "            y = model(x_enc, x_dec)\n",
    "            loss = loss_fn(y, y_dec)\n",
    "            losses.append(loss.item())\n",
    "    loss = sum(losses) / len(losses)\n",
    "    return loss\n",
    "\n",
    "def train(model, optimizer, n_epochs, prog_unit=1):\n",
    "    prog.start(n_iter=len(train_loader), n_epochs=n_epochs, unit=prog_unit)\n",
    "    for _ in range(n_epochs):\n",
    "        model.train()\n",
    "        for x_enc, x_dec, y_dec in train_loader:\n",
    "            optimizer.zero_grad()\n",
    "            x_enc = x_enc.to(device)\n",
    "            x_dec = x_dec.to(device)\n",
    "            y_dec = y_dec.to(device)\n",
    "\n",
    "            y = model(x_enc, x_dec)\n",
    "            loss = loss_fn(y, y_dec)\n",
    "            loss.backward()\n",
    "            optimizer.step()\n",
    "            prog.update(loss.item())\n",
    "\n",
    "        if prog.now_epoch % prog_unit == 0:\n",
    "            test_loss = eval_model(model)\n",
    "            prog.memo(f'test: {test_loss:.5f}', no_step=True)\n",
    "        prog.memo()"
   ]
  },
  {
   "cell_type": "code",
   "execution_count": 40,
   "metadata": {},
   "outputs": [],
   "source": [
    "n_layers = 6\n",
    "n_vocab_in = n_vocab_ja\n",
    "n_vocab_out = n_vocab_en\n",
    "d_model = 512\n",
    "max_len = 1000\n",
    "n_heads = 8\n",
    "d_ff = 2048\n",
    "model = Transformer(\n",
    "    n_layers,\n",
    "    n_vocab_in,\n",
    "    n_vocab_out,\n",
    "    d_model,\n",
    "    max_len,\n",
    "    n_heads,\n",
    "    d_ff,\n",
    ").to(device)\n",
    "optimizer = optim.Adam(model.parameters(), lr=1e-4)"
   ]
  },
  {
   "cell_type": "code",
   "execution_count": 41,
   "metadata": {},
   "outputs": [
    {
     "name": "stdout",
     "output_type": "stream",
     "text": [
      " 1/20: ############################## 100% [00:00:27.16] loss train: 6.24157 "
     ]
    },
    {
     "name": "stderr",
     "output_type": "stream",
     "text": [
      "/home/komiya/.pyenv/versions/miniforge3-4.10.3-10/envs/nlp/lib/python3.11/site-packages/torch/nn/modules/activation.py:1160: UserWarning: Converting mask without torch.bool dtype to bool; this will negatively affect performance. Prefer to use a boolean mask directly. (Triggered internally at ../aten/src/ATen/native/transformers/attention.cpp:150.)\n",
      "  return torch._native_multi_head_attention(\n"
     ]
    },
    {
     "name": "stdout",
     "output_type": "stream",
     "text": [
      " 1/20: ############################## 100% [00:00:27.16] loss train: 6.24157, test: 5.64979 \n",
      " 2/20: ############################## 100% [00:00:26.08] loss train: 5.39110, test: 5.31804 \n",
      " 3/20: ############################## 100% [00:00:26.52] loss train: 5.08009, test: 5.16014 \n",
      " 4/20: ############################## 100% [00:00:26.24] loss train: 4.86333, test: 5.07730 \n",
      " 5/20: ############################## 100% [00:00:26.74] loss train: 4.67594, test: 5.01064 \n",
      " 6/20: ############################## 100% [00:00:26.72] loss train: 4.50259, test: 4.97164 \n",
      " 7/20: ############################## 100% [00:00:26.56] loss train: 4.33613, test: 4.95098 \n",
      " 8/20: ############################## 100% [00:00:26.96] loss train: 4.17470, test: 4.94801 \n",
      " 9/20: ############################## 100% [00:00:26.80] loss train: 4.01094, test: 4.96591 \n",
      "10/20: ############################## 100% [00:00:26.58] loss train: 3.84469, test: 5.00667 \n",
      "11/20: ############################## 100% [00:00:26.78] loss train: 3.68029, test: 5.01988 \n",
      "12/20: ############################## 100% [00:00:26.88] loss train: 3.50941, test: 5.09268 \n",
      "13/20: ############################## 100% [00:00:26.63] loss train: 3.33482, test: 5.13851 \n",
      "14/20: ############################## 100% [00:00:26.65] loss train: 3.15593, test: 5.22206 \n",
      "15/20: ############################## 100% [00:00:26.48] loss train: 2.97666, test: 5.27239 \n",
      "16/20: ############################## 100% [00:00:26.56] loss train: 2.79042, test: 5.39617 \n",
      "17/20: ############################## 100% [00:00:26.69] loss train: 2.59740, test: 5.47189 \n",
      "18/20: ############################## 100% [00:00:26.49] loss train: 2.40217, test: 5.56586 \n",
      "19/20: ############################## 100% [00:00:26.64] loss train: 2.19777, test: 5.70246 \n",
      "20/20: ############################## 100% [00:00:26.51] loss train: 1.99881, test: 5.83441 \n"
     ]
    }
   ],
   "source": [
    "train(model, optimizer, n_epochs=20)"
   ]
  },
  {
   "cell_type": "code",
   "execution_count": null,
   "metadata": {},
   "outputs": [],
   "source": []
  }
 ],
 "metadata": {
  "kernelspec": {
   "display_name": "nlp",
   "language": "python",
   "name": "python3"
  },
  "language_info": {
   "codemirror_mode": {
    "name": "ipython",
    "version": 3
   },
   "file_extension": ".py",
   "mimetype": "text/x-python",
   "name": "python",
   "nbconvert_exporter": "python",
   "pygments_lexer": "ipython3",
   "version": "3.11.3"
  },
  "orig_nbformat": 4
 },
 "nbformat": 4,
 "nbformat_minor": 2
}
